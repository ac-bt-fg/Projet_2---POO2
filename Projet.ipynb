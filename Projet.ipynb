{
 "cells": [
  {
   "cell_type": "markdown",
   "metadata": {},
   "source": [
    "Partie 1"
   ]
  },
  {
   "cell_type": "code",
   "execution_count": 40,
   "metadata": {},
   "outputs": [],
   "source": [
    "import pandas as pd\n",
    "import networkx as nx\n",
    "import matplotlib.pyplot as plt\n",
    "import csv\n",
    "import folium\n",
    "import folium.plugins\n",
    "\n",
    "%matplotlib inline\n"
   ]
  },
  {
   "cell_type": "code",
   "execution_count": 41,
   "metadata": {},
   "outputs": [
    {
     "name": "stdout",
     "output_type": "stream",
     "text": [
      "                  id   latitude  longitude  population\n",
      "0          Amsterdam  52.379189   4.899431      821752\n",
      "1            Utrecht  52.092876   5.104480      334176\n",
      "2           Den Haag  52.078663   4.288788      514861\n",
      "3          Immingham  53.612390  -0.222190        9642\n",
      "4          Doncaster  53.522850  -1.131160      302400\n",
      "5   Hoek van Holland  51.977500   4.133330        9382\n",
      "6         Felixstowe  51.963750   1.351100       23689\n",
      "7            Ipswich  52.059170   1.155450      133384\n",
      "8         Colchester  51.889210   0.904210      104390\n",
      "9             London  51.509865  -0.118092     8787892\n",
      "10         Rotterdam  51.922500   4.479170      623652\n",
      "11             Gouda  52.016670   4.708330       70939\n"
     ]
    }
   ],
   "source": [
    "transport_nodes = pd.read_csv('transport-nodes.csv')\n",
    "print(transport_nodes.to_string())"
   ]
  },
  {
   "cell_type": "code",
   "execution_count": 42,
   "metadata": {},
   "outputs": [
    {
     "name": "stdout",
     "output_type": "stream",
     "text": [
      "                 src               dst relationship  cost\n",
      "0          Amsterdam           Utrecht        EROAD    46\n",
      "1          Amsterdam          Den Haag        EROAD    59\n",
      "2           Den Haag         Rotterdam        EROAD    26\n",
      "3          Amsterdam         Immingham        EROAD   369\n",
      "4          Immingham         Doncaster        EROAD    74\n",
      "5          Doncaster            London        EROAD   277\n",
      "6   Hoek van Holland          Den Haag        EROAD    27\n",
      "7         Felixstowe  Hoek van Holland        EROAD   207\n",
      "8            Ipswich        Felixstowe        EROAD    22\n",
      "9         Colchester           Ipswich        EROAD    32\n",
      "10            London        Colchester        EROAD   106\n",
      "11             Gouda         Rotterdam        EROAD    25\n",
      "12             Gouda           Utrecht        EROAD    35\n",
      "13          Den Haag             Gouda        EROAD    32\n",
      "14  Hoek van Holland         Rotterdam        EROAD    33\n"
     ]
    }
   ],
   "source": [
    "transport_relationships = pd.read_csv('transport-relationships.csv')\n",
    "print(transport_relationships.to_string())"
   ]
  },
  {
   "cell_type": "code",
   "execution_count": 43,
   "metadata": {},
   "outputs": [
    {
     "data": {
      "text/plain": [
       "<Figure size 1080x576 with 0 Axes>"
      ]
     },
     "execution_count": 43,
     "metadata": {},
     "output_type": "execute_result"
    },
    {
     "data": {
      "text/plain": [
       "<Figure size 1080x576 with 0 Axes>"
      ]
     },
     "metadata": {},
     "output_type": "display_data"
    }
   ],
   "source": [
    "\n",
    "relationships = transport_relationships[['src', 'dst']]\n",
    "population_list = []\n",
    "G = nx.Graph()\n",
    "G = nx.from_pandas_edgelist(relationships, 'src', 'dst')\n",
    "\n",
    "for n in G.nodes:\n",
    "    i = 0\n",
    "    while(i != len(transport_nodes.id)):\n",
    "        if n == transport_nodes.id[i]:\n",
    "            population_list.append(transport_nodes.population[i]/550)\n",
    "        i += 1\n",
    "\n",
    "plt.figure(figsize=(15, 8))\n",
    "# nx.draw(G, with_labels=True, edge_color='red', width=3, node_color='yellow', node_size=population_list)\n",
    "# dict(G.nodes.data())\n"
   ]
  },
  {
   "cell_type": "code",
   "execution_count": 44,
   "metadata": {},
   "outputs": [],
   "source": [
    "def ajouterAttribut(myGraphe, dfnode, nameAttr, Index):\n",
    "    nodes = dfnode[[Index, nameAttr]]\n",
    "    node_attr = nodes.set_index(Index).to_dict('index')\n",
    "    nx.set_node_attributes(myGraphe, node_attr)"
   ]
  },
  {
   "cell_type": "code",
   "execution_count": 45,
   "metadata": {},
   "outputs": [],
   "source": [
    "ajouterAttribut(G, transport_nodes, 'latitude', 'id')\n",
    "ajouterAttribut(G, transport_nodes, 'longitude', 'id')\n",
    "ajouterAttribut(G, transport_nodes, 'population', 'id')"
   ]
  },
  {
   "cell_type": "code",
   "execution_count": 46,
   "metadata": {},
   "outputs": [],
   "source": [
    "# dict(G.nodes.data())"
   ]
  },
  {
   "cell_type": "code",
   "execution_count": 47,
   "metadata": {},
   "outputs": [],
   "source": [
    "\n",
    "basemap = folium.Map(location=[52.3791890, 4.899431],zoom_start=5, tiles='Stamen Toner')\n"
   ]
  },
  {
   "cell_type": "code",
   "execution_count": 48,
   "metadata": {},
   "outputs": [],
   "source": [
    "# basemap"
   ]
  },
  {
   "cell_type": "code",
   "execution_count": 49,
   "metadata": {},
   "outputs": [],
   "source": [
    "def marker(g):\n",
    "    for i in g.nodes:\n",
    "        nodes = dict(G.nodes.data())\n",
    "        latitude = nodes[i]['latitude']\n",
    "        longitude = nodes[i]['longitude']\n",
    "        folium.Marker(\n",
    "            location=[latitude, longitude],\n",
    "            icon = folium.plugins.BeautifyIcon(background_color='black', text_color='white', icon='info')\n",
    "        ).add_to(basemap)\n",
    "    return basemap"
   ]
  },
  {
   "cell_type": "code",
   "execution_count": 50,
   "metadata": {},
   "outputs": [],
   "source": [
    "# marker(G)"
   ]
  },
  {
   "cell_type": "code",
   "execution_count": 51,
   "metadata": {},
   "outputs": [],
   "source": [
    "def construirePointsImage(myGraphe):\n",
    "    points = []\n",
    "    nodes = dict(G.nodes.data())\n",
    "    \n",
    "    for i in myGraphe.nodes:\n",
    "        cordonnees_node = []\n",
    "        node_latitude = nodes[i]['latitude']\n",
    "        node_longitude = nodes[i]['longitude']\n",
    "        cordonnees_node.append(node_latitude)\n",
    "        cordonnees_node.append(node_longitude)\n",
    "\n",
    "        for neighbor in myGraphe.neighbors(i):\n",
    "            cordonnees_neighbor = []\n",
    "            neighbor_latitude = nodes[neighbor]['latitude']\n",
    "            neighbor_longitude = nodes[neighbor]['longitude']\n",
    "            cordonnees_neighbor.append(neighbor_latitude)\n",
    "            cordonnees_neighbor.append(neighbor_longitude)\n",
    "            \n",
    "            list_neighbors = []\n",
    "            list_neighbors.append(cordonnees_node)\n",
    "            list_neighbors.append(cordonnees_neighbor)\n",
    "\n",
    "            points.append(list_neighbors)\n",
    "\n",
    "    return points"
   ]
  },
  {
   "cell_type": "code",
   "execution_count": 52,
   "metadata": {},
   "outputs": [],
   "source": [
    "coordonneesvoisins = construirePointsImage(G)\n",
    "# print(coordonneesvoisins)"
   ]
  },
  {
   "cell_type": "code",
   "execution_count": 53,
   "metadata": {},
   "outputs": [],
   "source": [
    "def visualiserFolium(myGraphe, points, locationpardefaut=[52.3791890, 4.899431], tiles='Stamen Toner', explored=None ):\n",
    "    basemap = folium.Map(location=locationpardefaut, zoom_start=5, tiles=tiles, explored=explored)\n",
    "    points = construirePointsImage(myGraphe)\n",
    "    folium.PolyLine(points, color=\"yellow\", weight=3).add_to(basemap)\n",
    "    for i in myGraphe.nodes:\n",
    "        nodes = dict(G.nodes.data())\n",
    "        latitude = nodes[i]['latitude']\n",
    "        longitude = nodes[i]['longitude']\n",
    "        folium.Marker(\n",
    "            location=[latitude, longitude],\n",
    "            icon = folium.plugins.BeautifyIcon(background_color='black', text_color='white', icon='info'),\n",
    "            popup = i\n",
    "        ).add_to(basemap)\n",
    "    return basemap"
   ]
  },
  {
   "cell_type": "code",
   "execution_count": 54,
   "metadata": {},
   "outputs": [
    {
     "data": {
      "text/html": [
       "<div style=\"width:100%;\"><div style=\"position:relative;width:100%;height:0;padding-bottom:60%;\"><span style=\"color:#565656\">Make this Notebook Trusted to load map: File -> Trust Notebook</span><iframe src=\"about:blank\" style=\"position:absolute;width:100%;height:100%;left:0;top:0;border:none !important;\" data-html=%3C%21DOCTYPE%20html%3E%0A%3Chead%3E%20%20%20%20%0A%20%20%20%20%3Cmeta%20http-equiv%3D%22content-type%22%20content%3D%22text/html%3B%20charset%3DUTF-8%22%20/%3E%0A%20%20%20%20%0A%20%20%20%20%20%20%20%20%3Cscript%3E%0A%20%20%20%20%20%20%20%20%20%20%20%20L_NO_TOUCH%20%3D%20false%3B%0A%20%20%20%20%20%20%20%20%20%20%20%20L_DISABLE_3D%20%3D%20false%3B%0A%20%20%20%20%20%20%20%20%3C/script%3E%0A%20%20%20%20%0A%20%20%20%20%3Cstyle%3Ehtml%2C%20body%20%7Bwidth%3A%20100%25%3Bheight%3A%20100%25%3Bmargin%3A%200%3Bpadding%3A%200%3B%7D%3C/style%3E%0A%20%20%20%20%3Cstyle%3E%23map%20%7Bposition%3Aabsolute%3Btop%3A0%3Bbottom%3A0%3Bright%3A0%3Bleft%3A0%3B%7D%3C/style%3E%0A%20%20%20%20%3Cscript%20src%3D%22https%3A//cdn.jsdelivr.net/npm/leaflet%401.6.0/dist/leaflet.js%22%3E%3C/script%3E%0A%20%20%20%20%3Cscript%20src%3D%22https%3A//code.jquery.com/jquery-1.12.4.min.js%22%3E%3C/script%3E%0A%20%20%20%20%3Cscript%20src%3D%22https%3A//maxcdn.bootstrapcdn.com/bootstrap/3.2.0/js/bootstrap.min.js%22%3E%3C/script%3E%0A%20%20%20%20%3Cscript%20src%3D%22https%3A//cdnjs.cloudflare.com/ajax/libs/Leaflet.awesome-markers/2.0.2/leaflet.awesome-markers.js%22%3E%3C/script%3E%0A%20%20%20%20%3Clink%20rel%3D%22stylesheet%22%20href%3D%22https%3A//cdn.jsdelivr.net/npm/leaflet%401.6.0/dist/leaflet.css%22/%3E%0A%20%20%20%20%3Clink%20rel%3D%22stylesheet%22%20href%3D%22https%3A//maxcdn.bootstrapcdn.com/bootstrap/3.2.0/css/bootstrap.min.css%22/%3E%0A%20%20%20%20%3Clink%20rel%3D%22stylesheet%22%20href%3D%22https%3A//maxcdn.bootstrapcdn.com/bootstrap/3.2.0/css/bootstrap-theme.min.css%22/%3E%0A%20%20%20%20%3Clink%20rel%3D%22stylesheet%22%20href%3D%22https%3A//maxcdn.bootstrapcdn.com/font-awesome/4.6.3/css/font-awesome.min.css%22/%3E%0A%20%20%20%20%3Clink%20rel%3D%22stylesheet%22%20href%3D%22https%3A//cdnjs.cloudflare.com/ajax/libs/Leaflet.awesome-markers/2.0.2/leaflet.awesome-markers.css%22/%3E%0A%20%20%20%20%3Clink%20rel%3D%22stylesheet%22%20href%3D%22https%3A//cdn.jsdelivr.net/gh/python-visualization/folium/folium/templates/leaflet.awesome.rotate.min.css%22/%3E%0A%20%20%20%20%0A%20%20%20%20%20%20%20%20%20%20%20%20%3Cmeta%20name%3D%22viewport%22%20content%3D%22width%3Ddevice-width%2C%0A%20%20%20%20%20%20%20%20%20%20%20%20%20%20%20%20initial-scale%3D1.0%2C%20maximum-scale%3D1.0%2C%20user-scalable%3Dno%22%20/%3E%0A%20%20%20%20%20%20%20%20%20%20%20%20%3Cstyle%3E%0A%20%20%20%20%20%20%20%20%20%20%20%20%20%20%20%20%23map_91f06999e07149ddb319c223fd7b9966%20%7B%0A%20%20%20%20%20%20%20%20%20%20%20%20%20%20%20%20%20%20%20%20position%3A%20relative%3B%0A%20%20%20%20%20%20%20%20%20%20%20%20%20%20%20%20%20%20%20%20width%3A%20100.0%25%3B%0A%20%20%20%20%20%20%20%20%20%20%20%20%20%20%20%20%20%20%20%20height%3A%20100.0%25%3B%0A%20%20%20%20%20%20%20%20%20%20%20%20%20%20%20%20%20%20%20%20left%3A%200.0%25%3B%0A%20%20%20%20%20%20%20%20%20%20%20%20%20%20%20%20%20%20%20%20top%3A%200.0%25%3B%0A%20%20%20%20%20%20%20%20%20%20%20%20%20%20%20%20%7D%0A%20%20%20%20%20%20%20%20%20%20%20%20%3C/style%3E%0A%20%20%20%20%20%20%20%20%0A%20%20%20%20%3Cscript%20src%3D%22https%3A//cdn.jsdelivr.net/gh/marslan390/BeautifyMarker/leaflet-beautify-marker-icon.min.js%22%3E%3C/script%3E%0A%20%20%20%20%3Clink%20rel%3D%22stylesheet%22%20href%3D%22https%3A//cdn.jsdelivr.net/gh/marslan390/BeautifyMarker/leaflet-beautify-marker-icon.min.css%22/%3E%0A%3C/head%3E%0A%3Cbody%3E%20%20%20%20%0A%20%20%20%20%0A%20%20%20%20%20%20%20%20%20%20%20%20%3Cdiv%20class%3D%22folium-map%22%20id%3D%22map_91f06999e07149ddb319c223fd7b9966%22%20%3E%3C/div%3E%0A%20%20%20%20%20%20%20%20%0A%3C/body%3E%0A%3Cscript%3E%20%20%20%20%0A%20%20%20%20%0A%20%20%20%20%20%20%20%20%20%20%20%20var%20map_91f06999e07149ddb319c223fd7b9966%20%3D%20L.map%28%0A%20%20%20%20%20%20%20%20%20%20%20%20%20%20%20%20%22map_91f06999e07149ddb319c223fd7b9966%22%2C%0A%20%20%20%20%20%20%20%20%20%20%20%20%20%20%20%20%7B%0A%20%20%20%20%20%20%20%20%20%20%20%20%20%20%20%20%20%20%20%20center%3A%20%5B52.379189%2C%204.899431%5D%2C%0A%20%20%20%20%20%20%20%20%20%20%20%20%20%20%20%20%20%20%20%20crs%3A%20L.CRS.EPSG3857%2C%0A%20%20%20%20%20%20%20%20%20%20%20%20%20%20%20%20%20%20%20%20zoom%3A%205%2C%0A%20%20%20%20%20%20%20%20%20%20%20%20%20%20%20%20%20%20%20%20zoomControl%3A%20true%2C%0A%20%20%20%20%20%20%20%20%20%20%20%20%20%20%20%20%20%20%20%20preferCanvas%3A%20false%2C%0A%20%20%20%20%20%20%20%20%20%20%20%20%20%20%20%20%7D%0A%20%20%20%20%20%20%20%20%20%20%20%20%29%3B%0A%0A%20%20%20%20%20%20%20%20%20%20%20%20%0A%0A%20%20%20%20%20%20%20%20%0A%20%20%20%20%0A%20%20%20%20%20%20%20%20%20%20%20%20var%20tile_layer_290bf28df9e94ed1916a4866d1dd4083%20%3D%20L.tileLayer%28%0A%20%20%20%20%20%20%20%20%20%20%20%20%20%20%20%20%22https%3A//stamen-tiles-%7Bs%7D.a.ssl.fastly.net/toner/%7Bz%7D/%7Bx%7D/%7By%7D.png%22%2C%0A%20%20%20%20%20%20%20%20%20%20%20%20%20%20%20%20%7B%22attribution%22%3A%20%22Map%20tiles%20by%20%5Cu003ca%20href%3D%5C%22http%3A//stamen.com%5C%22%5Cu003eStamen%20Design%5Cu003c/a%5Cu003e%2C%20under%20%5Cu003ca%20href%3D%5C%22http%3A//creativecommons.org/licenses/by/3.0%5C%22%5Cu003eCC%20BY%203.0%5Cu003c/a%5Cu003e.%20Data%20by%20%5Cu0026copy%3B%20%5Cu003ca%20href%3D%5C%22http%3A//openstreetmap.org%5C%22%5Cu003eOpenStreetMap%5Cu003c/a%5Cu003e%2C%20under%20%5Cu003ca%20href%3D%5C%22http%3A//www.openstreetmap.org/copyright%5C%22%5Cu003eODbL%5Cu003c/a%5Cu003e.%22%2C%20%22detectRetina%22%3A%20false%2C%20%22maxNativeZoom%22%3A%2018%2C%20%22maxZoom%22%3A%2018%2C%20%22minZoom%22%3A%200%2C%20%22noWrap%22%3A%20false%2C%20%22opacity%22%3A%201%2C%20%22subdomains%22%3A%20%22abc%22%2C%20%22tms%22%3A%20false%7D%0A%20%20%20%20%20%20%20%20%20%20%20%20%29.addTo%28map_91f06999e07149ddb319c223fd7b9966%29%3B%0A%20%20%20%20%20%20%20%20%0A%20%20%20%20%0A%20%20%20%20%20%20%20%20%20%20%20%20var%20poly_line_5ce0dacd5dcb4e78bd74e5e97723a86f%20%3D%20L.polyline%28%0A%20%20%20%20%20%20%20%20%20%20%20%20%20%20%20%20%5B%5B%5B52.379189%2C%204.899431%5D%2C%20%5B52.092876%2C%205.10448%5D%5D%2C%20%5B%5B52.379189%2C%204.899431%5D%2C%20%5B52.078663%2C%204.288788%5D%5D%2C%20%5B%5B52.379189%2C%204.899431%5D%2C%20%5B53.61239%2C%20-0.22219%5D%5D%2C%20%5B%5B52.092876%2C%205.10448%5D%2C%20%5B52.379189%2C%204.899431%5D%5D%2C%20%5B%5B52.092876%2C%205.10448%5D%2C%20%5B52.01667%2C%204.70833%5D%5D%2C%20%5B%5B52.078663%2C%204.288788%5D%2C%20%5B52.379189%2C%204.899431%5D%5D%2C%20%5B%5B52.078663%2C%204.288788%5D%2C%20%5B51.9225%2C%204.47917%5D%5D%2C%20%5B%5B52.078663%2C%204.288788%5D%2C%20%5B51.9775%2C%204.13333%5D%5D%2C%20%5B%5B52.078663%2C%204.288788%5D%2C%20%5B52.01667%2C%204.70833%5D%5D%2C%20%5B%5B51.9225%2C%204.47917%5D%2C%20%5B52.078663%2C%204.288788%5D%5D%2C%20%5B%5B51.9225%2C%204.47917%5D%2C%20%5B52.01667%2C%204.70833%5D%5D%2C%20%5B%5B51.9225%2C%204.47917%5D%2C%20%5B51.9775%2C%204.13333%5D%5D%2C%20%5B%5B53.61239%2C%20-0.22219%5D%2C%20%5B52.379189%2C%204.899431%5D%5D%2C%20%5B%5B53.61239%2C%20-0.22219%5D%2C%20%5B53.52285%2C%20-1.13116%5D%5D%2C%20%5B%5B53.52285%2C%20-1.13116%5D%2C%20%5B53.61239%2C%20-0.22219%5D%5D%2C%20%5B%5B53.52285%2C%20-1.13116%5D%2C%20%5B51.509865%2C%20-0.118092%5D%5D%2C%20%5B%5B51.509865%2C%20-0.118092%5D%2C%20%5B53.52285%2C%20-1.13116%5D%5D%2C%20%5B%5B51.509865%2C%20-0.118092%5D%2C%20%5B51.88921%2C%200.90421%5D%5D%2C%20%5B%5B51.9775%2C%204.13333%5D%2C%20%5B52.078663%2C%204.288788%5D%5D%2C%20%5B%5B51.9775%2C%204.13333%5D%2C%20%5B51.96375%2C%201.3511%5D%5D%2C%20%5B%5B51.9775%2C%204.13333%5D%2C%20%5B51.9225%2C%204.47917%5D%5D%2C%20%5B%5B51.96375%2C%201.3511%5D%2C%20%5B51.9775%2C%204.13333%5D%5D%2C%20%5B%5B51.96375%2C%201.3511%5D%2C%20%5B52.05917%2C%201.15545%5D%5D%2C%20%5B%5B52.05917%2C%201.15545%5D%2C%20%5B51.96375%2C%201.3511%5D%5D%2C%20%5B%5B52.05917%2C%201.15545%5D%2C%20%5B51.88921%2C%200.90421%5D%5D%2C%20%5B%5B51.88921%2C%200.90421%5D%2C%20%5B52.05917%2C%201.15545%5D%5D%2C%20%5B%5B51.88921%2C%200.90421%5D%2C%20%5B51.509865%2C%20-0.118092%5D%5D%2C%20%5B%5B52.01667%2C%204.70833%5D%2C%20%5B51.9225%2C%204.47917%5D%5D%2C%20%5B%5B52.01667%2C%204.70833%5D%2C%20%5B52.092876%2C%205.10448%5D%5D%2C%20%5B%5B52.01667%2C%204.70833%5D%2C%20%5B52.078663%2C%204.288788%5D%5D%5D%2C%0A%20%20%20%20%20%20%20%20%20%20%20%20%20%20%20%20%7B%22bubblingMouseEvents%22%3A%20true%2C%20%22color%22%3A%20%22yellow%22%2C%20%22dashArray%22%3A%20null%2C%20%22dashOffset%22%3A%20null%2C%20%22fill%22%3A%20false%2C%20%22fillColor%22%3A%20%22yellow%22%2C%20%22fillOpacity%22%3A%200.2%2C%20%22fillRule%22%3A%20%22evenodd%22%2C%20%22lineCap%22%3A%20%22round%22%2C%20%22lineJoin%22%3A%20%22round%22%2C%20%22noClip%22%3A%20false%2C%20%22opacity%22%3A%201.0%2C%20%22smoothFactor%22%3A%201.0%2C%20%22stroke%22%3A%20true%2C%20%22weight%22%3A%203%7D%0A%20%20%20%20%20%20%20%20%20%20%20%20%29.addTo%28map_91f06999e07149ddb319c223fd7b9966%29%3B%0A%20%20%20%20%20%20%20%20%0A%20%20%20%20%0A%20%20%20%20%20%20%20%20%20%20%20%20var%20marker_65c2aa1dbd2847c3800760a5b3c2cda0%20%3D%20L.marker%28%0A%20%20%20%20%20%20%20%20%20%20%20%20%20%20%20%20%5B52.379189%2C%204.899431%5D%2C%0A%20%20%20%20%20%20%20%20%20%20%20%20%20%20%20%20%7B%7D%0A%20%20%20%20%20%20%20%20%20%20%20%20%29.addTo%28map_91f06999e07149ddb319c223fd7b9966%29%3B%0A%20%20%20%20%20%20%20%20%0A%20%20%20%20%0A%20%20%20%20%20%20%20%20%20%20%20%20var%20beautify_icon_b7a663b6e3ae4940a63f09a9267a1146%20%3D%20new%20L.BeautifyIcon.icon%28%0A%20%20%20%20%20%20%20%20%20%20%20%20%20%20%20%20%7B%22backgroundColor%22%3A%20%22black%22%2C%20%22borderColor%22%3A%20%22%23000%22%2C%20%22borderWidth%22%3A%203%2C%20%22icon%22%3A%20%22info%22%2C%20%22innerIconStyle%22%3A%20%22%22%2C%20%22isAlphaNumericIcon%22%3A%20false%2C%20%22spin%22%3A%20false%2C%20%22textColor%22%3A%20%22white%22%7D%0A%20%20%20%20%20%20%20%20%20%20%20%20%29%0A%20%20%20%20%20%20%20%20%20%20%20%20marker_65c2aa1dbd2847c3800760a5b3c2cda0.setIcon%28beautify_icon_b7a663b6e3ae4940a63f09a9267a1146%29%3B%0A%20%20%20%20%20%20%20%20%0A%20%20%20%20%0A%20%20%20%20%20%20%20%20var%20popup_ae0874a5d4ff4a1795250633b28edbe2%20%3D%20L.popup%28%7B%22maxWidth%22%3A%20%22100%25%22%7D%29%3B%0A%0A%20%20%20%20%20%20%20%20%0A%20%20%20%20%20%20%20%20%20%20%20%20var%20html_780e75e6350d4ec18fb076596af599b3%20%3D%20%24%28%60%3Cdiv%20id%3D%22html_780e75e6350d4ec18fb076596af599b3%22%20style%3D%22width%3A%20100.0%25%3B%20height%3A%20100.0%25%3B%22%3EAmsterdam%3C/div%3E%60%29%5B0%5D%3B%0A%20%20%20%20%20%20%20%20%20%20%20%20popup_ae0874a5d4ff4a1795250633b28edbe2.setContent%28html_780e75e6350d4ec18fb076596af599b3%29%3B%0A%20%20%20%20%20%20%20%20%0A%0A%20%20%20%20%20%20%20%20marker_65c2aa1dbd2847c3800760a5b3c2cda0.bindPopup%28popup_ae0874a5d4ff4a1795250633b28edbe2%29%0A%20%20%20%20%20%20%20%20%3B%0A%0A%20%20%20%20%20%20%20%20%0A%20%20%20%20%0A%20%20%20%20%0A%20%20%20%20%20%20%20%20%20%20%20%20var%20marker_45ca20338a7e4215bbf2e76c6e489464%20%3D%20L.marker%28%0A%20%20%20%20%20%20%20%20%20%20%20%20%20%20%20%20%5B52.092876%2C%205.10448%5D%2C%0A%20%20%20%20%20%20%20%20%20%20%20%20%20%20%20%20%7B%7D%0A%20%20%20%20%20%20%20%20%20%20%20%20%29.addTo%28map_91f06999e07149ddb319c223fd7b9966%29%3B%0A%20%20%20%20%20%20%20%20%0A%20%20%20%20%0A%20%20%20%20%20%20%20%20%20%20%20%20var%20beautify_icon_ebe7d15efc164e6fb31e99b4bbbe4d98%20%3D%20new%20L.BeautifyIcon.icon%28%0A%20%20%20%20%20%20%20%20%20%20%20%20%20%20%20%20%7B%22backgroundColor%22%3A%20%22black%22%2C%20%22borderColor%22%3A%20%22%23000%22%2C%20%22borderWidth%22%3A%203%2C%20%22icon%22%3A%20%22info%22%2C%20%22innerIconStyle%22%3A%20%22%22%2C%20%22isAlphaNumericIcon%22%3A%20false%2C%20%22spin%22%3A%20false%2C%20%22textColor%22%3A%20%22white%22%7D%0A%20%20%20%20%20%20%20%20%20%20%20%20%29%0A%20%20%20%20%20%20%20%20%20%20%20%20marker_45ca20338a7e4215bbf2e76c6e489464.setIcon%28beautify_icon_ebe7d15efc164e6fb31e99b4bbbe4d98%29%3B%0A%20%20%20%20%20%20%20%20%0A%20%20%20%20%0A%20%20%20%20%20%20%20%20var%20popup_b607867e213b4e7a852ad77b826d2c04%20%3D%20L.popup%28%7B%22maxWidth%22%3A%20%22100%25%22%7D%29%3B%0A%0A%20%20%20%20%20%20%20%20%0A%20%20%20%20%20%20%20%20%20%20%20%20var%20html_c5addb38fa9d4e93bb54800e58b55981%20%3D%20%24%28%60%3Cdiv%20id%3D%22html_c5addb38fa9d4e93bb54800e58b55981%22%20style%3D%22width%3A%20100.0%25%3B%20height%3A%20100.0%25%3B%22%3EUtrecht%3C/div%3E%60%29%5B0%5D%3B%0A%20%20%20%20%20%20%20%20%20%20%20%20popup_b607867e213b4e7a852ad77b826d2c04.setContent%28html_c5addb38fa9d4e93bb54800e58b55981%29%3B%0A%20%20%20%20%20%20%20%20%0A%0A%20%20%20%20%20%20%20%20marker_45ca20338a7e4215bbf2e76c6e489464.bindPopup%28popup_b607867e213b4e7a852ad77b826d2c04%29%0A%20%20%20%20%20%20%20%20%3B%0A%0A%20%20%20%20%20%20%20%20%0A%20%20%20%20%0A%20%20%20%20%0A%20%20%20%20%20%20%20%20%20%20%20%20var%20marker_712db32db13d4965b3f19f82ed6a837f%20%3D%20L.marker%28%0A%20%20%20%20%20%20%20%20%20%20%20%20%20%20%20%20%5B52.078663%2C%204.288788%5D%2C%0A%20%20%20%20%20%20%20%20%20%20%20%20%20%20%20%20%7B%7D%0A%20%20%20%20%20%20%20%20%20%20%20%20%29.addTo%28map_91f06999e07149ddb319c223fd7b9966%29%3B%0A%20%20%20%20%20%20%20%20%0A%20%20%20%20%0A%20%20%20%20%20%20%20%20%20%20%20%20var%20beautify_icon_b944f5b0e0ce4f04b98aaa48cd3fd577%20%3D%20new%20L.BeautifyIcon.icon%28%0A%20%20%20%20%20%20%20%20%20%20%20%20%20%20%20%20%7B%22backgroundColor%22%3A%20%22black%22%2C%20%22borderColor%22%3A%20%22%23000%22%2C%20%22borderWidth%22%3A%203%2C%20%22icon%22%3A%20%22info%22%2C%20%22innerIconStyle%22%3A%20%22%22%2C%20%22isAlphaNumericIcon%22%3A%20false%2C%20%22spin%22%3A%20false%2C%20%22textColor%22%3A%20%22white%22%7D%0A%20%20%20%20%20%20%20%20%20%20%20%20%29%0A%20%20%20%20%20%20%20%20%20%20%20%20marker_712db32db13d4965b3f19f82ed6a837f.setIcon%28beautify_icon_b944f5b0e0ce4f04b98aaa48cd3fd577%29%3B%0A%20%20%20%20%20%20%20%20%0A%20%20%20%20%0A%20%20%20%20%20%20%20%20var%20popup_94073436dc9d4b00beaff9e5df2e6b9d%20%3D%20L.popup%28%7B%22maxWidth%22%3A%20%22100%25%22%7D%29%3B%0A%0A%20%20%20%20%20%20%20%20%0A%20%20%20%20%20%20%20%20%20%20%20%20var%20html_23d91a12fe3d4a73af01080e020d4eb3%20%3D%20%24%28%60%3Cdiv%20id%3D%22html_23d91a12fe3d4a73af01080e020d4eb3%22%20style%3D%22width%3A%20100.0%25%3B%20height%3A%20100.0%25%3B%22%3EDen%20Haag%3C/div%3E%60%29%5B0%5D%3B%0A%20%20%20%20%20%20%20%20%20%20%20%20popup_94073436dc9d4b00beaff9e5df2e6b9d.setContent%28html_23d91a12fe3d4a73af01080e020d4eb3%29%3B%0A%20%20%20%20%20%20%20%20%0A%0A%20%20%20%20%20%20%20%20marker_712db32db13d4965b3f19f82ed6a837f.bindPopup%28popup_94073436dc9d4b00beaff9e5df2e6b9d%29%0A%20%20%20%20%20%20%20%20%3B%0A%0A%20%20%20%20%20%20%20%20%0A%20%20%20%20%0A%20%20%20%20%0A%20%20%20%20%20%20%20%20%20%20%20%20var%20marker_8988bbef842c41859dfa576bf4d8f1dd%20%3D%20L.marker%28%0A%20%20%20%20%20%20%20%20%20%20%20%20%20%20%20%20%5B51.9225%2C%204.47917%5D%2C%0A%20%20%20%20%20%20%20%20%20%20%20%20%20%20%20%20%7B%7D%0A%20%20%20%20%20%20%20%20%20%20%20%20%29.addTo%28map_91f06999e07149ddb319c223fd7b9966%29%3B%0A%20%20%20%20%20%20%20%20%0A%20%20%20%20%0A%20%20%20%20%20%20%20%20%20%20%20%20var%20beautify_icon_2d07ebbcfc1244fab11214acff072589%20%3D%20new%20L.BeautifyIcon.icon%28%0A%20%20%20%20%20%20%20%20%20%20%20%20%20%20%20%20%7B%22backgroundColor%22%3A%20%22black%22%2C%20%22borderColor%22%3A%20%22%23000%22%2C%20%22borderWidth%22%3A%203%2C%20%22icon%22%3A%20%22info%22%2C%20%22innerIconStyle%22%3A%20%22%22%2C%20%22isAlphaNumericIcon%22%3A%20false%2C%20%22spin%22%3A%20false%2C%20%22textColor%22%3A%20%22white%22%7D%0A%20%20%20%20%20%20%20%20%20%20%20%20%29%0A%20%20%20%20%20%20%20%20%20%20%20%20marker_8988bbef842c41859dfa576bf4d8f1dd.setIcon%28beautify_icon_2d07ebbcfc1244fab11214acff072589%29%3B%0A%20%20%20%20%20%20%20%20%0A%20%20%20%20%0A%20%20%20%20%20%20%20%20var%20popup_02a3f72dc89242e0a0634e62c0dd107a%20%3D%20L.popup%28%7B%22maxWidth%22%3A%20%22100%25%22%7D%29%3B%0A%0A%20%20%20%20%20%20%20%20%0A%20%20%20%20%20%20%20%20%20%20%20%20var%20html_9d707809cbc644a3903f19c1db42d0e9%20%3D%20%24%28%60%3Cdiv%20id%3D%22html_9d707809cbc644a3903f19c1db42d0e9%22%20style%3D%22width%3A%20100.0%25%3B%20height%3A%20100.0%25%3B%22%3ERotterdam%3C/div%3E%60%29%5B0%5D%3B%0A%20%20%20%20%20%20%20%20%20%20%20%20popup_02a3f72dc89242e0a0634e62c0dd107a.setContent%28html_9d707809cbc644a3903f19c1db42d0e9%29%3B%0A%20%20%20%20%20%20%20%20%0A%0A%20%20%20%20%20%20%20%20marker_8988bbef842c41859dfa576bf4d8f1dd.bindPopup%28popup_02a3f72dc89242e0a0634e62c0dd107a%29%0A%20%20%20%20%20%20%20%20%3B%0A%0A%20%20%20%20%20%20%20%20%0A%20%20%20%20%0A%20%20%20%20%0A%20%20%20%20%20%20%20%20%20%20%20%20var%20marker_f4887695544049c29ef0e16381096935%20%3D%20L.marker%28%0A%20%20%20%20%20%20%20%20%20%20%20%20%20%20%20%20%5B53.61239%2C%20-0.22219%5D%2C%0A%20%20%20%20%20%20%20%20%20%20%20%20%20%20%20%20%7B%7D%0A%20%20%20%20%20%20%20%20%20%20%20%20%29.addTo%28map_91f06999e07149ddb319c223fd7b9966%29%3B%0A%20%20%20%20%20%20%20%20%0A%20%20%20%20%0A%20%20%20%20%20%20%20%20%20%20%20%20var%20beautify_icon_fac73379dddd4e61903ff60617f0c0b7%20%3D%20new%20L.BeautifyIcon.icon%28%0A%20%20%20%20%20%20%20%20%20%20%20%20%20%20%20%20%7B%22backgroundColor%22%3A%20%22black%22%2C%20%22borderColor%22%3A%20%22%23000%22%2C%20%22borderWidth%22%3A%203%2C%20%22icon%22%3A%20%22info%22%2C%20%22innerIconStyle%22%3A%20%22%22%2C%20%22isAlphaNumericIcon%22%3A%20false%2C%20%22spin%22%3A%20false%2C%20%22textColor%22%3A%20%22white%22%7D%0A%20%20%20%20%20%20%20%20%20%20%20%20%29%0A%20%20%20%20%20%20%20%20%20%20%20%20marker_f4887695544049c29ef0e16381096935.setIcon%28beautify_icon_fac73379dddd4e61903ff60617f0c0b7%29%3B%0A%20%20%20%20%20%20%20%20%0A%20%20%20%20%0A%20%20%20%20%20%20%20%20var%20popup_8f2b74a90b134f5fb5bb82db88b8304f%20%3D%20L.popup%28%7B%22maxWidth%22%3A%20%22100%25%22%7D%29%3B%0A%0A%20%20%20%20%20%20%20%20%0A%20%20%20%20%20%20%20%20%20%20%20%20var%20html_ada26c45ce734eca82fcc390075ee3ff%20%3D%20%24%28%60%3Cdiv%20id%3D%22html_ada26c45ce734eca82fcc390075ee3ff%22%20style%3D%22width%3A%20100.0%25%3B%20height%3A%20100.0%25%3B%22%3EImmingham%3C/div%3E%60%29%5B0%5D%3B%0A%20%20%20%20%20%20%20%20%20%20%20%20popup_8f2b74a90b134f5fb5bb82db88b8304f.setContent%28html_ada26c45ce734eca82fcc390075ee3ff%29%3B%0A%20%20%20%20%20%20%20%20%0A%0A%20%20%20%20%20%20%20%20marker_f4887695544049c29ef0e16381096935.bindPopup%28popup_8f2b74a90b134f5fb5bb82db88b8304f%29%0A%20%20%20%20%20%20%20%20%3B%0A%0A%20%20%20%20%20%20%20%20%0A%20%20%20%20%0A%20%20%20%20%0A%20%20%20%20%20%20%20%20%20%20%20%20var%20marker_034d2d7fb27c4ef69758b2bec32913ac%20%3D%20L.marker%28%0A%20%20%20%20%20%20%20%20%20%20%20%20%20%20%20%20%5B53.52285%2C%20-1.13116%5D%2C%0A%20%20%20%20%20%20%20%20%20%20%20%20%20%20%20%20%7B%7D%0A%20%20%20%20%20%20%20%20%20%20%20%20%29.addTo%28map_91f06999e07149ddb319c223fd7b9966%29%3B%0A%20%20%20%20%20%20%20%20%0A%20%20%20%20%0A%20%20%20%20%20%20%20%20%20%20%20%20var%20beautify_icon_64eb47412ae14a81a2f814a2bef27f6d%20%3D%20new%20L.BeautifyIcon.icon%28%0A%20%20%20%20%20%20%20%20%20%20%20%20%20%20%20%20%7B%22backgroundColor%22%3A%20%22black%22%2C%20%22borderColor%22%3A%20%22%23000%22%2C%20%22borderWidth%22%3A%203%2C%20%22icon%22%3A%20%22info%22%2C%20%22innerIconStyle%22%3A%20%22%22%2C%20%22isAlphaNumericIcon%22%3A%20false%2C%20%22spin%22%3A%20false%2C%20%22textColor%22%3A%20%22white%22%7D%0A%20%20%20%20%20%20%20%20%20%20%20%20%29%0A%20%20%20%20%20%20%20%20%20%20%20%20marker_034d2d7fb27c4ef69758b2bec32913ac.setIcon%28beautify_icon_64eb47412ae14a81a2f814a2bef27f6d%29%3B%0A%20%20%20%20%20%20%20%20%0A%20%20%20%20%0A%20%20%20%20%20%20%20%20var%20popup_426785ed663c4c8f82fac07bfde304ae%20%3D%20L.popup%28%7B%22maxWidth%22%3A%20%22100%25%22%7D%29%3B%0A%0A%20%20%20%20%20%20%20%20%0A%20%20%20%20%20%20%20%20%20%20%20%20var%20html_df27fd045d2244c5b28206a76f2d66d6%20%3D%20%24%28%60%3Cdiv%20id%3D%22html_df27fd045d2244c5b28206a76f2d66d6%22%20style%3D%22width%3A%20100.0%25%3B%20height%3A%20100.0%25%3B%22%3EDoncaster%3C/div%3E%60%29%5B0%5D%3B%0A%20%20%20%20%20%20%20%20%20%20%20%20popup_426785ed663c4c8f82fac07bfde304ae.setContent%28html_df27fd045d2244c5b28206a76f2d66d6%29%3B%0A%20%20%20%20%20%20%20%20%0A%0A%20%20%20%20%20%20%20%20marker_034d2d7fb27c4ef69758b2bec32913ac.bindPopup%28popup_426785ed663c4c8f82fac07bfde304ae%29%0A%20%20%20%20%20%20%20%20%3B%0A%0A%20%20%20%20%20%20%20%20%0A%20%20%20%20%0A%20%20%20%20%0A%20%20%20%20%20%20%20%20%20%20%20%20var%20marker_18e588e061be468398967218267def4f%20%3D%20L.marker%28%0A%20%20%20%20%20%20%20%20%20%20%20%20%20%20%20%20%5B51.509865%2C%20-0.118092%5D%2C%0A%20%20%20%20%20%20%20%20%20%20%20%20%20%20%20%20%7B%7D%0A%20%20%20%20%20%20%20%20%20%20%20%20%29.addTo%28map_91f06999e07149ddb319c223fd7b9966%29%3B%0A%20%20%20%20%20%20%20%20%0A%20%20%20%20%0A%20%20%20%20%20%20%20%20%20%20%20%20var%20beautify_icon_ea8536e7c8c84a0aa869853386bb73c1%20%3D%20new%20L.BeautifyIcon.icon%28%0A%20%20%20%20%20%20%20%20%20%20%20%20%20%20%20%20%7B%22backgroundColor%22%3A%20%22black%22%2C%20%22borderColor%22%3A%20%22%23000%22%2C%20%22borderWidth%22%3A%203%2C%20%22icon%22%3A%20%22info%22%2C%20%22innerIconStyle%22%3A%20%22%22%2C%20%22isAlphaNumericIcon%22%3A%20false%2C%20%22spin%22%3A%20false%2C%20%22textColor%22%3A%20%22white%22%7D%0A%20%20%20%20%20%20%20%20%20%20%20%20%29%0A%20%20%20%20%20%20%20%20%20%20%20%20marker_18e588e061be468398967218267def4f.setIcon%28beautify_icon_ea8536e7c8c84a0aa869853386bb73c1%29%3B%0A%20%20%20%20%20%20%20%20%0A%20%20%20%20%0A%20%20%20%20%20%20%20%20var%20popup_29d5c8c2a1194817ab88a563cace8731%20%3D%20L.popup%28%7B%22maxWidth%22%3A%20%22100%25%22%7D%29%3B%0A%0A%20%20%20%20%20%20%20%20%0A%20%20%20%20%20%20%20%20%20%20%20%20var%20html_c32267131ad2402d91b9870de22cf740%20%3D%20%24%28%60%3Cdiv%20id%3D%22html_c32267131ad2402d91b9870de22cf740%22%20style%3D%22width%3A%20100.0%25%3B%20height%3A%20100.0%25%3B%22%3ELondon%3C/div%3E%60%29%5B0%5D%3B%0A%20%20%20%20%20%20%20%20%20%20%20%20popup_29d5c8c2a1194817ab88a563cace8731.setContent%28html_c32267131ad2402d91b9870de22cf740%29%3B%0A%20%20%20%20%20%20%20%20%0A%0A%20%20%20%20%20%20%20%20marker_18e588e061be468398967218267def4f.bindPopup%28popup_29d5c8c2a1194817ab88a563cace8731%29%0A%20%20%20%20%20%20%20%20%3B%0A%0A%20%20%20%20%20%20%20%20%0A%20%20%20%20%0A%20%20%20%20%0A%20%20%20%20%20%20%20%20%20%20%20%20var%20marker_cbda0c16be4648b385ca05cf177ebe44%20%3D%20L.marker%28%0A%20%20%20%20%20%20%20%20%20%20%20%20%20%20%20%20%5B51.9775%2C%204.13333%5D%2C%0A%20%20%20%20%20%20%20%20%20%20%20%20%20%20%20%20%7B%7D%0A%20%20%20%20%20%20%20%20%20%20%20%20%29.addTo%28map_91f06999e07149ddb319c223fd7b9966%29%3B%0A%20%20%20%20%20%20%20%20%0A%20%20%20%20%0A%20%20%20%20%20%20%20%20%20%20%20%20var%20beautify_icon_626bae674207430c81181d57b6c6e2d2%20%3D%20new%20L.BeautifyIcon.icon%28%0A%20%20%20%20%20%20%20%20%20%20%20%20%20%20%20%20%7B%22backgroundColor%22%3A%20%22black%22%2C%20%22borderColor%22%3A%20%22%23000%22%2C%20%22borderWidth%22%3A%203%2C%20%22icon%22%3A%20%22info%22%2C%20%22innerIconStyle%22%3A%20%22%22%2C%20%22isAlphaNumericIcon%22%3A%20false%2C%20%22spin%22%3A%20false%2C%20%22textColor%22%3A%20%22white%22%7D%0A%20%20%20%20%20%20%20%20%20%20%20%20%29%0A%20%20%20%20%20%20%20%20%20%20%20%20marker_cbda0c16be4648b385ca05cf177ebe44.setIcon%28beautify_icon_626bae674207430c81181d57b6c6e2d2%29%3B%0A%20%20%20%20%20%20%20%20%0A%20%20%20%20%0A%20%20%20%20%20%20%20%20var%20popup_504eb46eecd34d7282370a1922de2048%20%3D%20L.popup%28%7B%22maxWidth%22%3A%20%22100%25%22%7D%29%3B%0A%0A%20%20%20%20%20%20%20%20%0A%20%20%20%20%20%20%20%20%20%20%20%20var%20html_19dfd722dfb149fcbd37ebfefb6f2b58%20%3D%20%24%28%60%3Cdiv%20id%3D%22html_19dfd722dfb149fcbd37ebfefb6f2b58%22%20style%3D%22width%3A%20100.0%25%3B%20height%3A%20100.0%25%3B%22%3EHoek%20van%20Holland%3C/div%3E%60%29%5B0%5D%3B%0A%20%20%20%20%20%20%20%20%20%20%20%20popup_504eb46eecd34d7282370a1922de2048.setContent%28html_19dfd722dfb149fcbd37ebfefb6f2b58%29%3B%0A%20%20%20%20%20%20%20%20%0A%0A%20%20%20%20%20%20%20%20marker_cbda0c16be4648b385ca05cf177ebe44.bindPopup%28popup_504eb46eecd34d7282370a1922de2048%29%0A%20%20%20%20%20%20%20%20%3B%0A%0A%20%20%20%20%20%20%20%20%0A%20%20%20%20%0A%20%20%20%20%0A%20%20%20%20%20%20%20%20%20%20%20%20var%20marker_ec8d87cee7744252bc829bb797db18e0%20%3D%20L.marker%28%0A%20%20%20%20%20%20%20%20%20%20%20%20%20%20%20%20%5B51.96375%2C%201.3511%5D%2C%0A%20%20%20%20%20%20%20%20%20%20%20%20%20%20%20%20%7B%7D%0A%20%20%20%20%20%20%20%20%20%20%20%20%29.addTo%28map_91f06999e07149ddb319c223fd7b9966%29%3B%0A%20%20%20%20%20%20%20%20%0A%20%20%20%20%0A%20%20%20%20%20%20%20%20%20%20%20%20var%20beautify_icon_9e2ac520a9fa40fca10cb9f20495a0a7%20%3D%20new%20L.BeautifyIcon.icon%28%0A%20%20%20%20%20%20%20%20%20%20%20%20%20%20%20%20%7B%22backgroundColor%22%3A%20%22black%22%2C%20%22borderColor%22%3A%20%22%23000%22%2C%20%22borderWidth%22%3A%203%2C%20%22icon%22%3A%20%22info%22%2C%20%22innerIconStyle%22%3A%20%22%22%2C%20%22isAlphaNumericIcon%22%3A%20false%2C%20%22spin%22%3A%20false%2C%20%22textColor%22%3A%20%22white%22%7D%0A%20%20%20%20%20%20%20%20%20%20%20%20%29%0A%20%20%20%20%20%20%20%20%20%20%20%20marker_ec8d87cee7744252bc829bb797db18e0.setIcon%28beautify_icon_9e2ac520a9fa40fca10cb9f20495a0a7%29%3B%0A%20%20%20%20%20%20%20%20%0A%20%20%20%20%0A%20%20%20%20%20%20%20%20var%20popup_8fbedac8e54642e3a8061cc163c428c4%20%3D%20L.popup%28%7B%22maxWidth%22%3A%20%22100%25%22%7D%29%3B%0A%0A%20%20%20%20%20%20%20%20%0A%20%20%20%20%20%20%20%20%20%20%20%20var%20html_7c300a6330c04839b9874ace52714c1a%20%3D%20%24%28%60%3Cdiv%20id%3D%22html_7c300a6330c04839b9874ace52714c1a%22%20style%3D%22width%3A%20100.0%25%3B%20height%3A%20100.0%25%3B%22%3EFelixstowe%3C/div%3E%60%29%5B0%5D%3B%0A%20%20%20%20%20%20%20%20%20%20%20%20popup_8fbedac8e54642e3a8061cc163c428c4.setContent%28html_7c300a6330c04839b9874ace52714c1a%29%3B%0A%20%20%20%20%20%20%20%20%0A%0A%20%20%20%20%20%20%20%20marker_ec8d87cee7744252bc829bb797db18e0.bindPopup%28popup_8fbedac8e54642e3a8061cc163c428c4%29%0A%20%20%20%20%20%20%20%20%3B%0A%0A%20%20%20%20%20%20%20%20%0A%20%20%20%20%0A%20%20%20%20%0A%20%20%20%20%20%20%20%20%20%20%20%20var%20marker_820978852663408b9861fc889b7964f6%20%3D%20L.marker%28%0A%20%20%20%20%20%20%20%20%20%20%20%20%20%20%20%20%5B52.05917%2C%201.15545%5D%2C%0A%20%20%20%20%20%20%20%20%20%20%20%20%20%20%20%20%7B%7D%0A%20%20%20%20%20%20%20%20%20%20%20%20%29.addTo%28map_91f06999e07149ddb319c223fd7b9966%29%3B%0A%20%20%20%20%20%20%20%20%0A%20%20%20%20%0A%20%20%20%20%20%20%20%20%20%20%20%20var%20beautify_icon_b89abb49ef1541ca9c426c84bdb2f87e%20%3D%20new%20L.BeautifyIcon.icon%28%0A%20%20%20%20%20%20%20%20%20%20%20%20%20%20%20%20%7B%22backgroundColor%22%3A%20%22black%22%2C%20%22borderColor%22%3A%20%22%23000%22%2C%20%22borderWidth%22%3A%203%2C%20%22icon%22%3A%20%22info%22%2C%20%22innerIconStyle%22%3A%20%22%22%2C%20%22isAlphaNumericIcon%22%3A%20false%2C%20%22spin%22%3A%20false%2C%20%22textColor%22%3A%20%22white%22%7D%0A%20%20%20%20%20%20%20%20%20%20%20%20%29%0A%20%20%20%20%20%20%20%20%20%20%20%20marker_820978852663408b9861fc889b7964f6.setIcon%28beautify_icon_b89abb49ef1541ca9c426c84bdb2f87e%29%3B%0A%20%20%20%20%20%20%20%20%0A%20%20%20%20%0A%20%20%20%20%20%20%20%20var%20popup_27a93ec293e64d47b1c1ef0d205b1242%20%3D%20L.popup%28%7B%22maxWidth%22%3A%20%22100%25%22%7D%29%3B%0A%0A%20%20%20%20%20%20%20%20%0A%20%20%20%20%20%20%20%20%20%20%20%20var%20html_698a4b76c2a840c8b9709edd49292c21%20%3D%20%24%28%60%3Cdiv%20id%3D%22html_698a4b76c2a840c8b9709edd49292c21%22%20style%3D%22width%3A%20100.0%25%3B%20height%3A%20100.0%25%3B%22%3EIpswich%3C/div%3E%60%29%5B0%5D%3B%0A%20%20%20%20%20%20%20%20%20%20%20%20popup_27a93ec293e64d47b1c1ef0d205b1242.setContent%28html_698a4b76c2a840c8b9709edd49292c21%29%3B%0A%20%20%20%20%20%20%20%20%0A%0A%20%20%20%20%20%20%20%20marker_820978852663408b9861fc889b7964f6.bindPopup%28popup_27a93ec293e64d47b1c1ef0d205b1242%29%0A%20%20%20%20%20%20%20%20%3B%0A%0A%20%20%20%20%20%20%20%20%0A%20%20%20%20%0A%20%20%20%20%0A%20%20%20%20%20%20%20%20%20%20%20%20var%20marker_81c6474dfd824c68a9a36faeee11a268%20%3D%20L.marker%28%0A%20%20%20%20%20%20%20%20%20%20%20%20%20%20%20%20%5B51.88921%2C%200.90421%5D%2C%0A%20%20%20%20%20%20%20%20%20%20%20%20%20%20%20%20%7B%7D%0A%20%20%20%20%20%20%20%20%20%20%20%20%29.addTo%28map_91f06999e07149ddb319c223fd7b9966%29%3B%0A%20%20%20%20%20%20%20%20%0A%20%20%20%20%0A%20%20%20%20%20%20%20%20%20%20%20%20var%20beautify_icon_d55e36b1ec2b47aaab80e551c1de6510%20%3D%20new%20L.BeautifyIcon.icon%28%0A%20%20%20%20%20%20%20%20%20%20%20%20%20%20%20%20%7B%22backgroundColor%22%3A%20%22black%22%2C%20%22borderColor%22%3A%20%22%23000%22%2C%20%22borderWidth%22%3A%203%2C%20%22icon%22%3A%20%22info%22%2C%20%22innerIconStyle%22%3A%20%22%22%2C%20%22isAlphaNumericIcon%22%3A%20false%2C%20%22spin%22%3A%20false%2C%20%22textColor%22%3A%20%22white%22%7D%0A%20%20%20%20%20%20%20%20%20%20%20%20%29%0A%20%20%20%20%20%20%20%20%20%20%20%20marker_81c6474dfd824c68a9a36faeee11a268.setIcon%28beautify_icon_d55e36b1ec2b47aaab80e551c1de6510%29%3B%0A%20%20%20%20%20%20%20%20%0A%20%20%20%20%0A%20%20%20%20%20%20%20%20var%20popup_808b11079f394600961a5858d4b54a92%20%3D%20L.popup%28%7B%22maxWidth%22%3A%20%22100%25%22%7D%29%3B%0A%0A%20%20%20%20%20%20%20%20%0A%20%20%20%20%20%20%20%20%20%20%20%20var%20html_a92295ac92b844e3a5543f349ab596de%20%3D%20%24%28%60%3Cdiv%20id%3D%22html_a92295ac92b844e3a5543f349ab596de%22%20style%3D%22width%3A%20100.0%25%3B%20height%3A%20100.0%25%3B%22%3EColchester%3C/div%3E%60%29%5B0%5D%3B%0A%20%20%20%20%20%20%20%20%20%20%20%20popup_808b11079f394600961a5858d4b54a92.setContent%28html_a92295ac92b844e3a5543f349ab596de%29%3B%0A%20%20%20%20%20%20%20%20%0A%0A%20%20%20%20%20%20%20%20marker_81c6474dfd824c68a9a36faeee11a268.bindPopup%28popup_808b11079f394600961a5858d4b54a92%29%0A%20%20%20%20%20%20%20%20%3B%0A%0A%20%20%20%20%20%20%20%20%0A%20%20%20%20%0A%20%20%20%20%0A%20%20%20%20%20%20%20%20%20%20%20%20var%20marker_d6f55e67b59d4a8a855856c70b22d964%20%3D%20L.marker%28%0A%20%20%20%20%20%20%20%20%20%20%20%20%20%20%20%20%5B52.01667%2C%204.70833%5D%2C%0A%20%20%20%20%20%20%20%20%20%20%20%20%20%20%20%20%7B%7D%0A%20%20%20%20%20%20%20%20%20%20%20%20%29.addTo%28map_91f06999e07149ddb319c223fd7b9966%29%3B%0A%20%20%20%20%20%20%20%20%0A%20%20%20%20%0A%20%20%20%20%20%20%20%20%20%20%20%20var%20beautify_icon_2761b73220fc4f8385e1169ec679c843%20%3D%20new%20L.BeautifyIcon.icon%28%0A%20%20%20%20%20%20%20%20%20%20%20%20%20%20%20%20%7B%22backgroundColor%22%3A%20%22black%22%2C%20%22borderColor%22%3A%20%22%23000%22%2C%20%22borderWidth%22%3A%203%2C%20%22icon%22%3A%20%22info%22%2C%20%22innerIconStyle%22%3A%20%22%22%2C%20%22isAlphaNumericIcon%22%3A%20false%2C%20%22spin%22%3A%20false%2C%20%22textColor%22%3A%20%22white%22%7D%0A%20%20%20%20%20%20%20%20%20%20%20%20%29%0A%20%20%20%20%20%20%20%20%20%20%20%20marker_d6f55e67b59d4a8a855856c70b22d964.setIcon%28beautify_icon_2761b73220fc4f8385e1169ec679c843%29%3B%0A%20%20%20%20%20%20%20%20%0A%20%20%20%20%0A%20%20%20%20%20%20%20%20var%20popup_96e95acc607f45abb06d8645ae4d9e0d%20%3D%20L.popup%28%7B%22maxWidth%22%3A%20%22100%25%22%7D%29%3B%0A%0A%20%20%20%20%20%20%20%20%0A%20%20%20%20%20%20%20%20%20%20%20%20var%20html_bfcf47cef89b4523918d4545ddd8b516%20%3D%20%24%28%60%3Cdiv%20id%3D%22html_bfcf47cef89b4523918d4545ddd8b516%22%20style%3D%22width%3A%20100.0%25%3B%20height%3A%20100.0%25%3B%22%3EGouda%3C/div%3E%60%29%5B0%5D%3B%0A%20%20%20%20%20%20%20%20%20%20%20%20popup_96e95acc607f45abb06d8645ae4d9e0d.setContent%28html_bfcf47cef89b4523918d4545ddd8b516%29%3B%0A%20%20%20%20%20%20%20%20%0A%0A%20%20%20%20%20%20%20%20marker_d6f55e67b59d4a8a855856c70b22d964.bindPopup%28popup_96e95acc607f45abb06d8645ae4d9e0d%29%0A%20%20%20%20%20%20%20%20%3B%0A%0A%20%20%20%20%20%20%20%20%0A%20%20%20%20%0A%3C/script%3E onload=\"this.contentDocument.open();this.contentDocument.write(    decodeURIComponent(this.getAttribute('data-html')));this.contentDocument.close();\" allowfullscreen webkitallowfullscreen mozallowfullscreen></iframe></div></div>"
      ],
      "text/plain": [
       "<folium.folium.Map at 0x7ff351030700>"
      ]
     },
     "execution_count": 54,
     "metadata": {},
     "output_type": "execute_result"
    }
   ],
   "source": [
    "visualiserFolium(G, coordonneesvoisins)"
   ]
  },
  {
   "cell_type": "markdown",
   "metadata": {},
   "source": [
    "Partie 2"
   ]
  },
  {
   "cell_type": "code",
   "execution_count": 55,
   "metadata": {},
   "outputs": [],
   "source": [
    "class Noeud:\n",
    "\t\n",
    "\tdef __init__(self, name):\n",
    "\t\tself.name = name\n",
    "\t\t'''\n",
    "\t\t\tUn noeud a des attributs sous forme de dictionnaire pyton avec comme cle: une liste de \n",
    "\t\t\tcoordonnes (latitude, longitude), la taille de la population\n",
    "\t\t'''\n",
    "\t\tself.attributs = {}\n",
    "\t\t'''\n",
    "\t\t\tLa liste des voisins sera initialisée à la création des arcs dans le graphe\n",
    "\t\t'''\n",
    "\t\tself.listeNomVoisin = []\n",
    "\n",
    "\tdef setAttribut(self, key, values):\n",
    "\t\tself.attributs.update({key:values})\n",
    "\n",
    "\tdef getAttribut(self, key):\t\t\n",
    "\t\tif key not in self.attributs:\n",
    "\t\t\treturn \"Clé inexistante\"\n",
    "\t\telse:\n",
    "\t\t\treturn key + \" = \" + str(self.attributs[key])\n",
    "\n",
    "\tdef getName(self):\n",
    "\t\treturn self.name\n",
    "\n",
    "\t'''\n",
    "\tDeux noeuds sont égaux s'ils ont même nom\n",
    "\t'''\n",
    "\tdef egal(self, noeud):\n",
    "\t\tif(self.name == noeud.name):\n",
    "\t\t\treturn True\n",
    "\t\telse:\n",
    "\t\t\treturn False\n",
    "\t\n",
    "\tdef getCoutMin(self):\n",
    "\t\tnoeuds = transport_relationships[['src', 'dst', 'cost']].to_dict('index')\n",
    "\t\tcout = 500\n",
    "\t\tfor noeud in noeuds:\n",
    "\t\t\tif(noeuds[noeud]['src'] == self.name and noeuds[noeud]['cost'] < cout):\n",
    "\t\t\t\tcout = noeuds[noeud]['cost']\n",
    "\t\t\tif(noeuds[noeud]['dst'] == self.name and noeuds[noeud]['cost'] < cout):\n",
    "\t\t\t\tcout = noeuds[noeud]['cost']\n",
    "\t\tif cout != 500:\n",
    "\t\t\treturn \"Le coût minimal du noeud \\\"\" + self.name +\"\\\" est de : \" + str(cout)\n",
    "\t\telse:\n",
    "\t\t\treturn \"Le noeud \\\"\" + self.name +\"\\\" est introuvble\"\n",
    "\n",
    "\tdef getCout(self, noeud):\n",
    "\t\tnodes = transport_relationships[['src', 'dst', 'cost']].to_dict('index')\n",
    "\t\tcost = 0\n",
    "\t\tfor node in nodes:\n",
    "\t\t\tif((nodes[node]['src'] == self.name and nodes[node]['dst'] == noeud.name) or (nodes[node]['src'] == noeud.name and nodes[node]['dst'] == self.name)):\n",
    "\t\t\t\tcost = nodes[node]['cost']\n",
    "\t\t\n",
    "\t\tif cost != 0:\n",
    "\t\t\treturn cost\n",
    "\t\telse:\n",
    "\t\t\treturn \"L'un des noeuds est introuvable ou il n'existe pas de relation entre \\\"\" + self.name +\"\\\" et \\\"\" + noeud.name +\"\\\"\"\n",
    "\n",
    "# ok = Noeud(\"Hoek van Holland\")\n",
    "# yup = Noeud(\"Felixstowe\")\n",
    "# print(ok.name)\n",
    "# ok.getCoutMin()\n",
    "# yup.getCoutMin()\n",
    "# ok.getCout(yup)\n"
   ]
  },
  {
   "cell_type": "code",
   "execution_count": 56,
   "metadata": {},
   "outputs": [],
   "source": [
    "\n",
    "class Graphe:\n",
    "\tdef __init__(self):\n",
    "\t\tself.noeuds = []\n",
    "\t\tself.arcs = {}\n",
    "\t\n",
    "\tdef creerNoeuds(self, fichiernoeuds):\n",
    "\t\ttry:\n",
    "\t\t\ttransport_nodes = csv.reader(open(fichiernoeuds, 'r', newline=''))\n",
    "\t\t\tfor node in transport_nodes:\n",
    "\t\t\t\tif node[0] != 'id':\n",
    "\t\t\t\t\tnoeud = Noeud(node[0])\n",
    "\t\t\t\t\tnoeud.setAttribut(key='coordonnes', values=[node[1], node[2]])\n",
    "\t\t\t\t\tnoeud.setAttribut(key='population', values=node[3])\n",
    "\t\t\t\t\tself.noeuds.append(noeud)\n",
    "\t\t\t\t\tself.arcs.update({noeud.getName() : []})\n",
    "\t\texcept:\n",
    "\t\t\tprint(\"Impossible d'ouvrir le fichier \\'\"+ fichiernoeuds + \"\\'.\" )\n",
    "\t\t\treturn\n",
    "\n",
    "\t\tif(fichiernoeuds != 'transport-nodes.csv'):\n",
    "\t\t\tprint(\"Vous n'avez pas ouvert le bon fichier.\")\n",
    "\t\t\treturn\n",
    "\n",
    "\t\tliste_noms_noeuds = []\n",
    "\t\tfor noeud in self.noeuds:\n",
    "\t\t\tliste_noms_noeuds.append(noeud.getName())\n",
    "\t\tprint(liste_noms_noeuds)\n",
    "\t\t\n",
    "\tdef creerArc(self, fichierarcs):\n",
    "\t\ttry:\n",
    "\t\t\ttransport_relationships = csv.reader(open(fichierarcs, 'r', newline=''))\n",
    "\t\texcept:\n",
    "\t\t\tprint(\"Impossible d'ouvrir le fichier\\'\"+ fichierarcs + \"\\'.\")\n",
    "\t\t\treturn   \n",
    "\t\t\n",
    "\t\tif(fichierarcs != 'transport-relationships.csv'):\n",
    "\t\t\tprint(\"Vous n'avez pas ouvert le bon fichier.\")\n",
    "\t\t\treturn\n",
    "\t\n",
    "\t\t#initialiser listeNomVoisins\n",
    "\t\tfor relationships in transport_relationships:\n",
    "\t\t\tfor noeud in self.noeuds:\n",
    "\t\t\t\tif(noeud.name == relationships[0]):\n",
    "\t\t\t\t\tnoeud.listeNomVoisin.append(relationships[1])\n",
    "\t\t\t\tif(noeud.name == relationships[1]):\n",
    "\t\t\t\t\tnoeud.listeNomVoisin.append(relationships[0])\n",
    "\t\t\tprint(noeud.listeNomVoisin)\t\n",
    "\n",
    "\n",
    "\t\tliste_arcs = []\n",
    "\t\tfor arc in transport_relationships:\n",
    "\t\t\tif arc[0] != \"src\":\n",
    "\t\t\t\tliste_arcs.append({\"src\":arc[0],\"dst\":arc[1],\"relationship\":arc[2],\"cost\":arc[3]})\n",
    "\t\t#return liste_arcs\n",
    "    \n",
    "\tdef getNoeud(self, name):\n",
    "\t\tfor noeud in self.noeuds:\n",
    "\t\t\tif(name == noeud.getName()):\n",
    "\t\t\t\treturn noeud\n",
    "\t\t\tif(name != noeud.getName() and noeud.getName() == self.noeuds[-1].getName()):\n",
    "\t\t\t\treturn \"Noeud introuvable\"\n",
    "\n",
    "\tdef getVoisins(self, noeud):\n",
    "\t\ttry:\n",
    "\t\t\ttransport_relationships = csv.reader(open('transport-relationships.csv', 'r', newline=''))\n",
    "\t\texcept:\n",
    "\t\t\tprint(\"Impossible d'ouvrir le fichier \\'\"+ 'transport-relationships.csv' + \"\\'.\" )\n",
    "\t\tvoisins = []\n",
    "\t\tfor relationships in transport_relationships:\n",
    "\t\t\tif(relationships[0] == noeud.name):\n",
    "\t\t\t\tvoisins.append(Noeud(relationships[1]))\n",
    "\t\t\tif(relationships[1] == noeud.name):\n",
    "\t\t\t\tvoisins.append(Noeud(relationships[0]))\n",
    "\t\treturn voisins\n",
    "\t\t\n",
    "\tdef getCoordonnesVoisins(self, noeud):\n",
    "\t\tcoordonneesvoisins = []\n",
    "\t\tfor voisin in self.getVoisins(noeud):\n",
    "\t\t\tcoordonneesvoisins.append(self.getNoeud(voisin.getName()).getAttribut(\"coordonnes\"))\n",
    "\t\treturn coordonneesvoisins\n",
    "\n",
    "\tdef visualiserFolium(self, locationpardefaut=[52.3791890, 4.899431], tiles='Stamen Toner', explored=None):\n",
    "\t\tpass"
   ]
  },
  {
   "cell_type": "code",
   "execution_count": 57,
   "metadata": {},
   "outputs": [
    {
     "name": "stdout",
     "output_type": "stream",
     "text": [
      "['Amsterdam', 'Utrecht', 'Den Haag', 'Immingham', 'Doncaster', 'Hoek van Holland', 'Felixstowe', 'Ipswich', 'Colchester', 'London', 'Rotterdam', 'Gouda']\n",
      "[]\n",
      "[]\n",
      "[]\n",
      "[]\n",
      "[]\n",
      "[]\n",
      "[]\n",
      "[]\n",
      "[]\n",
      "[]\n",
      "[]\n",
      "[]\n",
      "['Rotterdam']\n",
      "['Rotterdam', 'Utrecht']\n",
      "['Rotterdam', 'Utrecht', 'Den Haag']\n",
      "['Rotterdam', 'Utrecht', 'Den Haag']\n"
     ]
    }
   ],
   "source": [
    "G = Graphe()\n",
    "G.creerNoeuds('transport-nodes.csv')\n",
    "G.creerArc('transport-relationships.csv')\n"
   ]
  },
  {
   "cell_type": "markdown",
   "metadata": {},
   "source": [
    "Partie 3"
   ]
  },
  {
   "cell_type": "code",
   "execution_count": 58,
   "metadata": {},
   "outputs": [
    {
     "name": "stdout",
     "output_type": "stream",
     "text": [
      "['Khady', 'Dame', 'Mansour', 'Mamadou']\n",
      "['Dame', 'Mansour', 'Mamadou']\n"
     ]
    }
   ],
   "source": [
    "class Pile():\n",
    "\n",
    "    def __init__(self):\n",
    "        self.elements = []\n",
    "\n",
    "    '''\n",
    "    Insère un objet en tete de la pile\n",
    "    '''\n",
    "    def push(self, noeud):\n",
    "        # insertion du noeud à la 1ère position de la liste\n",
    "        self.elements.insert(0, noeud)\n",
    "    \n",
    "    '''\n",
    "    Retourne True si un noeud est dans la pile\n",
    "    '''\n",
    "    def contains_noeud(self, name):\n",
    "        for element in self.elements:\n",
    "            if(element.egal(name) == True):\n",
    "                return True\n",
    "        return False        \n",
    "        \n",
    "\n",
    "    '''\n",
    "    Retourne true si la pile est vide\n",
    "    '''\n",
    "    def empty(self):\n",
    "        if len(self.elements) == 0:\n",
    "            return True\n",
    "        return False\n",
    "    \n",
    "    '''\n",
    "    Retourne et supprime l'element en tete de pile\n",
    "    Retourne une exception si la pile est vide\n",
    "    '''\n",
    "    def remove(self):\n",
    "        try:\n",
    "            return self.elements.pop(0)\n",
    "        except:\n",
    "            print(\"Pile vide\")\n",
    "\n",
    "# Test des structures de données Pile et File\n",
    "f = Pile()\n",
    "f.push(\"Mamadou\")\n",
    "f.push(\"Mansour\")\n",
    "f.push(\"Dame\")\n",
    "f.push(\"Khady\")\n",
    "print(f.elements)\n",
    "f.remove()\n",
    "print(f.elements)"
   ]
  },
  {
   "cell_type": "code",
   "execution_count": 59,
   "metadata": {},
   "outputs": [
    {
     "name": "stdout",
     "output_type": "stream",
     "text": [
      "['Khady', 'Dame', 'Mansour', 'Mamadou']\n",
      "['Khady', 'Dame', 'Mansour']\n"
     ]
    }
   ],
   "source": [
    "class File(Pile):\n",
    "    def remove(self):\n",
    "        try:\n",
    "            return self.elements.pop()\n",
    "        except:\n",
    "            print(\"Suppression impossible\")\n",
    "            return\n",
    "\n",
    "p = File()\n",
    "p.push(\"Mamadou\")\n",
    "p.push(\"Mansour\")\n",
    "p.push(\"Dame\")\n",
    "p.push(\"Khady\")\n",
    "\n",
    "print(p.elements)\n",
    "p.remove()\n",
    "print(p.elements)"
   ]
  },
  {
   "cell_type": "markdown",
   "metadata": {},
   "source": [
    "Partie 4"
   ]
  },
  {
   "cell_type": "code",
   "execution_count": 60,
   "metadata": {},
   "outputs": [],
   "source": [
    "# def BFS(graphe:Graphe, noeud_source:Noeud, noeud_destination:Noeud):\n",
    "#     explored = File()\n",
    "#     frontiere = File()\n",
    "#     for voisin in graphe.getVoisins(noeud_source):\n",
    "#         frontiere.push(voisin)\n",
    "#     explored.push(noeud_source)\n",
    "#     if(noeud_destination.egal(noeud_source) == True):\n",
    "#         return noeud_source\n",
    "#     while(frontiere.empty() != True):\n",
    "#         remove = frontiere.remove()\n",
    "#         explored.push(remove)\n",
    "#         if(noeud_destination.egal(remove) == True):\n",
    "#             return remove\n",
    "#         voisins = graphe.getVoisins(remove)\n",
    "#         for voisin in voisins:\n",
    "#             if (explored.contains_noeud(voisin) == False and frontiere.contains_noeud(voisin) == False):\n",
    "#                 frontiere.push(voisin)\n",
    "#     print('Pas de solution')\n",
    "#     return explored"
   ]
  },
  {
   "cell_type": "code",
   "execution_count": 61,
   "metadata": {},
   "outputs": [
    {
     "name": "stdout",
     "output_type": "stream",
     "text": [
      "['Amsterdam', 'Utrecht', 'Den Haag', 'Immingham', 'Doncaster', 'Hoek van Holland', 'Felixstowe', 'Ipswich', 'Colchester', 'London', 'Rotterdam', 'Gouda']\n"
     ]
    }
   ],
   "source": [
    "def parcoursDFS(graphe:Graphe, noeud_source:Noeud, noeud_destination:Noeud):\n",
    "    explored = File()\n",
    "    frontiere = Pile()\n",
    "    for voisin in graphe.getVoisins(noeud_source):\n",
    "        frontiere.push(voisin)\n",
    "    explored.push(noeud_source)\n",
    "    if(noeud_destination.egal(noeud_source) == True):\n",
    "        return explored\n",
    "    while(frontiere.empty() != True):\n",
    "        remove = frontiere.remove()\n",
    "        explored.push(remove)\n",
    "        if(noeud_destination.egal(remove) == True):\n",
    "            return explored\n",
    "        voisins = graphe.getVoisins(remove)\n",
    "        for voisin in voisins:\n",
    "            if (explored.contains_noeud(voisin) == False and frontiere.contains_noeud(voisin) == False):\n",
    "                frontiere.push(voisin)\n",
    "    print('Pas de solution')\n",
    "    return\n",
    "\n",
    "G = Graphe()\n",
    "G.creerNoeuds('transport-nodes.csv')\n",
    "am = Noeud('London')\n",
    "ok = Noeud('Gouda')\n",
    "\n",
    "# for noeud in parcoursDFS(G, am, ok).elements:\n",
    "#     print(noeud.name)\n"
   ]
  }
 ],
 "metadata": {
  "interpreter": {
   "hash": "86efe56002bc932536efa6cd8ca5d98c3b4cfcdfd7af6801c8dd8dd106e111f4"
  },
  "kernelspec": {
   "display_name": "Python 3",
   "language": "python",
   "name": "python3"
  },
  "language_info": {
   "codemirror_mode": {
    "name": "ipython",
    "version": 3
   },
   "file_extension": ".py",
   "mimetype": "text/x-python",
   "name": "python",
   "nbconvert_exporter": "python",
   "pygments_lexer": "ipython3",
   "version": "3.8.10"
  }
 },
 "nbformat": 4,
 "nbformat_minor": 2
}
