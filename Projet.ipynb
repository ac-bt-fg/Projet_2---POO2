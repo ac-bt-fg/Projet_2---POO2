{
 "cells": [
  {
   "cell_type": "markdown",
   "metadata": {},
   "source": [
    "Partie 1"
   ]
  },
  {
   "cell_type": "code",
   "execution_count": null,
   "metadata": {},
   "outputs": [],
   "source": [
    "import pandas as pd\n",
    "import networkx as nx\n",
    "import matplotlib.pyplot as plt\n",
    "import csv\n",
    "import folium\n",
    "import folium.plugins\n",
    "\n",
    "%matplotlib inline\n"
   ]
  },
  {
   "cell_type": "code",
   "execution_count": null,
   "metadata": {},
   "outputs": [],
   "source": [
    "transport_nodes = pd.read_csv('transport-nodes.csv')\n",
    "print(transport_nodes.to_string())"
   ]
  },
  {
   "cell_type": "code",
   "execution_count": null,
   "metadata": {},
   "outputs": [],
   "source": [
    "transport_relationships = pd.read_csv('transport-relationships.csv')\n",
    "print(transport_relationships.to_string())"
   ]
  },
  {
   "cell_type": "code",
   "execution_count": null,
   "metadata": {},
   "outputs": [],
   "source": [
    "\n",
    "relationships = transport_relationships[['src', 'dst']]\n",
    "population_list = []\n",
    "G = nx.Graph()\n",
    "G = nx.from_pandas_edgelist(relationships, 'src', 'dst')\n",
    "\n",
    "for n in G.nodes:\n",
    "    i = 0\n",
    "    while(i != len(transport_nodes.id)):\n",
    "        if n == transport_nodes.id[i]:\n",
    "            population_list.append(transport_nodes.population[i]/550)\n",
    "        i += 1\n",
    "\n",
    "plt.figure(figsize=(15, 8))\n",
    "# nx.draw(G, with_labels=True, edge_color='red', width=3, node_color='yellow', node_size=population_list)\n",
    "# dict(G.nodes.data())\n"
   ]
  },
  {
   "cell_type": "code",
   "execution_count": null,
   "metadata": {},
   "outputs": [],
   "source": [
    "def ajouterAttribut(myGraphe, dfnode, nameAttr, Index):\n",
    "    nodes = dfnode[[Index, nameAttr]]\n",
    "    node_attr = nodes.set_index(Index).to_dict('index')\n",
    "    nx.set_node_attributes(myGraphe, node_attr)"
   ]
  },
  {
   "cell_type": "code",
   "execution_count": null,
   "metadata": {},
   "outputs": [],
   "source": [
    "ajouterAttribut(G, transport_nodes, 'latitude', 'id')\n",
    "ajouterAttribut(G, transport_nodes, 'longitude', 'id')\n",
    "ajouterAttribut(G, transport_nodes, 'population', 'id')"
   ]
  },
  {
   "cell_type": "code",
   "execution_count": null,
   "metadata": {},
   "outputs": [],
   "source": [
    "# dict(G.nodes.data())"
   ]
  },
  {
   "cell_type": "code",
   "execution_count": null,
   "metadata": {},
   "outputs": [],
   "source": [
    "\n",
    "basemap = folium.Map(location=[52.3791890, 4.899431],zoom_start=5, tiles='Stamen Toner')\n"
   ]
  },
  {
   "cell_type": "code",
   "execution_count": null,
   "metadata": {},
   "outputs": [],
   "source": [
    "# basemap"
   ]
  },
  {
   "cell_type": "code",
   "execution_count": null,
   "metadata": {},
   "outputs": [],
   "source": [
    "def marker(g):\n",
    "    for i in g.nodes:\n",
    "        nodes = dict(G.nodes.data())\n",
    "        latitude = nodes[i]['latitude']\n",
    "        longitude = nodes[i]['longitude']\n",
    "        folium.Marker(\n",
    "            location=[latitude, longitude],\n",
    "            icon = folium.plugins.BeautifyIcon(background_color='black', text_color='white', icon='info')\n",
    "        ).add_to(basemap)\n",
    "    return basemap"
   ]
  },
  {
   "cell_type": "code",
   "execution_count": null,
   "metadata": {},
   "outputs": [],
   "source": [
    "# marker(G)"
   ]
  },
  {
   "cell_type": "code",
   "execution_count": null,
   "metadata": {},
   "outputs": [],
   "source": [
    "def construirePointsImage(myGraphe):\n",
    "    points = []\n",
    "    nodes = dict(G.nodes.data())\n",
    "    \n",
    "    for i in myGraphe.nodes:\n",
    "        cordonnees_node = []\n",
    "        node_latitude = nodes[i]['latitude']\n",
    "        node_longitude = nodes[i]['longitude']\n",
    "        cordonnees_node.append(node_latitude)\n",
    "        cordonnees_node.append(node_longitude)\n",
    "\n",
    "        for neighbor in myGraphe.neighbors(i):\n",
    "            cordonnees_neighbor = []\n",
    "            neighbor_latitude = nodes[neighbor]['latitude']\n",
    "            neighbor_longitude = nodes[neighbor]['longitude']\n",
    "            cordonnees_neighbor.append(neighbor_latitude)\n",
    "            cordonnees_neighbor.append(neighbor_longitude)\n",
    "            \n",
    "            list_neighbors = []\n",
    "            list_neighbors.append(cordonnees_node)\n",
    "            list_neighbors.append(cordonnees_neighbor)\n",
    "\n",
    "            points.append(list_neighbors)\n",
    "\n",
    "    return points"
   ]
  },
  {
   "cell_type": "code",
   "execution_count": null,
   "metadata": {},
   "outputs": [],
   "source": [
    "coordonneesvoisins = construirePointsImage(G)\n",
    "# print(coordonneesvoisins)"
   ]
  },
  {
   "cell_type": "code",
   "execution_count": null,
   "metadata": {},
   "outputs": [],
   "source": [
    "def visualiserFolium(myGraphe, points, locationpardefaut=[52.3791890, 4.899431], tiles='Stamen Toner', explored=None ):\n",
    "    basemap = folium.Map(location=locationpardefaut, zoom_start=5, tiles=tiles, explored=explored)\n",
    "    points = construirePointsImage(myGraphe)\n",
    "    folium.PolyLine(points, color=\"yellow\", weight=3).add_to(basemap)\n",
    "    for i in myGraphe.nodes:\n",
    "        nodes = dict(G.nodes.data())\n",
    "        latitude = nodes[i]['latitude']\n",
    "        longitude = nodes[i]['longitude']\n",
    "        folium.Marker(\n",
    "            location=[latitude, longitude],\n",
    "            icon = folium.plugins.BeautifyIcon(background_color='black', text_color='white', icon='info'),\n",
    "            popup = i\n",
    "        ).add_to(basemap)\n",
    "    return basemap"
   ]
  },
  {
   "cell_type": "code",
   "execution_count": null,
   "metadata": {},
   "outputs": [],
   "source": [
    "visualiserFolium(G, coordonneesvoisins)"
   ]
  },
  {
   "cell_type": "markdown",
   "metadata": {},
   "source": [
    "Partie 2"
   ]
  },
  {
   "cell_type": "code",
   "execution_count": null,
   "metadata": {},
   "outputs": [],
   "source": [
    "class Noeud:\n",
    "\t\n",
    "\tdef __init__(self, name):\n",
    "\t\tself.name = name\n",
    "\t\t'''\n",
    "\t\t\tUn noeud a des attributs sous forme de dictionnaire pyton avec comme cle: une liste de \n",
    "\t\t\tcoordonnes (latitude, longitude), la taille de la population\n",
    "\t\t'''\n",
    "\t\tself.attributs = {}\n",
    "\t\t'''\n",
    "\t\t\tLa liste des voisins sera initialisée à la création des arcs dans le graphe\n",
    "\t\t'''\n",
    "\t\tself.listeNomVoisin = []\n",
    "\n",
    "\tdef setAttribut(self, key, values):\n",
    "\t\tself.attributs.update({key:values})\n",
    "\n",
    "\tdef getAttribut(self, key):\t\t\n",
    "\t\tif key not in self.attributs:\n",
    "\t\t\treturn \"Clé inexistante\"\n",
    "\t\telse:\n",
    "\t\t\treturn key + \" = \" + str(self.attributs[key])\n",
    "\n",
    "\tdef getName(self):\n",
    "\t\treturn self.name\n",
    "\n",
    "\t'''\n",
    "\tDeux noeuds sont égaux s'ils ont même nom\n",
    "\t'''\n",
    "\tdef egal(self, noeud):\n",
    "\t\tif(self.name == noeud.name):\n",
    "\t\t\treturn True\n",
    "\t\telse:\n",
    "\t\t\treturn False\n",
    "\t\n",
    "\tdef getCoutMin(self):\n",
    "\t\tnoeuds = transport_relationships[['src', 'dst', 'cost']].to_dict('index')\n",
    "\t\tcout = 500\n",
    "\t\tfor noeud in noeuds:\n",
    "\t\t\tif(noeuds[noeud]['src'] == self.name and noeuds[noeud]['cost'] < cout):\n",
    "\t\t\t\tcout = noeuds[noeud]['cost']\n",
    "\t\t\tif(noeuds[noeud]['dst'] == self.name and noeuds[noeud]['cost'] < cout):\n",
    "\t\t\t\tcout = noeuds[noeud]['cost']\n",
    "\t\tif cout != 500:\n",
    "\t\t\treturn \"Le coût minimal du noeud \\\"\" + self.name +\"\\\" est de : \" + str(cout)\n",
    "\t\telse:\n",
    "\t\t\treturn \"Le noeud \\\"\" + self.name +\"\\\" est introuvble\"\n",
    "\n",
    "\tdef getCout(self, noeud):\n",
    "\t\tnodes = transport_relationships[['src', 'dst', 'cost']].to_dict('index')\n",
    "\t\tcost = 0\n",
    "\t\tfor node in nodes:\n",
    "\t\t\tif((nodes[node]['src'] == self.name and nodes[node]['dst'] == noeud.name) or (nodes[node]['src'] == noeud.name and nodes[node]['dst'] == self.name)):\n",
    "\t\t\t\tcost = nodes[node]['cost']\n",
    "\t\t\n",
    "\t\tif cost != 0:\n",
    "\t\t\treturn cost\n",
    "\t\telse:\n",
    "\t\t\treturn \"L'un des noeuds est introuvable ou il n'existe pas de relation entre \\\"\" + self.name +\"\\\" et \\\"\" + noeud.name +\"\\\"\"\n",
    "\n",
    "# ok = Noeud(\"Hoek van Holland\")\n",
    "# yup = Noeud(\"Felixstowe\")\n",
    "# print(ok.name)\n",
    "# ok.getCoutMin()\n",
    "# yup.getCoutMin()\n",
    "# ok.getCout(yup)\n"
   ]
  },
  {
   "cell_type": "code",
   "execution_count": null,
   "metadata": {},
   "outputs": [],
   "source": [
    "\n",
    "class Graphe:\n",
    "\tdef __init__(self):\n",
    "\t\tself.noeuds = []\n",
    "\t\tself.arcs = {}\n",
    "\t\n",
    "\tdef creerNoeuds(self, fichiernoeuds):\n",
    "\t\ttry:\n",
    "\t\t\ttransport_nodes = csv.reader(open(fichiernoeuds, 'r', newline=''))\n",
    "\t\t\tfor node in transport_nodes:\n",
    "\t\t\t\tif node[0] != 'id':\n",
    "\t\t\t\t\tnoeud = Noeud(node[0])\n",
    "\t\t\t\t\tnoeud.setAttribut(key='coordonnes', values=[node[1], node[2]])\n",
    "\t\t\t\t\tnoeud.setAttribut(key='population', values=node[3])\n",
    "\t\t\t\t\tself.noeuds.append(noeud)\n",
    "\t\t\t\t\tself.arcs.update({noeud.getName() : []})\n",
    "\t\texcept:\n",
    "\t\t\tprint(\"Impossible d'ouvrir le fichier \\'\"+ fichiernoeuds + \"\\'.\" )\n",
    "\t\t\treturn\n",
    "\n",
    "\t\tif(fichiernoeuds != 'transport-nodes.csv'):\n",
    "\t\t\tprint(\"Vous n'avez pas ouvert le bon fichier.\")\n",
    "\t\t\treturn\n",
    "\n",
    "\t\tliste_noms_noeuds = []\n",
    "\t\tfor noeud in self.noeuds:\n",
    "\t\t\tliste_noms_noeuds.append(noeud.getName())\n",
    "\t\tprint(liste_noms_noeuds)\n",
    "\t\t\n",
    "\tdef creerArc(self, fichierarcs):\n",
    "\t\ttry:\n",
    "\t\t\ttransport_relationships = csv.reader(open(fichierarcs, 'r', newline=''))\n",
    "\t\texcept:\n",
    "\t\t\tprint(\"Impossible d'ouvrir le fichier\\'\"+ fichierarcs + \"\\'.\")\n",
    "\t\t\treturn   \n",
    "\t\t\n",
    "\t\tif(fichierarcs != 'transport-relationships.csv'):\n",
    "\t\t\tprint(\"Vous n'avez pas ouvert le bon fichier.\")\n",
    "\t\t\treturn\n",
    "\n",
    "\t\tfor yup in transport_relationships:\n",
    "\t\t\tif yup[0] != 'src':\n",
    "\t\t\t\tfor noeud in self.noeuds:\n",
    "\t\t\t\t\tif(yup[0] == noeud.name):\n",
    "\t\t\t\t\t\tnoeud.listeNomVoisin.append(yup[1])\n",
    "\t\t\t\t\tif(yup[1] == noeud.name):\n",
    "\t\t\t\t\t\tnoeud.listeNomVoisin.append(yup[0])\n",
    "\n",
    "\t\tliste_arcs = []\n",
    "\t\tfor arc in transport_relationships:\n",
    "\t\t\tif arc[0] != \"src\":\n",
    "\t\t\t\tliste_arcs.append({\"src\":arc[0],\"dst\":arc[1],\"relationship\":arc[2],\"cost\":arc[3]})\n",
    "\t\t#return liste_arcs\n",
    "    \n",
    "\tdef getNoeud(self, name):\n",
    "\t\tfor noeud in self.noeuds:\n",
    "\t\t\tif(name == noeud.getName()):\n",
    "\t\t\t\treturn noeud\n",
    "\t\t\tif(name != noeud.getName() and noeud.getName() == self.noeuds[-1].getName()):\n",
    "\t\t\t\treturn \"Noeud introuvable\"\n",
    "\n",
    "\tdef getVoisins(self, noeud):\n",
    "\t\tvoisins = []\n",
    "\t\tfor node in  self.noeuds:\n",
    "\t\t\tif noeud.egal(node):\n",
    "\t\t\t\tvoisins.extend(node.listeNomVoisin)\n",
    "\t\treturn voisins\n",
    "\t\t\n",
    "\tdef getCoordonnesVoisins(self, noeud):\n",
    "\t\tcoordonneesvoisins = []\n",
    "\t\tfor voisin in self.getVoisins(noeud):\n",
    "\t\t\tcoordonneesvoisins.append(self.getNoeud(voisin.getName()).getAttribut(\"coordonnes\"))\n",
    "\t\treturn coordonneesvoisins\n",
    "\n",
    "\tdef visualiserFolium(self, locationpardefaut=[52.3791890, 4.899431], tiles='Stamen Toner', explored=None):\n",
    "\t\tpass"
   ]
  },
  {
   "cell_type": "code",
   "execution_count": null,
   "metadata": {},
   "outputs": [],
   "source": [
    "G = Graphe()\n",
    "G.creerNoeuds('transport-nodes.csv')\n",
    "G.creerArc('transport-relationships.csv')\n",
    "\n"
   ]
  },
  {
   "cell_type": "markdown",
   "metadata": {},
   "source": [
    "Partie 3"
   ]
  },
  {
   "cell_type": "code",
   "execution_count": null,
   "metadata": {},
   "outputs": [],
   "source": [
    "class Pile():\n",
    "\n",
    "    def __init__(self):\n",
    "        self.elements = []\n",
    "\n",
    "    '''\n",
    "    Insère un objet en tete de la pile\n",
    "    '''\n",
    "    def push(self, noeud):\n",
    "        # insertion du noeud à la 1ère position de la liste\n",
    "        self.elements.insert(0, noeud)\n",
    "    \n",
    "    '''\n",
    "    Retourne True si un noeud est dans la pile\n",
    "    '''\n",
    "    def contains_noeud(self, name):\n",
    "        for element in self.elements:\n",
    "            if(element.egal(name) == True):\n",
    "                return True\n",
    "        return False        \n",
    "        \n",
    "\n",
    "    '''\n",
    "    Retourne true si la pile est vide\n",
    "    '''\n",
    "    def empty(self):\n",
    "        if len(self.elements) == 0:\n",
    "            return True\n",
    "        return False\n",
    "    \n",
    "    '''\n",
    "    Retourne et supprime l'element en tete de pile\n",
    "    Retourne une exception si la pile est vide\n",
    "    '''\n",
    "    def remove(self):\n",
    "        try:\n",
    "            return self.elements.pop(0)\n",
    "        except:\n",
    "            print(\"Pile vide\")\n",
    "\n",
    "# Test des structures de données Pile et File\n",
    "f = Pile()\n",
    "f.push(\"Mamadou\")\n",
    "f.push(\"Mansour\")\n",
    "f.push(\"Dame\")\n",
    "f.push(\"Khady\")\n",
    "print(f.elements)\n",
    "f.remove()\n",
    "print(f.elements)"
   ]
  },
  {
   "cell_type": "code",
   "execution_count": null,
   "metadata": {},
   "outputs": [],
   "source": [
    "class File(Pile):\n",
    "    def remove(self):\n",
    "        try:\n",
    "            return self.elements.pop()\n",
    "        except:\n",
    "            print(\"Suppression impossible\")\n",
    "            return\n",
    "\n",
    "p = File()\n",
    "p.push(\"Mamadou\")\n",
    "p.push(\"Mansour\")\n",
    "p.push(\"Dame\")\n",
    "p.push(\"Khady\")\n",
    "\n",
    "print(p.elements)\n",
    "p.remove()\n",
    "print(p.elements)"
   ]
  },
  {
   "cell_type": "markdown",
   "metadata": {},
   "source": [
    "Partie 4"
   ]
  },
  {
   "cell_type": "code",
   "execution_count": null,
   "metadata": {},
   "outputs": [],
   "source": [
    "# def BFS(graphe:Graphe, noeud_source:Noeud, noeud_destination:Noeud):\n",
    "#     explored = File()\n",
    "#     frontiere = File()\n",
    "#     for voisin in graphe.getVoisins(noeud_source):\n",
    "#         frontiere.push(voisin)\n",
    "#     explored.push(noeud_source)\n",
    "#     if(noeud_destination.egal(noeud_source) == True):\n",
    "#         return noeud_source\n",
    "#     while(frontiere.empty() != True):\n",
    "#         remove = frontiere.remove()\n",
    "#         explored.push(remove)\n",
    "#         if(noeud_destination.egal(remove) == True):\n",
    "#             return remove\n",
    "#         voisins = graphe.getVoisins(remove)\n",
    "#         for voisin in voisins:\n",
    "#             if (explored.contains_noeud(voisin) == False and frontiere.contains_noeud(voisin) == False):\n",
    "#                 frontiere.push(voisin)\n",
    "#     print('Pas de solution')\n",
    "#     return explored"
   ]
  },
  {
   "cell_type": "code",
   "execution_count": null,
   "metadata": {},
   "outputs": [],
   "source": [
    "def parcoursDFS(graphe:Graphe, noeud_source:Noeud, noeud_destination:Noeud):\n",
    "    explored = File()\n",
    "    frontiere = Pile()\n",
    "    for voisin in graphe.getVoisins(noeud_source):\n",
    "        frontiere.push(voisin)\n",
    "    explored.push(noeud_source)\n",
    "    if(noeud_destination.egal(noeud_source) == True):\n",
    "        return explored\n",
    "    while(frontiere.empty() != True):\n",
    "        remove = frontiere.remove()\n",
    "        explored.push(remove)\n",
    "        if(noeud_destination.egal(remove) == True):\n",
    "            return explored\n",
    "        voisins = graphe.getVoisins(remove)\n",
    "        for voisin in voisins:\n",
    "            if (explored.contains_noeud(voisin) == False and frontiere.contains_noeud(voisin) == False):\n",
    "                frontiere.push(voisin)\n",
    "    print('Pas de solution')\n",
    "    return\n",
    "\n",
    "G = Graphe()\n",
    "G.creerNoeuds('transport-nodes.csv')\n",
    "am = Noeud('London')\n",
    "ok = Noeud('Gouda')\n",
    "\n",
    "# for noeud in parcoursDFS(G, am, ok).elements:\n",
    "#     print(noeud.name)\n"
   ]
  }
 ],
 "metadata": {
  "interpreter": {
   "hash": "86efe56002bc932536efa6cd8ca5d98c3b4cfcdfd7af6801c8dd8dd106e111f4"
  },
  "kernelspec": {
   "display_name": "Python 3",
   "language": "python",
   "name": "python3"
  },
  "language_info": {
   "codemirror_mode": {
    "name": "ipython",
    "version": 3
   },
   "file_extension": ".py",
   "mimetype": "text/x-python",
   "name": "python",
   "nbconvert_exporter": "python",
   "pygments_lexer": "ipython3",
   "version": "3.9.5"
  }
 },
 "nbformat": 4,
 "nbformat_minor": 2
}
