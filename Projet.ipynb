{
 "cells": [
  {
   "cell_type": "markdown",
   "metadata": {},
   "source": [
    "Partie 1"
   ]
  },
  {
   "cell_type": "code",
   "execution_count": 45,
   "metadata": {},
   "outputs": [],
   "source": [
    "import pandas as pd\n",
    "import networkx as nx\n",
    "import matplotlib.pyplot as plt\n",
    "import csv\n",
    "import folium\n",
    "import folium.plugins\n",
    "\n",
    "%matplotlib inline\n"
   ]
  },
  {
   "cell_type": "code",
   "execution_count": 46,
   "metadata": {},
   "outputs": [
    {
     "name": "stdout",
     "output_type": "stream",
     "text": [
      "                  id   latitude  longitude  population\n",
      "0          Amsterdam  52.379189   4.899431      821752\n",
      "1            Utrecht  52.092876   5.104480      334176\n",
      "2           Den Haag  52.078663   4.288788      514861\n",
      "3          Immingham  53.612390  -0.222190        9642\n",
      "4          Doncaster  53.522850  -1.131160      302400\n",
      "5   Hoek van Holland  51.977500   4.133330        9382\n",
      "6         Felixstowe  51.963750   1.351100       23689\n",
      "7            Ipswich  52.059170   1.155450      133384\n",
      "8         Colchester  51.889210   0.904210      104390\n",
      "9             London  51.509865  -0.118092     8787892\n",
      "10         Rotterdam  51.922500   4.479170      623652\n",
      "11             Gouda  52.016670   4.708330       70939\n"
     ]
    }
   ],
   "source": [
    "transport_nodes = pd.read_csv('transport-nodes.csv')\n",
    "print(transport_nodes.to_string())"
   ]
  },
  {
   "cell_type": "code",
   "execution_count": 47,
   "metadata": {},
   "outputs": [
    {
     "name": "stdout",
     "output_type": "stream",
     "text": [
      "                 src               dst relationship  cost\n",
      "0          Amsterdam           Utrecht        EROAD    46\n",
      "1          Amsterdam          Den Haag        EROAD    59\n",
      "2           Den Haag         Rotterdam        EROAD    26\n",
      "3          Amsterdam         Immingham        EROAD   369\n",
      "4          Immingham         Doncaster        EROAD    74\n",
      "5          Doncaster            London        EROAD   277\n",
      "6   Hoek van Holland          Den Haag        EROAD    27\n",
      "7         Felixstowe  Hoek van Holland        EROAD   207\n",
      "8            Ipswich        Felixstowe        EROAD    22\n",
      "9         Colchester           Ipswich        EROAD    32\n",
      "10            London        Colchester        EROAD   106\n",
      "11             Gouda         Rotterdam        EROAD    25\n",
      "12             Gouda           Utrecht        EROAD    35\n",
      "13          Den Haag             Gouda        EROAD    32\n",
      "14  Hoek van Holland         Rotterdam        EROAD    33\n"
     ]
    }
   ],
   "source": [
    "transport_relationships = pd.read_csv('transport-relationships.csv')\n",
    "print(transport_relationships.to_string())"
   ]
  },
  {
   "cell_type": "code",
   "execution_count": 48,
   "metadata": {},
   "outputs": [
    {
     "data": {
      "text/plain": [
       "<Figure size 1080x576 with 0 Axes>"
      ]
     },
     "execution_count": 48,
     "metadata": {},
     "output_type": "execute_result"
    },
    {
     "data": {
      "text/plain": [
       "<Figure size 1080x576 with 0 Axes>"
      ]
     },
     "metadata": {},
     "output_type": "display_data"
    }
   ],
   "source": [
    "\n",
    "relationships = transport_relationships[['src', 'dst']]\n",
    "population_list = []\n",
    "G = nx.Graph()\n",
    "G = nx.from_pandas_edgelist(relationships, 'src', 'dst')\n",
    "\n",
    "for n in G.nodes:\n",
    "    i = 0\n",
    "    while(i != len(transport_nodes.id)):\n",
    "        if n == transport_nodes.id[i]:\n",
    "            population_list.append(transport_nodes.population[i]/550)\n",
    "        i += 1\n",
    "\n",
    "plt.figure(figsize=(15, 8))\n",
    "# nx.draw(G, with_labels=True, edge_color='red', width=3, node_color='yellow', node_size=population_list)\n",
    "# dict(G.nodes.data())\n"
   ]
  },
  {
   "cell_type": "code",
   "execution_count": 49,
   "metadata": {},
   "outputs": [],
   "source": [
    "def ajouterAttribut(myGraphe, dfnode, nameAttr, Index):\n",
    "    nodes = dfnode[[Index, nameAttr]]\n",
    "    node_attr = nodes.set_index(Index).to_dict('index')\n",
    "    nx.set_node_attributes(myGraphe, node_attr)"
   ]
  },
  {
   "cell_type": "code",
   "execution_count": 50,
   "metadata": {},
   "outputs": [],
   "source": [
    "ajouterAttribut(G, transport_nodes, 'latitude', 'id')\n",
    "ajouterAttribut(G, transport_nodes, 'longitude', 'id')\n",
    "ajouterAttribut(G, transport_nodes, 'population', 'id')"
   ]
  },
  {
   "cell_type": "code",
   "execution_count": 51,
   "metadata": {},
   "outputs": [],
   "source": [
    "# dict(G.nodes.data())"
   ]
  },
  {
   "cell_type": "code",
   "execution_count": 52,
   "metadata": {},
   "outputs": [],
   "source": [
    "\n",
    "basemap = folium.Map(location=[52.3791890, 4.899431],zoom_start=5, tiles='Stamen Toner')\n"
   ]
  },
  {
   "cell_type": "code",
   "execution_count": 53,
   "metadata": {},
   "outputs": [],
   "source": [
    "# basemap"
   ]
  },
  {
   "cell_type": "code",
   "execution_count": 54,
   "metadata": {},
   "outputs": [],
   "source": [
    "def marker(g):\n",
    "    for i in g.nodes:\n",
    "        nodes = dict(G.nodes.data())\n",
    "        latitude = nodes[i]['latitude']\n",
    "        longitude = nodes[i]['longitude']\n",
    "        folium.Marker(\n",
    "            location=[latitude, longitude],\n",
    "            icon = folium.plugins.BeautifyIcon(background_color='black', text_color='white', icon='info')\n",
    "        ).add_to(basemap)\n",
    "    return basemap"
   ]
  },
  {
   "cell_type": "code",
   "execution_count": 55,
   "metadata": {},
   "outputs": [],
   "source": [
    "# marker(G)"
   ]
  },
  {
   "cell_type": "code",
   "execution_count": 56,
   "metadata": {},
   "outputs": [],
   "source": [
    "def construirePointsImage(myGraphe):\n",
    "    points = []\n",
    "    nodes = dict(G.nodes.data())\n",
    "    \n",
    "    for i in myGraphe.nodes:\n",
    "        cordonnees_node = []\n",
    "        node_latitude = nodes[i]['latitude']\n",
    "        node_longitude = nodes[i]['longitude']\n",
    "        cordonnees_node.append(node_latitude)\n",
    "        cordonnees_node.append(node_longitude)\n",
    "\n",
    "        for neighbor in myGraphe.neighbors(i):\n",
    "            cordonnees_neighbor = []\n",
    "            neighbor_latitude = nodes[neighbor]['latitude']\n",
    "            neighbor_longitude = nodes[neighbor]['longitude']\n",
    "            cordonnees_neighbor.append(neighbor_latitude)\n",
    "            cordonnees_neighbor.append(neighbor_longitude)\n",
    "            \n",
    "            list_neighbors = []\n",
    "            list_neighbors.append(cordonnees_node)\n",
    "            list_neighbors.append(cordonnees_neighbor)\n",
    "\n",
    "            points.append(list_neighbors)\n",
    "\n",
    "    return points"
   ]
  },
  {
   "cell_type": "code",
   "execution_count": 57,
   "metadata": {},
   "outputs": [],
   "source": [
    "coordonneesvoisins = construirePointsImage(G)\n",
    "# print(coordonneesvoisins)"
   ]
  },
  {
   "cell_type": "code",
   "execution_count": 58,
   "metadata": {},
   "outputs": [],
   "source": [
    "def visualiserFolium(myGraphe, points, locationpardefaut=[52.3791890, 4.899431], tiles='Stamen Toner', explored=None ):\n",
    "    basemap = folium.Map(location=locationpardefaut, zoom_start=5, tiles=tiles, explored=explored)\n",
    "    points = construirePointsImage(myGraphe)\n",
    "    folium.PolyLine(points, color=\"yellow\", weight=3).add_to(basemap)\n",
    "    for i in myGraphe.nodes:\n",
    "        nodes = dict(G.nodes.data())\n",
    "        latitude = nodes[i]['latitude']\n",
    "        longitude = nodes[i]['longitude']\n",
    "        folium.Marker(\n",
    "            location=[latitude, longitude],\n",
    "            icon = folium.plugins.BeautifyIcon(background_color='black', text_color='white', icon='info'),\n",
    "            popup = i\n",
    "        ).add_to(basemap)\n",
    "    return basemap"
   ]
  },
  {
   "cell_type": "code",
   "execution_count": 59,
   "metadata": {},
   "outputs": [
    {
     "data": {
      "text/html": [
       "<div style=\"width:100%;\"><div style=\"position:relative;width:100%;height:0;padding-bottom:60%;\"><span style=\"color:#565656\">Make this Notebook Trusted to load map: File -> Trust Notebook</span><iframe src=\"about:blank\" style=\"position:absolute;width:100%;height:100%;left:0;top:0;border:none !important;\" data-html=%3C%21DOCTYPE%20html%3E%0A%3Chead%3E%20%20%20%20%0A%20%20%20%20%3Cmeta%20http-equiv%3D%22content-type%22%20content%3D%22text/html%3B%20charset%3DUTF-8%22%20/%3E%0A%20%20%20%20%0A%20%20%20%20%20%20%20%20%3Cscript%3E%0A%20%20%20%20%20%20%20%20%20%20%20%20L_NO_TOUCH%20%3D%20false%3B%0A%20%20%20%20%20%20%20%20%20%20%20%20L_DISABLE_3D%20%3D%20false%3B%0A%20%20%20%20%20%20%20%20%3C/script%3E%0A%20%20%20%20%0A%20%20%20%20%3Cstyle%3Ehtml%2C%20body%20%7Bwidth%3A%20100%25%3Bheight%3A%20100%25%3Bmargin%3A%200%3Bpadding%3A%200%3B%7D%3C/style%3E%0A%20%20%20%20%3Cstyle%3E%23map%20%7Bposition%3Aabsolute%3Btop%3A0%3Bbottom%3A0%3Bright%3A0%3Bleft%3A0%3B%7D%3C/style%3E%0A%20%20%20%20%3Cscript%20src%3D%22https%3A//cdn.jsdelivr.net/npm/leaflet%401.6.0/dist/leaflet.js%22%3E%3C/script%3E%0A%20%20%20%20%3Cscript%20src%3D%22https%3A//code.jquery.com/jquery-1.12.4.min.js%22%3E%3C/script%3E%0A%20%20%20%20%3Cscript%20src%3D%22https%3A//maxcdn.bootstrapcdn.com/bootstrap/3.2.0/js/bootstrap.min.js%22%3E%3C/script%3E%0A%20%20%20%20%3Cscript%20src%3D%22https%3A//cdnjs.cloudflare.com/ajax/libs/Leaflet.awesome-markers/2.0.2/leaflet.awesome-markers.js%22%3E%3C/script%3E%0A%20%20%20%20%3Clink%20rel%3D%22stylesheet%22%20href%3D%22https%3A//cdn.jsdelivr.net/npm/leaflet%401.6.0/dist/leaflet.css%22/%3E%0A%20%20%20%20%3Clink%20rel%3D%22stylesheet%22%20href%3D%22https%3A//maxcdn.bootstrapcdn.com/bootstrap/3.2.0/css/bootstrap.min.css%22/%3E%0A%20%20%20%20%3Clink%20rel%3D%22stylesheet%22%20href%3D%22https%3A//maxcdn.bootstrapcdn.com/bootstrap/3.2.0/css/bootstrap-theme.min.css%22/%3E%0A%20%20%20%20%3Clink%20rel%3D%22stylesheet%22%20href%3D%22https%3A//maxcdn.bootstrapcdn.com/font-awesome/4.6.3/css/font-awesome.min.css%22/%3E%0A%20%20%20%20%3Clink%20rel%3D%22stylesheet%22%20href%3D%22https%3A//cdnjs.cloudflare.com/ajax/libs/Leaflet.awesome-markers/2.0.2/leaflet.awesome-markers.css%22/%3E%0A%20%20%20%20%3Clink%20rel%3D%22stylesheet%22%20href%3D%22https%3A//cdn.jsdelivr.net/gh/python-visualization/folium/folium/templates/leaflet.awesome.rotate.min.css%22/%3E%0A%20%20%20%20%0A%20%20%20%20%20%20%20%20%20%20%20%20%3Cmeta%20name%3D%22viewport%22%20content%3D%22width%3Ddevice-width%2C%0A%20%20%20%20%20%20%20%20%20%20%20%20%20%20%20%20initial-scale%3D1.0%2C%20maximum-scale%3D1.0%2C%20user-scalable%3Dno%22%20/%3E%0A%20%20%20%20%20%20%20%20%20%20%20%20%3Cstyle%3E%0A%20%20%20%20%20%20%20%20%20%20%20%20%20%20%20%20%23map_079395d874db4614b115883f85b4b57f%20%7B%0A%20%20%20%20%20%20%20%20%20%20%20%20%20%20%20%20%20%20%20%20position%3A%20relative%3B%0A%20%20%20%20%20%20%20%20%20%20%20%20%20%20%20%20%20%20%20%20width%3A%20100.0%25%3B%0A%20%20%20%20%20%20%20%20%20%20%20%20%20%20%20%20%20%20%20%20height%3A%20100.0%25%3B%0A%20%20%20%20%20%20%20%20%20%20%20%20%20%20%20%20%20%20%20%20left%3A%200.0%25%3B%0A%20%20%20%20%20%20%20%20%20%20%20%20%20%20%20%20%20%20%20%20top%3A%200.0%25%3B%0A%20%20%20%20%20%20%20%20%20%20%20%20%20%20%20%20%7D%0A%20%20%20%20%20%20%20%20%20%20%20%20%3C/style%3E%0A%20%20%20%20%20%20%20%20%0A%20%20%20%20%3Cscript%20src%3D%22https%3A//cdn.jsdelivr.net/gh/marslan390/BeautifyMarker/leaflet-beautify-marker-icon.min.js%22%3E%3C/script%3E%0A%20%20%20%20%3Clink%20rel%3D%22stylesheet%22%20href%3D%22https%3A//cdn.jsdelivr.net/gh/marslan390/BeautifyMarker/leaflet-beautify-marker-icon.min.css%22/%3E%0A%3C/head%3E%0A%3Cbody%3E%20%20%20%20%0A%20%20%20%20%0A%20%20%20%20%20%20%20%20%20%20%20%20%3Cdiv%20class%3D%22folium-map%22%20id%3D%22map_079395d874db4614b115883f85b4b57f%22%20%3E%3C/div%3E%0A%20%20%20%20%20%20%20%20%0A%3C/body%3E%0A%3Cscript%3E%20%20%20%20%0A%20%20%20%20%0A%20%20%20%20%20%20%20%20%20%20%20%20var%20map_079395d874db4614b115883f85b4b57f%20%3D%20L.map%28%0A%20%20%20%20%20%20%20%20%20%20%20%20%20%20%20%20%22map_079395d874db4614b115883f85b4b57f%22%2C%0A%20%20%20%20%20%20%20%20%20%20%20%20%20%20%20%20%7B%0A%20%20%20%20%20%20%20%20%20%20%20%20%20%20%20%20%20%20%20%20center%3A%20%5B52.379189%2C%204.899431%5D%2C%0A%20%20%20%20%20%20%20%20%20%20%20%20%20%20%20%20%20%20%20%20crs%3A%20L.CRS.EPSG3857%2C%0A%20%20%20%20%20%20%20%20%20%20%20%20%20%20%20%20%20%20%20%20zoom%3A%205%2C%0A%20%20%20%20%20%20%20%20%20%20%20%20%20%20%20%20%20%20%20%20zoomControl%3A%20true%2C%0A%20%20%20%20%20%20%20%20%20%20%20%20%20%20%20%20%20%20%20%20preferCanvas%3A%20false%2C%0A%20%20%20%20%20%20%20%20%20%20%20%20%20%20%20%20%7D%0A%20%20%20%20%20%20%20%20%20%20%20%20%29%3B%0A%0A%20%20%20%20%20%20%20%20%20%20%20%20%0A%0A%20%20%20%20%20%20%20%20%0A%20%20%20%20%0A%20%20%20%20%20%20%20%20%20%20%20%20var%20tile_layer_f029ba6e3e5944599f62ce9ee78e4ba3%20%3D%20L.tileLayer%28%0A%20%20%20%20%20%20%20%20%20%20%20%20%20%20%20%20%22https%3A//stamen-tiles-%7Bs%7D.a.ssl.fastly.net/toner/%7Bz%7D/%7Bx%7D/%7By%7D.png%22%2C%0A%20%20%20%20%20%20%20%20%20%20%20%20%20%20%20%20%7B%22attribution%22%3A%20%22Map%20tiles%20by%20%5Cu003ca%20href%3D%5C%22http%3A//stamen.com%5C%22%5Cu003eStamen%20Design%5Cu003c/a%5Cu003e%2C%20under%20%5Cu003ca%20href%3D%5C%22http%3A//creativecommons.org/licenses/by/3.0%5C%22%5Cu003eCC%20BY%203.0%5Cu003c/a%5Cu003e.%20Data%20by%20%5Cu0026copy%3B%20%5Cu003ca%20href%3D%5C%22http%3A//openstreetmap.org%5C%22%5Cu003eOpenStreetMap%5Cu003c/a%5Cu003e%2C%20under%20%5Cu003ca%20href%3D%5C%22http%3A//www.openstreetmap.org/copyright%5C%22%5Cu003eODbL%5Cu003c/a%5Cu003e.%22%2C%20%22detectRetina%22%3A%20false%2C%20%22maxNativeZoom%22%3A%2018%2C%20%22maxZoom%22%3A%2018%2C%20%22minZoom%22%3A%200%2C%20%22noWrap%22%3A%20false%2C%20%22opacity%22%3A%201%2C%20%22subdomains%22%3A%20%22abc%22%2C%20%22tms%22%3A%20false%7D%0A%20%20%20%20%20%20%20%20%20%20%20%20%29.addTo%28map_079395d874db4614b115883f85b4b57f%29%3B%0A%20%20%20%20%20%20%20%20%0A%20%20%20%20%0A%20%20%20%20%20%20%20%20%20%20%20%20var%20poly_line_5658da65a49144e380d5a35f9f23fe5e%20%3D%20L.polyline%28%0A%20%20%20%20%20%20%20%20%20%20%20%20%20%20%20%20%5B%5B%5B52.379189%2C%204.899431%5D%2C%20%5B52.092876%2C%205.10448%5D%5D%2C%20%5B%5B52.379189%2C%204.899431%5D%2C%20%5B52.078663%2C%204.288788%5D%5D%2C%20%5B%5B52.379189%2C%204.899431%5D%2C%20%5B53.61239%2C%20-0.22219%5D%5D%2C%20%5B%5B52.092876%2C%205.10448%5D%2C%20%5B52.379189%2C%204.899431%5D%5D%2C%20%5B%5B52.092876%2C%205.10448%5D%2C%20%5B52.01667%2C%204.70833%5D%5D%2C%20%5B%5B52.078663%2C%204.288788%5D%2C%20%5B52.379189%2C%204.899431%5D%5D%2C%20%5B%5B52.078663%2C%204.288788%5D%2C%20%5B51.9225%2C%204.47917%5D%5D%2C%20%5B%5B52.078663%2C%204.288788%5D%2C%20%5B51.9775%2C%204.13333%5D%5D%2C%20%5B%5B52.078663%2C%204.288788%5D%2C%20%5B52.01667%2C%204.70833%5D%5D%2C%20%5B%5B51.9225%2C%204.47917%5D%2C%20%5B52.078663%2C%204.288788%5D%5D%2C%20%5B%5B51.9225%2C%204.47917%5D%2C%20%5B52.01667%2C%204.70833%5D%5D%2C%20%5B%5B51.9225%2C%204.47917%5D%2C%20%5B51.9775%2C%204.13333%5D%5D%2C%20%5B%5B53.61239%2C%20-0.22219%5D%2C%20%5B52.379189%2C%204.899431%5D%5D%2C%20%5B%5B53.61239%2C%20-0.22219%5D%2C%20%5B53.52285%2C%20-1.13116%5D%5D%2C%20%5B%5B53.52285%2C%20-1.13116%5D%2C%20%5B53.61239%2C%20-0.22219%5D%5D%2C%20%5B%5B53.52285%2C%20-1.13116%5D%2C%20%5B51.509865%2C%20-0.118092%5D%5D%2C%20%5B%5B51.509865%2C%20-0.118092%5D%2C%20%5B53.52285%2C%20-1.13116%5D%5D%2C%20%5B%5B51.509865%2C%20-0.118092%5D%2C%20%5B51.88921%2C%200.90421%5D%5D%2C%20%5B%5B51.9775%2C%204.13333%5D%2C%20%5B52.078663%2C%204.288788%5D%5D%2C%20%5B%5B51.9775%2C%204.13333%5D%2C%20%5B51.96375%2C%201.3511%5D%5D%2C%20%5B%5B51.9775%2C%204.13333%5D%2C%20%5B51.9225%2C%204.47917%5D%5D%2C%20%5B%5B51.96375%2C%201.3511%5D%2C%20%5B51.9775%2C%204.13333%5D%5D%2C%20%5B%5B51.96375%2C%201.3511%5D%2C%20%5B52.05917%2C%201.15545%5D%5D%2C%20%5B%5B52.05917%2C%201.15545%5D%2C%20%5B51.96375%2C%201.3511%5D%5D%2C%20%5B%5B52.05917%2C%201.15545%5D%2C%20%5B51.88921%2C%200.90421%5D%5D%2C%20%5B%5B51.88921%2C%200.90421%5D%2C%20%5B52.05917%2C%201.15545%5D%5D%2C%20%5B%5B51.88921%2C%200.90421%5D%2C%20%5B51.509865%2C%20-0.118092%5D%5D%2C%20%5B%5B52.01667%2C%204.70833%5D%2C%20%5B51.9225%2C%204.47917%5D%5D%2C%20%5B%5B52.01667%2C%204.70833%5D%2C%20%5B52.092876%2C%205.10448%5D%5D%2C%20%5B%5B52.01667%2C%204.70833%5D%2C%20%5B52.078663%2C%204.288788%5D%5D%5D%2C%0A%20%20%20%20%20%20%20%20%20%20%20%20%20%20%20%20%7B%22bubblingMouseEvents%22%3A%20true%2C%20%22color%22%3A%20%22yellow%22%2C%20%22dashArray%22%3A%20null%2C%20%22dashOffset%22%3A%20null%2C%20%22fill%22%3A%20false%2C%20%22fillColor%22%3A%20%22yellow%22%2C%20%22fillOpacity%22%3A%200.2%2C%20%22fillRule%22%3A%20%22evenodd%22%2C%20%22lineCap%22%3A%20%22round%22%2C%20%22lineJoin%22%3A%20%22round%22%2C%20%22noClip%22%3A%20false%2C%20%22opacity%22%3A%201.0%2C%20%22smoothFactor%22%3A%201.0%2C%20%22stroke%22%3A%20true%2C%20%22weight%22%3A%203%7D%0A%20%20%20%20%20%20%20%20%20%20%20%20%29.addTo%28map_079395d874db4614b115883f85b4b57f%29%3B%0A%20%20%20%20%20%20%20%20%0A%20%20%20%20%0A%20%20%20%20%20%20%20%20%20%20%20%20var%20marker_b5bb70240d8043e0a458de6913a6326c%20%3D%20L.marker%28%0A%20%20%20%20%20%20%20%20%20%20%20%20%20%20%20%20%5B52.379189%2C%204.899431%5D%2C%0A%20%20%20%20%20%20%20%20%20%20%20%20%20%20%20%20%7B%7D%0A%20%20%20%20%20%20%20%20%20%20%20%20%29.addTo%28map_079395d874db4614b115883f85b4b57f%29%3B%0A%20%20%20%20%20%20%20%20%0A%20%20%20%20%0A%20%20%20%20%20%20%20%20%20%20%20%20var%20beautify_icon_ebd2454a215c45a5807c9a4667d2d1ee%20%3D%20new%20L.BeautifyIcon.icon%28%0A%20%20%20%20%20%20%20%20%20%20%20%20%20%20%20%20%7B%22backgroundColor%22%3A%20%22black%22%2C%20%22borderColor%22%3A%20%22%23000%22%2C%20%22borderWidth%22%3A%203%2C%20%22icon%22%3A%20%22info%22%2C%20%22innerIconStyle%22%3A%20%22%22%2C%20%22isAlphaNumericIcon%22%3A%20false%2C%20%22spin%22%3A%20false%2C%20%22textColor%22%3A%20%22white%22%7D%0A%20%20%20%20%20%20%20%20%20%20%20%20%29%0A%20%20%20%20%20%20%20%20%20%20%20%20marker_b5bb70240d8043e0a458de6913a6326c.setIcon%28beautify_icon_ebd2454a215c45a5807c9a4667d2d1ee%29%3B%0A%20%20%20%20%20%20%20%20%0A%20%20%20%20%0A%20%20%20%20%20%20%20%20var%20popup_3b2d2d4ecfb3412a89c81e55449ed89f%20%3D%20L.popup%28%7B%22maxWidth%22%3A%20%22100%25%22%7D%29%3B%0A%0A%20%20%20%20%20%20%20%20%0A%20%20%20%20%20%20%20%20%20%20%20%20var%20html_d36317cf1e9844569b871fcb6898c3f5%20%3D%20%24%28%60%3Cdiv%20id%3D%22html_d36317cf1e9844569b871fcb6898c3f5%22%20style%3D%22width%3A%20100.0%25%3B%20height%3A%20100.0%25%3B%22%3EAmsterdam%3C/div%3E%60%29%5B0%5D%3B%0A%20%20%20%20%20%20%20%20%20%20%20%20popup_3b2d2d4ecfb3412a89c81e55449ed89f.setContent%28html_d36317cf1e9844569b871fcb6898c3f5%29%3B%0A%20%20%20%20%20%20%20%20%0A%0A%20%20%20%20%20%20%20%20marker_b5bb70240d8043e0a458de6913a6326c.bindPopup%28popup_3b2d2d4ecfb3412a89c81e55449ed89f%29%0A%20%20%20%20%20%20%20%20%3B%0A%0A%20%20%20%20%20%20%20%20%0A%20%20%20%20%0A%20%20%20%20%0A%20%20%20%20%20%20%20%20%20%20%20%20var%20marker_d1f9f14c190f426b9d0ae7ecaa63b1ba%20%3D%20L.marker%28%0A%20%20%20%20%20%20%20%20%20%20%20%20%20%20%20%20%5B52.092876%2C%205.10448%5D%2C%0A%20%20%20%20%20%20%20%20%20%20%20%20%20%20%20%20%7B%7D%0A%20%20%20%20%20%20%20%20%20%20%20%20%29.addTo%28map_079395d874db4614b115883f85b4b57f%29%3B%0A%20%20%20%20%20%20%20%20%0A%20%20%20%20%0A%20%20%20%20%20%20%20%20%20%20%20%20var%20beautify_icon_49a285231d9f44d3aa2a0c38a0654540%20%3D%20new%20L.BeautifyIcon.icon%28%0A%20%20%20%20%20%20%20%20%20%20%20%20%20%20%20%20%7B%22backgroundColor%22%3A%20%22black%22%2C%20%22borderColor%22%3A%20%22%23000%22%2C%20%22borderWidth%22%3A%203%2C%20%22icon%22%3A%20%22info%22%2C%20%22innerIconStyle%22%3A%20%22%22%2C%20%22isAlphaNumericIcon%22%3A%20false%2C%20%22spin%22%3A%20false%2C%20%22textColor%22%3A%20%22white%22%7D%0A%20%20%20%20%20%20%20%20%20%20%20%20%29%0A%20%20%20%20%20%20%20%20%20%20%20%20marker_d1f9f14c190f426b9d0ae7ecaa63b1ba.setIcon%28beautify_icon_49a285231d9f44d3aa2a0c38a0654540%29%3B%0A%20%20%20%20%20%20%20%20%0A%20%20%20%20%0A%20%20%20%20%20%20%20%20var%20popup_7ea46f8e42ab45e1918445e858ac430c%20%3D%20L.popup%28%7B%22maxWidth%22%3A%20%22100%25%22%7D%29%3B%0A%0A%20%20%20%20%20%20%20%20%0A%20%20%20%20%20%20%20%20%20%20%20%20var%20html_22946e3ccaf24e9187af5cf49a3991f9%20%3D%20%24%28%60%3Cdiv%20id%3D%22html_22946e3ccaf24e9187af5cf49a3991f9%22%20style%3D%22width%3A%20100.0%25%3B%20height%3A%20100.0%25%3B%22%3EUtrecht%3C/div%3E%60%29%5B0%5D%3B%0A%20%20%20%20%20%20%20%20%20%20%20%20popup_7ea46f8e42ab45e1918445e858ac430c.setContent%28html_22946e3ccaf24e9187af5cf49a3991f9%29%3B%0A%20%20%20%20%20%20%20%20%0A%0A%20%20%20%20%20%20%20%20marker_d1f9f14c190f426b9d0ae7ecaa63b1ba.bindPopup%28popup_7ea46f8e42ab45e1918445e858ac430c%29%0A%20%20%20%20%20%20%20%20%3B%0A%0A%20%20%20%20%20%20%20%20%0A%20%20%20%20%0A%20%20%20%20%0A%20%20%20%20%20%20%20%20%20%20%20%20var%20marker_0e682540f45c4155aacb9fe31efdbe9a%20%3D%20L.marker%28%0A%20%20%20%20%20%20%20%20%20%20%20%20%20%20%20%20%5B52.078663%2C%204.288788%5D%2C%0A%20%20%20%20%20%20%20%20%20%20%20%20%20%20%20%20%7B%7D%0A%20%20%20%20%20%20%20%20%20%20%20%20%29.addTo%28map_079395d874db4614b115883f85b4b57f%29%3B%0A%20%20%20%20%20%20%20%20%0A%20%20%20%20%0A%20%20%20%20%20%20%20%20%20%20%20%20var%20beautify_icon_4a9fa8dbefb24898a6e2a96d93b219b6%20%3D%20new%20L.BeautifyIcon.icon%28%0A%20%20%20%20%20%20%20%20%20%20%20%20%20%20%20%20%7B%22backgroundColor%22%3A%20%22black%22%2C%20%22borderColor%22%3A%20%22%23000%22%2C%20%22borderWidth%22%3A%203%2C%20%22icon%22%3A%20%22info%22%2C%20%22innerIconStyle%22%3A%20%22%22%2C%20%22isAlphaNumericIcon%22%3A%20false%2C%20%22spin%22%3A%20false%2C%20%22textColor%22%3A%20%22white%22%7D%0A%20%20%20%20%20%20%20%20%20%20%20%20%29%0A%20%20%20%20%20%20%20%20%20%20%20%20marker_0e682540f45c4155aacb9fe31efdbe9a.setIcon%28beautify_icon_4a9fa8dbefb24898a6e2a96d93b219b6%29%3B%0A%20%20%20%20%20%20%20%20%0A%20%20%20%20%0A%20%20%20%20%20%20%20%20var%20popup_9fe985df4a63448d839d9894c645eb6c%20%3D%20L.popup%28%7B%22maxWidth%22%3A%20%22100%25%22%7D%29%3B%0A%0A%20%20%20%20%20%20%20%20%0A%20%20%20%20%20%20%20%20%20%20%20%20var%20html_56ba7aede12f4e4b867eb3dd6061b184%20%3D%20%24%28%60%3Cdiv%20id%3D%22html_56ba7aede12f4e4b867eb3dd6061b184%22%20style%3D%22width%3A%20100.0%25%3B%20height%3A%20100.0%25%3B%22%3EDen%20Haag%3C/div%3E%60%29%5B0%5D%3B%0A%20%20%20%20%20%20%20%20%20%20%20%20popup_9fe985df4a63448d839d9894c645eb6c.setContent%28html_56ba7aede12f4e4b867eb3dd6061b184%29%3B%0A%20%20%20%20%20%20%20%20%0A%0A%20%20%20%20%20%20%20%20marker_0e682540f45c4155aacb9fe31efdbe9a.bindPopup%28popup_9fe985df4a63448d839d9894c645eb6c%29%0A%20%20%20%20%20%20%20%20%3B%0A%0A%20%20%20%20%20%20%20%20%0A%20%20%20%20%0A%20%20%20%20%0A%20%20%20%20%20%20%20%20%20%20%20%20var%20marker_6ef13dc740724f0fae6c958092f5244b%20%3D%20L.marker%28%0A%20%20%20%20%20%20%20%20%20%20%20%20%20%20%20%20%5B51.9225%2C%204.47917%5D%2C%0A%20%20%20%20%20%20%20%20%20%20%20%20%20%20%20%20%7B%7D%0A%20%20%20%20%20%20%20%20%20%20%20%20%29.addTo%28map_079395d874db4614b115883f85b4b57f%29%3B%0A%20%20%20%20%20%20%20%20%0A%20%20%20%20%0A%20%20%20%20%20%20%20%20%20%20%20%20var%20beautify_icon_7a19a3fd9aa44d8b9a740ead6491b6fe%20%3D%20new%20L.BeautifyIcon.icon%28%0A%20%20%20%20%20%20%20%20%20%20%20%20%20%20%20%20%7B%22backgroundColor%22%3A%20%22black%22%2C%20%22borderColor%22%3A%20%22%23000%22%2C%20%22borderWidth%22%3A%203%2C%20%22icon%22%3A%20%22info%22%2C%20%22innerIconStyle%22%3A%20%22%22%2C%20%22isAlphaNumericIcon%22%3A%20false%2C%20%22spin%22%3A%20false%2C%20%22textColor%22%3A%20%22white%22%7D%0A%20%20%20%20%20%20%20%20%20%20%20%20%29%0A%20%20%20%20%20%20%20%20%20%20%20%20marker_6ef13dc740724f0fae6c958092f5244b.setIcon%28beautify_icon_7a19a3fd9aa44d8b9a740ead6491b6fe%29%3B%0A%20%20%20%20%20%20%20%20%0A%20%20%20%20%0A%20%20%20%20%20%20%20%20var%20popup_e07504d8dd294ffda820d8bb751b9c68%20%3D%20L.popup%28%7B%22maxWidth%22%3A%20%22100%25%22%7D%29%3B%0A%0A%20%20%20%20%20%20%20%20%0A%20%20%20%20%20%20%20%20%20%20%20%20var%20html_c1a3be240e1f47959726c75aca40535d%20%3D%20%24%28%60%3Cdiv%20id%3D%22html_c1a3be240e1f47959726c75aca40535d%22%20style%3D%22width%3A%20100.0%25%3B%20height%3A%20100.0%25%3B%22%3ERotterdam%3C/div%3E%60%29%5B0%5D%3B%0A%20%20%20%20%20%20%20%20%20%20%20%20popup_e07504d8dd294ffda820d8bb751b9c68.setContent%28html_c1a3be240e1f47959726c75aca40535d%29%3B%0A%20%20%20%20%20%20%20%20%0A%0A%20%20%20%20%20%20%20%20marker_6ef13dc740724f0fae6c958092f5244b.bindPopup%28popup_e07504d8dd294ffda820d8bb751b9c68%29%0A%20%20%20%20%20%20%20%20%3B%0A%0A%20%20%20%20%20%20%20%20%0A%20%20%20%20%0A%20%20%20%20%0A%20%20%20%20%20%20%20%20%20%20%20%20var%20marker_911393e2f092451692e2e43ef10be673%20%3D%20L.marker%28%0A%20%20%20%20%20%20%20%20%20%20%20%20%20%20%20%20%5B53.61239%2C%20-0.22219%5D%2C%0A%20%20%20%20%20%20%20%20%20%20%20%20%20%20%20%20%7B%7D%0A%20%20%20%20%20%20%20%20%20%20%20%20%29.addTo%28map_079395d874db4614b115883f85b4b57f%29%3B%0A%20%20%20%20%20%20%20%20%0A%20%20%20%20%0A%20%20%20%20%20%20%20%20%20%20%20%20var%20beautify_icon_9b113c0658bb48838f742df0b0bc4788%20%3D%20new%20L.BeautifyIcon.icon%28%0A%20%20%20%20%20%20%20%20%20%20%20%20%20%20%20%20%7B%22backgroundColor%22%3A%20%22black%22%2C%20%22borderColor%22%3A%20%22%23000%22%2C%20%22borderWidth%22%3A%203%2C%20%22icon%22%3A%20%22info%22%2C%20%22innerIconStyle%22%3A%20%22%22%2C%20%22isAlphaNumericIcon%22%3A%20false%2C%20%22spin%22%3A%20false%2C%20%22textColor%22%3A%20%22white%22%7D%0A%20%20%20%20%20%20%20%20%20%20%20%20%29%0A%20%20%20%20%20%20%20%20%20%20%20%20marker_911393e2f092451692e2e43ef10be673.setIcon%28beautify_icon_9b113c0658bb48838f742df0b0bc4788%29%3B%0A%20%20%20%20%20%20%20%20%0A%20%20%20%20%0A%20%20%20%20%20%20%20%20var%20popup_1ecfbfd07d204b378808a818795b1eaf%20%3D%20L.popup%28%7B%22maxWidth%22%3A%20%22100%25%22%7D%29%3B%0A%0A%20%20%20%20%20%20%20%20%0A%20%20%20%20%20%20%20%20%20%20%20%20var%20html_861c626d3d8c42ac953b198070457e26%20%3D%20%24%28%60%3Cdiv%20id%3D%22html_861c626d3d8c42ac953b198070457e26%22%20style%3D%22width%3A%20100.0%25%3B%20height%3A%20100.0%25%3B%22%3EImmingham%3C/div%3E%60%29%5B0%5D%3B%0A%20%20%20%20%20%20%20%20%20%20%20%20popup_1ecfbfd07d204b378808a818795b1eaf.setContent%28html_861c626d3d8c42ac953b198070457e26%29%3B%0A%20%20%20%20%20%20%20%20%0A%0A%20%20%20%20%20%20%20%20marker_911393e2f092451692e2e43ef10be673.bindPopup%28popup_1ecfbfd07d204b378808a818795b1eaf%29%0A%20%20%20%20%20%20%20%20%3B%0A%0A%20%20%20%20%20%20%20%20%0A%20%20%20%20%0A%20%20%20%20%0A%20%20%20%20%20%20%20%20%20%20%20%20var%20marker_44bd73bfc92541f4a6ed5d4a2e961356%20%3D%20L.marker%28%0A%20%20%20%20%20%20%20%20%20%20%20%20%20%20%20%20%5B53.52285%2C%20-1.13116%5D%2C%0A%20%20%20%20%20%20%20%20%20%20%20%20%20%20%20%20%7B%7D%0A%20%20%20%20%20%20%20%20%20%20%20%20%29.addTo%28map_079395d874db4614b115883f85b4b57f%29%3B%0A%20%20%20%20%20%20%20%20%0A%20%20%20%20%0A%20%20%20%20%20%20%20%20%20%20%20%20var%20beautify_icon_0e18c5909c824ee895923b900946e68e%20%3D%20new%20L.BeautifyIcon.icon%28%0A%20%20%20%20%20%20%20%20%20%20%20%20%20%20%20%20%7B%22backgroundColor%22%3A%20%22black%22%2C%20%22borderColor%22%3A%20%22%23000%22%2C%20%22borderWidth%22%3A%203%2C%20%22icon%22%3A%20%22info%22%2C%20%22innerIconStyle%22%3A%20%22%22%2C%20%22isAlphaNumericIcon%22%3A%20false%2C%20%22spin%22%3A%20false%2C%20%22textColor%22%3A%20%22white%22%7D%0A%20%20%20%20%20%20%20%20%20%20%20%20%29%0A%20%20%20%20%20%20%20%20%20%20%20%20marker_44bd73bfc92541f4a6ed5d4a2e961356.setIcon%28beautify_icon_0e18c5909c824ee895923b900946e68e%29%3B%0A%20%20%20%20%20%20%20%20%0A%20%20%20%20%0A%20%20%20%20%20%20%20%20var%20popup_c22db1657bcd4004a322276ac1799f7c%20%3D%20L.popup%28%7B%22maxWidth%22%3A%20%22100%25%22%7D%29%3B%0A%0A%20%20%20%20%20%20%20%20%0A%20%20%20%20%20%20%20%20%20%20%20%20var%20html_1e282f61ff0643ffa67f50a7e84f3439%20%3D%20%24%28%60%3Cdiv%20id%3D%22html_1e282f61ff0643ffa67f50a7e84f3439%22%20style%3D%22width%3A%20100.0%25%3B%20height%3A%20100.0%25%3B%22%3EDoncaster%3C/div%3E%60%29%5B0%5D%3B%0A%20%20%20%20%20%20%20%20%20%20%20%20popup_c22db1657bcd4004a322276ac1799f7c.setContent%28html_1e282f61ff0643ffa67f50a7e84f3439%29%3B%0A%20%20%20%20%20%20%20%20%0A%0A%20%20%20%20%20%20%20%20marker_44bd73bfc92541f4a6ed5d4a2e961356.bindPopup%28popup_c22db1657bcd4004a322276ac1799f7c%29%0A%20%20%20%20%20%20%20%20%3B%0A%0A%20%20%20%20%20%20%20%20%0A%20%20%20%20%0A%20%20%20%20%0A%20%20%20%20%20%20%20%20%20%20%20%20var%20marker_8ba2d20c76414ac7ba8f0c6ddc6dd33a%20%3D%20L.marker%28%0A%20%20%20%20%20%20%20%20%20%20%20%20%20%20%20%20%5B51.509865%2C%20-0.118092%5D%2C%0A%20%20%20%20%20%20%20%20%20%20%20%20%20%20%20%20%7B%7D%0A%20%20%20%20%20%20%20%20%20%20%20%20%29.addTo%28map_079395d874db4614b115883f85b4b57f%29%3B%0A%20%20%20%20%20%20%20%20%0A%20%20%20%20%0A%20%20%20%20%20%20%20%20%20%20%20%20var%20beautify_icon_8ecd0450d4054ec39fa910798c4bd84c%20%3D%20new%20L.BeautifyIcon.icon%28%0A%20%20%20%20%20%20%20%20%20%20%20%20%20%20%20%20%7B%22backgroundColor%22%3A%20%22black%22%2C%20%22borderColor%22%3A%20%22%23000%22%2C%20%22borderWidth%22%3A%203%2C%20%22icon%22%3A%20%22info%22%2C%20%22innerIconStyle%22%3A%20%22%22%2C%20%22isAlphaNumericIcon%22%3A%20false%2C%20%22spin%22%3A%20false%2C%20%22textColor%22%3A%20%22white%22%7D%0A%20%20%20%20%20%20%20%20%20%20%20%20%29%0A%20%20%20%20%20%20%20%20%20%20%20%20marker_8ba2d20c76414ac7ba8f0c6ddc6dd33a.setIcon%28beautify_icon_8ecd0450d4054ec39fa910798c4bd84c%29%3B%0A%20%20%20%20%20%20%20%20%0A%20%20%20%20%0A%20%20%20%20%20%20%20%20var%20popup_3c1c9ca1412e4c08afb8089b488c1b42%20%3D%20L.popup%28%7B%22maxWidth%22%3A%20%22100%25%22%7D%29%3B%0A%0A%20%20%20%20%20%20%20%20%0A%20%20%20%20%20%20%20%20%20%20%20%20var%20html_f0f38eb7148c4dd9b6c9002b77b1eb8a%20%3D%20%24%28%60%3Cdiv%20id%3D%22html_f0f38eb7148c4dd9b6c9002b77b1eb8a%22%20style%3D%22width%3A%20100.0%25%3B%20height%3A%20100.0%25%3B%22%3ELondon%3C/div%3E%60%29%5B0%5D%3B%0A%20%20%20%20%20%20%20%20%20%20%20%20popup_3c1c9ca1412e4c08afb8089b488c1b42.setContent%28html_f0f38eb7148c4dd9b6c9002b77b1eb8a%29%3B%0A%20%20%20%20%20%20%20%20%0A%0A%20%20%20%20%20%20%20%20marker_8ba2d20c76414ac7ba8f0c6ddc6dd33a.bindPopup%28popup_3c1c9ca1412e4c08afb8089b488c1b42%29%0A%20%20%20%20%20%20%20%20%3B%0A%0A%20%20%20%20%20%20%20%20%0A%20%20%20%20%0A%20%20%20%20%0A%20%20%20%20%20%20%20%20%20%20%20%20var%20marker_74e249978a49449f85c0b2e86656c185%20%3D%20L.marker%28%0A%20%20%20%20%20%20%20%20%20%20%20%20%20%20%20%20%5B51.9775%2C%204.13333%5D%2C%0A%20%20%20%20%20%20%20%20%20%20%20%20%20%20%20%20%7B%7D%0A%20%20%20%20%20%20%20%20%20%20%20%20%29.addTo%28map_079395d874db4614b115883f85b4b57f%29%3B%0A%20%20%20%20%20%20%20%20%0A%20%20%20%20%0A%20%20%20%20%20%20%20%20%20%20%20%20var%20beautify_icon_a0422e4bca594a9db95a6238a72ac919%20%3D%20new%20L.BeautifyIcon.icon%28%0A%20%20%20%20%20%20%20%20%20%20%20%20%20%20%20%20%7B%22backgroundColor%22%3A%20%22black%22%2C%20%22borderColor%22%3A%20%22%23000%22%2C%20%22borderWidth%22%3A%203%2C%20%22icon%22%3A%20%22info%22%2C%20%22innerIconStyle%22%3A%20%22%22%2C%20%22isAlphaNumericIcon%22%3A%20false%2C%20%22spin%22%3A%20false%2C%20%22textColor%22%3A%20%22white%22%7D%0A%20%20%20%20%20%20%20%20%20%20%20%20%29%0A%20%20%20%20%20%20%20%20%20%20%20%20marker_74e249978a49449f85c0b2e86656c185.setIcon%28beautify_icon_a0422e4bca594a9db95a6238a72ac919%29%3B%0A%20%20%20%20%20%20%20%20%0A%20%20%20%20%0A%20%20%20%20%20%20%20%20var%20popup_d2e5dc83b0f64107b7f2922c8e7f7140%20%3D%20L.popup%28%7B%22maxWidth%22%3A%20%22100%25%22%7D%29%3B%0A%0A%20%20%20%20%20%20%20%20%0A%20%20%20%20%20%20%20%20%20%20%20%20var%20html_1ab538ceae0e46baa53d9d87b086b81f%20%3D%20%24%28%60%3Cdiv%20id%3D%22html_1ab538ceae0e46baa53d9d87b086b81f%22%20style%3D%22width%3A%20100.0%25%3B%20height%3A%20100.0%25%3B%22%3EHoek%20van%20Holland%3C/div%3E%60%29%5B0%5D%3B%0A%20%20%20%20%20%20%20%20%20%20%20%20popup_d2e5dc83b0f64107b7f2922c8e7f7140.setContent%28html_1ab538ceae0e46baa53d9d87b086b81f%29%3B%0A%20%20%20%20%20%20%20%20%0A%0A%20%20%20%20%20%20%20%20marker_74e249978a49449f85c0b2e86656c185.bindPopup%28popup_d2e5dc83b0f64107b7f2922c8e7f7140%29%0A%20%20%20%20%20%20%20%20%3B%0A%0A%20%20%20%20%20%20%20%20%0A%20%20%20%20%0A%20%20%20%20%0A%20%20%20%20%20%20%20%20%20%20%20%20var%20marker_e31c587432804fb586bfdd9b47299a0f%20%3D%20L.marker%28%0A%20%20%20%20%20%20%20%20%20%20%20%20%20%20%20%20%5B51.96375%2C%201.3511%5D%2C%0A%20%20%20%20%20%20%20%20%20%20%20%20%20%20%20%20%7B%7D%0A%20%20%20%20%20%20%20%20%20%20%20%20%29.addTo%28map_079395d874db4614b115883f85b4b57f%29%3B%0A%20%20%20%20%20%20%20%20%0A%20%20%20%20%0A%20%20%20%20%20%20%20%20%20%20%20%20var%20beautify_icon_9880f7db58f34b2eabc6933132843a65%20%3D%20new%20L.BeautifyIcon.icon%28%0A%20%20%20%20%20%20%20%20%20%20%20%20%20%20%20%20%7B%22backgroundColor%22%3A%20%22black%22%2C%20%22borderColor%22%3A%20%22%23000%22%2C%20%22borderWidth%22%3A%203%2C%20%22icon%22%3A%20%22info%22%2C%20%22innerIconStyle%22%3A%20%22%22%2C%20%22isAlphaNumericIcon%22%3A%20false%2C%20%22spin%22%3A%20false%2C%20%22textColor%22%3A%20%22white%22%7D%0A%20%20%20%20%20%20%20%20%20%20%20%20%29%0A%20%20%20%20%20%20%20%20%20%20%20%20marker_e31c587432804fb586bfdd9b47299a0f.setIcon%28beautify_icon_9880f7db58f34b2eabc6933132843a65%29%3B%0A%20%20%20%20%20%20%20%20%0A%20%20%20%20%0A%20%20%20%20%20%20%20%20var%20popup_9259e1824a09458cb9d2a93f4c0d2200%20%3D%20L.popup%28%7B%22maxWidth%22%3A%20%22100%25%22%7D%29%3B%0A%0A%20%20%20%20%20%20%20%20%0A%20%20%20%20%20%20%20%20%20%20%20%20var%20html_4596f5d92c3d47159f31df3ca6681627%20%3D%20%24%28%60%3Cdiv%20id%3D%22html_4596f5d92c3d47159f31df3ca6681627%22%20style%3D%22width%3A%20100.0%25%3B%20height%3A%20100.0%25%3B%22%3EFelixstowe%3C/div%3E%60%29%5B0%5D%3B%0A%20%20%20%20%20%20%20%20%20%20%20%20popup_9259e1824a09458cb9d2a93f4c0d2200.setContent%28html_4596f5d92c3d47159f31df3ca6681627%29%3B%0A%20%20%20%20%20%20%20%20%0A%0A%20%20%20%20%20%20%20%20marker_e31c587432804fb586bfdd9b47299a0f.bindPopup%28popup_9259e1824a09458cb9d2a93f4c0d2200%29%0A%20%20%20%20%20%20%20%20%3B%0A%0A%20%20%20%20%20%20%20%20%0A%20%20%20%20%0A%20%20%20%20%0A%20%20%20%20%20%20%20%20%20%20%20%20var%20marker_1038fcfcf7a841e8aa512d170284cf0f%20%3D%20L.marker%28%0A%20%20%20%20%20%20%20%20%20%20%20%20%20%20%20%20%5B52.05917%2C%201.15545%5D%2C%0A%20%20%20%20%20%20%20%20%20%20%20%20%20%20%20%20%7B%7D%0A%20%20%20%20%20%20%20%20%20%20%20%20%29.addTo%28map_079395d874db4614b115883f85b4b57f%29%3B%0A%20%20%20%20%20%20%20%20%0A%20%20%20%20%0A%20%20%20%20%20%20%20%20%20%20%20%20var%20beautify_icon_8676df2617744327835c98c7ef3052ac%20%3D%20new%20L.BeautifyIcon.icon%28%0A%20%20%20%20%20%20%20%20%20%20%20%20%20%20%20%20%7B%22backgroundColor%22%3A%20%22black%22%2C%20%22borderColor%22%3A%20%22%23000%22%2C%20%22borderWidth%22%3A%203%2C%20%22icon%22%3A%20%22info%22%2C%20%22innerIconStyle%22%3A%20%22%22%2C%20%22isAlphaNumericIcon%22%3A%20false%2C%20%22spin%22%3A%20false%2C%20%22textColor%22%3A%20%22white%22%7D%0A%20%20%20%20%20%20%20%20%20%20%20%20%29%0A%20%20%20%20%20%20%20%20%20%20%20%20marker_1038fcfcf7a841e8aa512d170284cf0f.setIcon%28beautify_icon_8676df2617744327835c98c7ef3052ac%29%3B%0A%20%20%20%20%20%20%20%20%0A%20%20%20%20%0A%20%20%20%20%20%20%20%20var%20popup_4b8bc946d1514b319df3bc73e0246e29%20%3D%20L.popup%28%7B%22maxWidth%22%3A%20%22100%25%22%7D%29%3B%0A%0A%20%20%20%20%20%20%20%20%0A%20%20%20%20%20%20%20%20%20%20%20%20var%20html_e4c02005e271466499812dbb6f2711a4%20%3D%20%24%28%60%3Cdiv%20id%3D%22html_e4c02005e271466499812dbb6f2711a4%22%20style%3D%22width%3A%20100.0%25%3B%20height%3A%20100.0%25%3B%22%3EIpswich%3C/div%3E%60%29%5B0%5D%3B%0A%20%20%20%20%20%20%20%20%20%20%20%20popup_4b8bc946d1514b319df3bc73e0246e29.setContent%28html_e4c02005e271466499812dbb6f2711a4%29%3B%0A%20%20%20%20%20%20%20%20%0A%0A%20%20%20%20%20%20%20%20marker_1038fcfcf7a841e8aa512d170284cf0f.bindPopup%28popup_4b8bc946d1514b319df3bc73e0246e29%29%0A%20%20%20%20%20%20%20%20%3B%0A%0A%20%20%20%20%20%20%20%20%0A%20%20%20%20%0A%20%20%20%20%0A%20%20%20%20%20%20%20%20%20%20%20%20var%20marker_2fe4cc33ec784e95a2d119605fd48c98%20%3D%20L.marker%28%0A%20%20%20%20%20%20%20%20%20%20%20%20%20%20%20%20%5B51.88921%2C%200.90421%5D%2C%0A%20%20%20%20%20%20%20%20%20%20%20%20%20%20%20%20%7B%7D%0A%20%20%20%20%20%20%20%20%20%20%20%20%29.addTo%28map_079395d874db4614b115883f85b4b57f%29%3B%0A%20%20%20%20%20%20%20%20%0A%20%20%20%20%0A%20%20%20%20%20%20%20%20%20%20%20%20var%20beautify_icon_9a15cab7e93f40f08a8500b591821d3f%20%3D%20new%20L.BeautifyIcon.icon%28%0A%20%20%20%20%20%20%20%20%20%20%20%20%20%20%20%20%7B%22backgroundColor%22%3A%20%22black%22%2C%20%22borderColor%22%3A%20%22%23000%22%2C%20%22borderWidth%22%3A%203%2C%20%22icon%22%3A%20%22info%22%2C%20%22innerIconStyle%22%3A%20%22%22%2C%20%22isAlphaNumericIcon%22%3A%20false%2C%20%22spin%22%3A%20false%2C%20%22textColor%22%3A%20%22white%22%7D%0A%20%20%20%20%20%20%20%20%20%20%20%20%29%0A%20%20%20%20%20%20%20%20%20%20%20%20marker_2fe4cc33ec784e95a2d119605fd48c98.setIcon%28beautify_icon_9a15cab7e93f40f08a8500b591821d3f%29%3B%0A%20%20%20%20%20%20%20%20%0A%20%20%20%20%0A%20%20%20%20%20%20%20%20var%20popup_c285dfa3a36e46eea7bc99fdcbaf581c%20%3D%20L.popup%28%7B%22maxWidth%22%3A%20%22100%25%22%7D%29%3B%0A%0A%20%20%20%20%20%20%20%20%0A%20%20%20%20%20%20%20%20%20%20%20%20var%20html_7b1a6f3feb6d4dd6ae9eefbd09a11a50%20%3D%20%24%28%60%3Cdiv%20id%3D%22html_7b1a6f3feb6d4dd6ae9eefbd09a11a50%22%20style%3D%22width%3A%20100.0%25%3B%20height%3A%20100.0%25%3B%22%3EColchester%3C/div%3E%60%29%5B0%5D%3B%0A%20%20%20%20%20%20%20%20%20%20%20%20popup_c285dfa3a36e46eea7bc99fdcbaf581c.setContent%28html_7b1a6f3feb6d4dd6ae9eefbd09a11a50%29%3B%0A%20%20%20%20%20%20%20%20%0A%0A%20%20%20%20%20%20%20%20marker_2fe4cc33ec784e95a2d119605fd48c98.bindPopup%28popup_c285dfa3a36e46eea7bc99fdcbaf581c%29%0A%20%20%20%20%20%20%20%20%3B%0A%0A%20%20%20%20%20%20%20%20%0A%20%20%20%20%0A%20%20%20%20%0A%20%20%20%20%20%20%20%20%20%20%20%20var%20marker_93416fd3f3884311956c2ba110497af0%20%3D%20L.marker%28%0A%20%20%20%20%20%20%20%20%20%20%20%20%20%20%20%20%5B52.01667%2C%204.70833%5D%2C%0A%20%20%20%20%20%20%20%20%20%20%20%20%20%20%20%20%7B%7D%0A%20%20%20%20%20%20%20%20%20%20%20%20%29.addTo%28map_079395d874db4614b115883f85b4b57f%29%3B%0A%20%20%20%20%20%20%20%20%0A%20%20%20%20%0A%20%20%20%20%20%20%20%20%20%20%20%20var%20beautify_icon_e510014e22a249d3830588127ca21b9e%20%3D%20new%20L.BeautifyIcon.icon%28%0A%20%20%20%20%20%20%20%20%20%20%20%20%20%20%20%20%7B%22backgroundColor%22%3A%20%22black%22%2C%20%22borderColor%22%3A%20%22%23000%22%2C%20%22borderWidth%22%3A%203%2C%20%22icon%22%3A%20%22info%22%2C%20%22innerIconStyle%22%3A%20%22%22%2C%20%22isAlphaNumericIcon%22%3A%20false%2C%20%22spin%22%3A%20false%2C%20%22textColor%22%3A%20%22white%22%7D%0A%20%20%20%20%20%20%20%20%20%20%20%20%29%0A%20%20%20%20%20%20%20%20%20%20%20%20marker_93416fd3f3884311956c2ba110497af0.setIcon%28beautify_icon_e510014e22a249d3830588127ca21b9e%29%3B%0A%20%20%20%20%20%20%20%20%0A%20%20%20%20%0A%20%20%20%20%20%20%20%20var%20popup_884d09501af544328e9d54547500a3d6%20%3D%20L.popup%28%7B%22maxWidth%22%3A%20%22100%25%22%7D%29%3B%0A%0A%20%20%20%20%20%20%20%20%0A%20%20%20%20%20%20%20%20%20%20%20%20var%20html_80a14f94222c493e839c8753bf830bab%20%3D%20%24%28%60%3Cdiv%20id%3D%22html_80a14f94222c493e839c8753bf830bab%22%20style%3D%22width%3A%20100.0%25%3B%20height%3A%20100.0%25%3B%22%3EGouda%3C/div%3E%60%29%5B0%5D%3B%0A%20%20%20%20%20%20%20%20%20%20%20%20popup_884d09501af544328e9d54547500a3d6.setContent%28html_80a14f94222c493e839c8753bf830bab%29%3B%0A%20%20%20%20%20%20%20%20%0A%0A%20%20%20%20%20%20%20%20marker_93416fd3f3884311956c2ba110497af0.bindPopup%28popup_884d09501af544328e9d54547500a3d6%29%0A%20%20%20%20%20%20%20%20%3B%0A%0A%20%20%20%20%20%20%20%20%0A%20%20%20%20%0A%3C/script%3E onload=\"this.contentDocument.open();this.contentDocument.write(    decodeURIComponent(this.getAttribute('data-html')));this.contentDocument.close();\" allowfullscreen webkitallowfullscreen mozallowfullscreen></iframe></div></div>"
      ],
      "text/plain": [
       "<folium.folium.Map at 0x7f5fb72ec550>"
      ]
     },
     "execution_count": 59,
     "metadata": {},
     "output_type": "execute_result"
    }
   ],
   "source": [
    "visualiserFolium(G, coordonneesvoisins)"
   ]
  },
  {
   "cell_type": "markdown",
   "metadata": {},
   "source": [
    "Partie 2"
   ]
  },
  {
   "cell_type": "code",
   "execution_count": 60,
   "metadata": {},
   "outputs": [],
   "source": [
    "class Noeud:\n",
    "\t\n",
    "\tdef __init__(self, name):\n",
    "\t\tself.name = name\n",
    "\t\t'''\n",
    "\t\t\tUn noeud a des attributs sous forme de dictionnaire pyton avec comme cle: une liste de \n",
    "\t\t\tcoordonnes (latitude, longitude), la taille de la population\n",
    "\t\t'''\n",
    "\t\tself.attributs = {}\n",
    "\t\t'''\n",
    "\t\t\tLa liste des voisins sera initialisée à la création des arcs dans le graphe\n",
    "\t\t'''\n",
    "\t\tself.listeNomVoisin = []\n",
    "\n",
    "\tdef setAttribut(self, key, values):\n",
    "\t\tself.attributs.update({key:values})\n",
    "\n",
    "\tdef getAttribut(self, key):\t\t\n",
    "\t\tif key not in self.attributs:\n",
    "\t\t\treturn \"Clé inexistante\"\n",
    "\t\telse:\n",
    "\t\t\treturn key + \" = \" + str(self.attributs[key])\n",
    "\n",
    "\tdef getName(self):\n",
    "\t\treturn self.name\n",
    "\n",
    "\t'''\n",
    "\tDeux noeuds sont égaux s'ils ont même nom\n",
    "\t'''\n",
    "\tdef egal(self, noeud):\n",
    "\t\tif(self.name == noeud.name):\n",
    "\t\t\treturn True\n",
    "\t\telse:\n",
    "\t\t\treturn False\n",
    "\t\n",
    "\tdef getCoutMin(self):\n",
    "\t\tnoeuds = transport_relationships[['src', 'dst', 'cost']].to_dict('index')\n",
    "\t\tcout = 500\n",
    "\t\tfor noeud in noeuds:\n",
    "\t\t\tif(noeuds[noeud]['src'] == self.name and noeuds[noeud]['cost'] < cout):\n",
    "\t\t\t\tcout = noeuds[noeud]['cost']\n",
    "\t\t\tif(noeuds[noeud]['dst'] == self.name and noeuds[noeud]['cost'] < cout):\n",
    "\t\t\t\tcout = noeuds[noeud]['cost']\n",
    "\t\tif cout != 500:\n",
    "\t\t\treturn \"Le coût minimal du noeud \\\"\" + self.name +\"\\\" est de : \" + str(cout)\n",
    "\t\telse:\n",
    "\t\t\treturn \"Le noeud \\\"\" + self.name +\"\\\" est introuvble\"\n",
    "\n",
    "\tdef getCout(self, noeud):\n",
    "\t\tnodes = transport_relationships[['src', 'dst', 'cost']].to_dict('index')\n",
    "\t\tcost = 0\n",
    "\t\tfor node in nodes:\n",
    "\t\t\tif((nodes[node]['src'] == self.name and nodes[node]['dst'] == noeud.name) or (nodes[node]['src'] == noeud.name and nodes[node]['dst'] == self.name)):\n",
    "\t\t\t\tcost = nodes[node]['cost']\n",
    "\t\t\n",
    "\t\tif cost != 0:\n",
    "\t\t\treturn cost\n",
    "\t\telse:\n",
    "\t\t\treturn \"L'un des noeuds est introuvable ou il n'existe pas de relation entre \\\"\" + self.name +\"\\\" et \\\"\" + noeud.name +\"\\\"\"\n",
    "\n",
    "# ok = Noeud(\"Hoek van Holland\")\n",
    "# yup = Noeud(\"Felixstowe\")\n",
    "# print(ok.name)\n",
    "# ok.getCoutMin()\n",
    "# yup.getCoutMin()\n",
    "# ok.getCout(yup)\n"
   ]
  },
  {
   "cell_type": "code",
   "execution_count": 61,
   "metadata": {},
   "outputs": [],
   "source": [
    "\n",
    "class Graphe:\n",
    "\tdef __init__(self):\n",
    "\t\tself.noeuds = []\n",
    "\t\tself.arcs = {}\n",
    "\t\n",
    "\tdef creerNoeuds(self, fichiernoeuds):\n",
    "\t\ttry:\n",
    "\t\t\ttransport_nodes = csv.reader(open(fichiernoeuds, 'r', newline=''))\n",
    "\t\texcept:\n",
    "\t\t\tprint(\"Impossible d'ouvrir le fichier \\'\"+ fichiernoeuds + \"\\'.\" )\n",
    "\t\t\treturn\n",
    "\n",
    "\t\tif(fichiernoeuds != 'transport-nodes.csv'):\n",
    "\t\t\tprint(\"Vous n'avez pas ouvert le bon fichier.\")\n",
    "\t\t\treturn\n",
    "\t\t\t\n",
    "\t\tfor node in transport_nodes:\n",
    "\t\t\tif node[0] != 'id':\n",
    "\t\t\t\tnoeud = Noeud(node[0])\n",
    "\t\t\t\tnoeud.setAttribut(key='coordonnes', values=[node[1], node[2]])\n",
    "\t\t\t\tnoeud.setAttribut(key='population', values=node[3])\n",
    "\t\t\t\tself.noeuds.append(noeud)\n",
    "\t\t\t\tself.arcs.update({noeud.getName() : []})\n",
    "\n",
    "\t\tliste_noms_noeuds = []\n",
    "\t\tfor noeud in self.noeuds:\n",
    "\t\t\tliste_noms_noeuds.append(noeud.getName())\n",
    "\t\tprint(liste_noms_noeuds)\n",
    "\t\t\n",
    "\n",
    "\tdef creerArc(self, fichierarcs):\n",
    "\t\ttry:\n",
    "\t\t\ttransport_relationships = csv.reader(open(fichierarcs, 'r', newline=''))\n",
    "\t\texcept:\n",
    "\t\t\tprint(\"Impossible d'ouvrir le fichier\\'\"+ fichierarcs + \"\\'.\")\n",
    "\t\t\treturn   \n",
    "\t\t\n",
    "\t\tif(fichierarcs != 'transport-relationships.csv'):\n",
    "\t\t\tprint(\"Vous n'avez pas ouvert le bon fichier.\")\n",
    "\t\t\treturn\n",
    "    \n",
    "\t\tliste_arcs = []\n",
    "\t\tfor arc in transport_relationships:\n",
    "\t\t\tif arc[0] != \"src\":\n",
    "\t\t\t\tliste_arcs.append({\"src\":arc[0],\"dst\":arc[1],\"relationship\":arc[2],\"cost\":arc[3]})\n",
    "\n",
    "\t\treturn liste_arcs\n",
    "    \n",
    "\tdef getNoeud(self, name):\n",
    "\t\tfor noeud in self.noeuds:\n",
    "\t\t\tif(name == noeud.getName()):\n",
    "\t\t\t\treturn noeud\n",
    "\t\t\tif(name != noeud.getName() and noeud.getName() == self.noeuds[-1].getName()):\n",
    "\t\t\t\treturn \"Noeud introuvable\"\n",
    "\n",
    "\tdef getVoisins(self, noeud):\n",
    "\t\ttry:\n",
    "\t\t\ttransport_relationships = csv.reader(open('transport-relationships.csv', 'r', newline=''))\n",
    "\t\texcept:\n",
    "\t\t\tprint(\"Impossible d'ouvrir le fichier \\'\"+ 'transport-relationships.csv' + \"\\'.\" )\n",
    "\t\tvoisins = []\n",
    "\t\tfor relationships in transport_relationships:\n",
    "\t\t\tif(relationships[0] == noeud.name):\n",
    "\t\t\t\tvoisins.append(Noeud(relationships[1]))\n",
    "\t\t\tif(relationships[1] == noeud.name):\n",
    "\t\t\t\tvoisins.append(Noeud(relationships[0]))\n",
    "\t\treturn voisins\n",
    "\t\t\n",
    "\tdef getCoordonnesVoisins(self, noeud):\n",
    "\t\tpass\n",
    "\n",
    "\tdef visualiserFolium(self, locationpardefaut=[52.3791890, 4.899431], tiles='Stamen Toner', explored=None):\n",
    "\t\tpass"
   ]
  },
  {
   "cell_type": "code",
   "execution_count": 62,
   "metadata": {},
   "outputs": [
    {
     "name": "stdout",
     "output_type": "stream",
     "text": [
      "['Amsterdam', 'Utrecht', 'Den Haag', 'Immingham', 'Doncaster', 'Hoek van Holland', 'Felixstowe', 'Ipswich', 'Colchester', 'London', 'Rotterdam', 'Gouda']\n"
     ]
    },
    {
     "data": {
      "text/plain": [
       "[{'src': 'Amsterdam', 'dst': 'Utrecht', 'relationship': 'EROAD', 'cost': '46'},\n",
       " {'src': 'Amsterdam',\n",
       "  'dst': 'Den Haag',\n",
       "  'relationship': 'EROAD',\n",
       "  'cost': '59'},\n",
       " {'src': 'Den Haag',\n",
       "  'dst': 'Rotterdam',\n",
       "  'relationship': 'EROAD',\n",
       "  'cost': '26'},\n",
       " {'src': 'Amsterdam',\n",
       "  'dst': 'Immingham',\n",
       "  'relationship': 'EROAD',\n",
       "  'cost': '369'},\n",
       " {'src': 'Immingham',\n",
       "  'dst': 'Doncaster',\n",
       "  'relationship': 'EROAD',\n",
       "  'cost': '74'},\n",
       " {'src': 'Doncaster', 'dst': 'London', 'relationship': 'EROAD', 'cost': '277'},\n",
       " {'src': 'Hoek van Holland',\n",
       "  'dst': 'Den Haag',\n",
       "  'relationship': 'EROAD',\n",
       "  'cost': '27'},\n",
       " {'src': 'Felixstowe',\n",
       "  'dst': 'Hoek van Holland',\n",
       "  'relationship': 'EROAD',\n",
       "  'cost': '207'},\n",
       " {'src': 'Ipswich',\n",
       "  'dst': 'Felixstowe',\n",
       "  'relationship': 'EROAD',\n",
       "  'cost': '22'},\n",
       " {'src': 'Colchester',\n",
       "  'dst': 'Ipswich',\n",
       "  'relationship': 'EROAD',\n",
       "  'cost': '32'},\n",
       " {'src': 'London',\n",
       "  'dst': 'Colchester',\n",
       "  'relationship': 'EROAD',\n",
       "  'cost': '106'},\n",
       " {'src': 'Gouda', 'dst': 'Rotterdam', 'relationship': 'EROAD', 'cost': '25'},\n",
       " {'src': 'Gouda', 'dst': 'Utrecht', 'relationship': 'EROAD', 'cost': '35'},\n",
       " {'src': 'Den Haag', 'dst': 'Gouda', 'relationship': 'EROAD', 'cost': '32'},\n",
       " {'src': 'Hoek van Holland',\n",
       "  'dst': 'Rotterdam',\n",
       "  'relationship': 'EROAD',\n",
       "  'cost': '33'}]"
      ]
     },
     "execution_count": 62,
     "metadata": {},
     "output_type": "execute_result"
    }
   ],
   "source": [
    "G = Graphe()\n",
    "G.creerNoeuds('transport-nodes.csv')\n",
    "G.creerArc('transport-relationships.csv')\n"
   ]
  },
  {
   "cell_type": "markdown",
   "metadata": {},
   "source": [
    "Partie 3"
   ]
  },
  {
   "cell_type": "code",
   "execution_count": 63,
   "metadata": {},
   "outputs": [
    {
     "name": "stdout",
     "output_type": "stream",
     "text": [
      "['Khady', 'Dame', 'Mansour', 'Mamadou']\n",
      "['Dame', 'Mansour', 'Mamadou']\n"
     ]
    }
   ],
   "source": [
    "class Pile():\n",
    "\n",
    "    def __init__(self):\n",
    "        self.elements = []\n",
    "\n",
    "    '''\n",
    "    Insère un objet en tete de la pile\n",
    "    '''\n",
    "    def push(self, noeud):\n",
    "        # insertion du noeud à la 1ère position de la liste\n",
    "        self.elements.insert(0, noeud)\n",
    "    \n",
    "    '''\n",
    "    Retourne True si un noeud est dans la pile\n",
    "    '''\n",
    "    def contains_noeud(self, name):\n",
    "        for element in self.elements:\n",
    "            if(element.egal(name) == True):\n",
    "                return True\n",
    "        return False        \n",
    "        \n",
    "\n",
    "    '''\n",
    "    Retourne true si la pile est vide\n",
    "    '''\n",
    "    def empty(self):\n",
    "        if len(self.elements) == 0:\n",
    "            return True\n",
    "        return False\n",
    "    \n",
    "    '''\n",
    "    Retourne et supprime l'element en tete de pile\n",
    "    Retourne une exception si la pile est vide\n",
    "    '''\n",
    "    def remove(self):\n",
    "        try:\n",
    "            return self.elements.pop(0)\n",
    "        except:\n",
    "            print(\"Pile vide\")\n",
    "\n",
    "# Test des structures de données Pile et File\n",
    "f = Pile()\n",
    "f.push(\"Mamadou\")\n",
    "f.push(\"Mansour\")\n",
    "f.push(\"Dame\")\n",
    "f.push(\"Khady\")\n",
    "print(f.elements)\n",
    "f.remove()\n",
    "print(f.elements)"
   ]
  },
  {
   "cell_type": "code",
   "execution_count": 64,
   "metadata": {},
   "outputs": [
    {
     "name": "stdout",
     "output_type": "stream",
     "text": [
      "['Khady', 'Dame', 'Mansour', 'Mamadou']\n",
      "['Khady', 'Dame', 'Mansour']\n"
     ]
    }
   ],
   "source": [
    "class File(Pile):\n",
    "    def remove(self):\n",
    "        try:\n",
    "            return self.elements.pop()\n",
    "        except:\n",
    "            print(\"Suppression impossible\")\n",
    "            return\n",
    "\n",
    "p = File()\n",
    "p.push(\"Mamadou\")\n",
    "p.push(\"Mansour\")\n",
    "p.push(\"Dame\")\n",
    "p.push(\"Khady\")\n",
    "\n",
    "print(p.elements)\n",
    "p.remove()\n",
    "print(p.elements)"
   ]
  },
  {
   "cell_type": "markdown",
   "metadata": {},
   "source": [
    "Partie 4"
   ]
  },
  {
   "cell_type": "code",
   "execution_count": 65,
   "metadata": {},
   "outputs": [],
   "source": [
    "# def BFS(graphe:Graphe, noeud_source:Noeud, noeud_destination:Noeud):\n",
    "#     explored = File()\n",
    "#     frontiere = File()\n",
    "#     for voisin in graphe.getVoisins(noeud_source):\n",
    "#         frontiere.push(voisin)\n",
    "#     explored.push(noeud_source)\n",
    "#     if(noeud_destination.egal(noeud_source) == True):\n",
    "#         return noeud_source\n",
    "#     while(frontiere.empty() != True):\n",
    "#         remove = frontiere.remove()\n",
    "#         explored.push(remove)\n",
    "#         if(noeud_destination.egal(remove) == True):\n",
    "#             return remove\n",
    "#         voisins = graphe.getVoisins(remove)\n",
    "#         for voisin in voisins:\n",
    "#             if (explored.contains_noeud(voisin) == False and frontiere.contains_noeud(voisin) == False):\n",
    "#                 frontiere.push(voisin)\n",
    "#     print('Pas de solution')\n",
    "#     return explored"
   ]
  },
  {
   "cell_type": "code",
   "execution_count": 66,
   "metadata": {},
   "outputs": [
    {
     "name": "stdout",
     "output_type": "stream",
     "text": [
      "['Amsterdam', 'Utrecht', 'Den Haag', 'Immingham', 'Doncaster', 'Hoek van Holland', 'Felixstowe', 'Ipswich', 'Colchester', 'London', 'Rotterdam', 'Gouda']\n"
     ]
    }
   ],
   "source": [
    "def parcoursDFS(graphe:Graphe, noeud_source:Noeud, noeud_destination:Noeud):\n",
    "    explored = File()\n",
    "    frontiere = Pile()\n",
    "    for voisin in graphe.getVoisins(noeud_source):\n",
    "        frontiere.push(voisin)\n",
    "    explored.push(noeud_source)\n",
    "    if(noeud_destination.egal(noeud_source) == True):\n",
    "        return explored\n",
    "    while(frontiere.empty() != True):\n",
    "        remove = frontiere.remove()\n",
    "        explored.push(remove)\n",
    "        if(noeud_destination.egal(remove) == True):\n",
    "            return explored\n",
    "        voisins = graphe.getVoisins(remove)\n",
    "        for voisin in voisins:\n",
    "            if (explored.contains_noeud(voisin) == False and frontiere.contains_noeud(voisin) == False):\n",
    "                frontiere.push(voisin)\n",
    "    print('Pas de solution')\n",
    "    return\n",
    "\n",
    "G = Graphe()\n",
    "G.creerNoeuds('transport-nodes.csv')\n",
    "am = Noeud('London')\n",
    "ok = Noeud('Gouda')\n",
    "\n",
    "# for noeud in parcoursDFS(G, am, ok).elements:\n",
    "#     print(noeud.name)\n"
   ]
  }
 ],
 "metadata": {
  "interpreter": {
   "hash": "86efe56002bc932536efa6cd8ca5d98c3b4cfcdfd7af6801c8dd8dd106e111f4"
  },
  "kernelspec": {
   "display_name": "Python 3",
   "language": "python",
   "name": "python3"
  },
  "language_info": {
   "codemirror_mode": {
    "name": "ipython",
    "version": 3
   },
   "file_extension": ".py",
   "mimetype": "text/x-python",
   "name": "python",
   "nbconvert_exporter": "python",
   "pygments_lexer": "ipython3",
   "version": "3.8.10"
  }
 },
 "nbformat": 4,
 "nbformat_minor": 2
}
