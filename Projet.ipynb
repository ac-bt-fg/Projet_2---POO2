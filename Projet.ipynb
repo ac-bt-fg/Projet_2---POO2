{
 "cells": [
  {
   "cell_type": "markdown",
   "metadata": {},
   "source": [
    "Partie 1"
   ]
  },
  {
   "cell_type": "code",
   "execution_count": 145,
   "metadata": {},
   "outputs": [],
   "source": [
    "import pandas as pd\n",
    "import networkx as nx\n",
    "import matplotlib.pyplot as plt\n",
    "import csv\n",
    "import folium\n",
    "import folium.plugins\n",
    "\n",
    "%matplotlib inline\n"
   ]
  },
  {
   "cell_type": "code",
   "execution_count": 146,
   "metadata": {},
   "outputs": [
    {
     "name": "stdout",
     "output_type": "stream",
     "text": [
      "                  id   latitude  longitude  population\n",
      "0          Amsterdam  52.379189   4.899431      821752\n",
      "1            Utrecht  52.092876   5.104480      334176\n",
      "2           Den Haag  52.078663   4.288788      514861\n",
      "3          Immingham  53.612390  -0.222190        9642\n",
      "4          Doncaster  53.522850  -1.131160      302400\n",
      "5   Hoek van Holland  51.977500   4.133330        9382\n",
      "6         Felixstowe  51.963750   1.351100       23689\n",
      "7            Ipswich  52.059170   1.155450      133384\n",
      "8         Colchester  51.889210   0.904210      104390\n",
      "9             London  51.509865  -0.118092     8787892\n",
      "10         Rotterdam  51.922500   4.479170      623652\n",
      "11             Gouda  52.016670   4.708330       70939\n"
     ]
    }
   ],
   "source": [
    "transport_nodes = pd.read_csv('transport-nodes.csv')\n",
    "print(transport_nodes.to_string())"
   ]
  },
  {
   "cell_type": "code",
   "execution_count": 147,
   "metadata": {},
   "outputs": [
    {
     "name": "stdout",
     "output_type": "stream",
     "text": [
      "                 src               dst relationship  cost\n",
      "0          Amsterdam           Utrecht        EROAD    46\n",
      "1          Amsterdam          Den Haag        EROAD    59\n",
      "2           Den Haag         Rotterdam        EROAD    26\n",
      "3          Amsterdam         Immingham        EROAD   369\n",
      "4          Immingham         Doncaster        EROAD    74\n",
      "5          Doncaster            London        EROAD   277\n",
      "6   Hoek van Holland          Den Haag        EROAD    27\n",
      "7         Felixstowe  Hoek van Holland        EROAD   207\n",
      "8            Ipswich        Felixstowe        EROAD    22\n",
      "9         Colchester           Ipswich        EROAD    32\n",
      "10            London        Colchester        EROAD   106\n",
      "11             Gouda         Rotterdam        EROAD    25\n",
      "12             Gouda           Utrecht        EROAD    35\n",
      "13          Den Haag             Gouda        EROAD    32\n",
      "14  Hoek van Holland         Rotterdam        EROAD    33\n"
     ]
    }
   ],
   "source": [
    "transport_relationships = pd.read_csv('transport-relationships.csv')\n",
    "print(transport_relationships.to_string())"
   ]
  },
  {
   "cell_type": "code",
   "execution_count": 148,
   "metadata": {},
   "outputs": [
    {
     "data": {
      "text/plain": [
       "<Figure size 1080x576 with 0 Axes>"
      ]
     },
     "execution_count": 148,
     "metadata": {},
     "output_type": "execute_result"
    },
    {
     "data": {
      "text/plain": [
       "<Figure size 1080x576 with 0 Axes>"
      ]
     },
     "metadata": {},
     "output_type": "display_data"
    }
   ],
   "source": [
    "\n",
    "relationships = transport_relationships[['src', 'dst']]\n",
    "population_list = []\n",
    "G = nx.Graph()\n",
    "G = nx.from_pandas_edgelist(relationships, 'src', 'dst')\n",
    "\n",
    "for n in G.nodes:\n",
    "    i = 0\n",
    "    while(i != len(transport_nodes.id)):\n",
    "        if n == transport_nodes.id[i]:\n",
    "            population_list.append(transport_nodes.population[i]/550)\n",
    "        i += 1\n",
    "\n",
    "plt.figure(figsize=(15, 8))\n",
    "# nx.draw(G, with_labels=True, edge_color='red', width=3, node_color='yellow', node_size=population_list)\n",
    "# dict(G.nodes.data())\n"
   ]
  },
  {
   "cell_type": "code",
   "execution_count": 149,
   "metadata": {},
   "outputs": [],
   "source": [
    "def ajouterAttribut(myGraphe, dfnode, nameAttr, Index):\n",
    "    nodes = dfnode[[Index, nameAttr]]\n",
    "    node_attr = nodes.set_index(Index).to_dict('index')\n",
    "    nx.set_node_attributes(myGraphe, node_attr)"
   ]
  },
  {
   "cell_type": "code",
   "execution_count": 150,
   "metadata": {},
   "outputs": [],
   "source": [
    "ajouterAttribut(G, transport_nodes, 'latitude', 'id')\n",
    "ajouterAttribut(G, transport_nodes, 'longitude', 'id')\n",
    "ajouterAttribut(G, transport_nodes, 'population', 'id')"
   ]
  },
  {
   "cell_type": "code",
   "execution_count": 151,
   "metadata": {},
   "outputs": [],
   "source": [
    "# dict(G.nodes.data())"
   ]
  },
  {
   "cell_type": "code",
   "execution_count": 152,
   "metadata": {},
   "outputs": [],
   "source": [
    "\n",
    "basemap = folium.Map(location=[52.3791890, 4.899431],zoom_start=5, tiles='Stamen Toner')\n"
   ]
  },
  {
   "cell_type": "code",
   "execution_count": 153,
   "metadata": {},
   "outputs": [],
   "source": [
    "# basemap"
   ]
  },
  {
   "cell_type": "code",
   "execution_count": 154,
   "metadata": {},
   "outputs": [],
   "source": [
    "def marker(g):\n",
    "    for i in g.nodes:\n",
    "        nodes = dict(G.nodes.data())\n",
    "        latitude = nodes[i]['latitude']\n",
    "        longitude = nodes[i]['longitude']\n",
    "        folium.Marker(\n",
    "            location=[latitude, longitude],\n",
    "            icon = folium.plugins.BeautifyIcon(background_color='black', text_color='white', icon='info')\n",
    "        ).add_to(basemap)\n",
    "    return basemap"
   ]
  },
  {
   "cell_type": "code",
   "execution_count": 155,
   "metadata": {},
   "outputs": [],
   "source": [
    "# marker(G)"
   ]
  },
  {
   "cell_type": "code",
   "execution_count": 156,
   "metadata": {},
   "outputs": [],
   "source": [
    "def construirePointsImage(myGraphe):\n",
    "    points = []\n",
    "    nodes = dict(G.nodes.data())\n",
    "    \n",
    "    for i in myGraphe.nodes:\n",
    "        cordonnees_node = []\n",
    "        node_latitude = nodes[i]['latitude']\n",
    "        node_longitude = nodes[i]['longitude']\n",
    "        cordonnees_node.append(node_latitude)\n",
    "        cordonnees_node.append(node_longitude)\n",
    "\n",
    "        for neighbor in myGraphe.neighbors(i):\n",
    "            cordonnees_neighbor = []\n",
    "            neighbor_latitude = nodes[neighbor]['latitude']\n",
    "            neighbor_longitude = nodes[neighbor]['longitude']\n",
    "            cordonnees_neighbor.append(neighbor_latitude)\n",
    "            cordonnees_neighbor.append(neighbor_longitude)\n",
    "            \n",
    "            list_neighbors = []\n",
    "            list_neighbors.append(cordonnees_node)\n",
    "            list_neighbors.append(cordonnees_neighbor)\n",
    "\n",
    "            points.append(list_neighbors)\n",
    "\n",
    "    return points"
   ]
  },
  {
   "cell_type": "code",
   "execution_count": 157,
   "metadata": {},
   "outputs": [],
   "source": [
    "coordonneesvoisins = construirePointsImage(G)\n",
    "# print(coordonneesvoisins)"
   ]
  },
  {
   "cell_type": "code",
   "execution_count": 158,
   "metadata": {},
   "outputs": [],
   "source": [
    "def visualiserFolium(myGraphe, points, locationpardefaut=[52.3791890, 4.899431], tiles='Stamen Toner', explored=None ):\n",
    "    basemap = folium.Map(location=locationpardefaut, zoom_start=5, tiles=tiles, explored=explored)\n",
    "    points = construirePointsImage(myGraphe)\n",
    "    folium.PolyLine(points, color=\"yellow\", weight=3).add_to(basemap)\n",
    "    for i in myGraphe.nodes:\n",
    "        nodes = dict(G.nodes.data())\n",
    "        latitude = nodes[i]['latitude']\n",
    "        longitude = nodes[i]['longitude']\n",
    "        folium.Marker(\n",
    "            location=[latitude, longitude],\n",
    "            icon = folium.plugins.BeautifyIcon(background_color='black', text_color='white', icon='info'),\n",
    "            popup = i\n",
    "        ).add_to(basemap)\n",
    "    return basemap"
   ]
  },
  {
   "cell_type": "code",
   "execution_count": 159,
   "metadata": {},
   "outputs": [
    {
     "data": {
      "text/html": [
       "<div style=\"width:100%;\"><div style=\"position:relative;width:100%;height:0;padding-bottom:60%;\"><span style=\"color:#565656\">Make this Notebook Trusted to load map: File -> Trust Notebook</span><iframe src=\"about:blank\" style=\"position:absolute;width:100%;height:100%;left:0;top:0;border:none !important;\" data-html=%3C%21DOCTYPE%20html%3E%0A%3Chead%3E%20%20%20%20%0A%20%20%20%20%3Cmeta%20http-equiv%3D%22content-type%22%20content%3D%22text/html%3B%20charset%3DUTF-8%22%20/%3E%0A%20%20%20%20%0A%20%20%20%20%20%20%20%20%3Cscript%3E%0A%20%20%20%20%20%20%20%20%20%20%20%20L_NO_TOUCH%20%3D%20false%3B%0A%20%20%20%20%20%20%20%20%20%20%20%20L_DISABLE_3D%20%3D%20false%3B%0A%20%20%20%20%20%20%20%20%3C/script%3E%0A%20%20%20%20%0A%20%20%20%20%3Cstyle%3Ehtml%2C%20body%20%7Bwidth%3A%20100%25%3Bheight%3A%20100%25%3Bmargin%3A%200%3Bpadding%3A%200%3B%7D%3C/style%3E%0A%20%20%20%20%3Cstyle%3E%23map%20%7Bposition%3Aabsolute%3Btop%3A0%3Bbottom%3A0%3Bright%3A0%3Bleft%3A0%3B%7D%3C/style%3E%0A%20%20%20%20%3Cscript%20src%3D%22https%3A//cdn.jsdelivr.net/npm/leaflet%401.6.0/dist/leaflet.js%22%3E%3C/script%3E%0A%20%20%20%20%3Cscript%20src%3D%22https%3A//code.jquery.com/jquery-1.12.4.min.js%22%3E%3C/script%3E%0A%20%20%20%20%3Cscript%20src%3D%22https%3A//maxcdn.bootstrapcdn.com/bootstrap/3.2.0/js/bootstrap.min.js%22%3E%3C/script%3E%0A%20%20%20%20%3Cscript%20src%3D%22https%3A//cdnjs.cloudflare.com/ajax/libs/Leaflet.awesome-markers/2.0.2/leaflet.awesome-markers.js%22%3E%3C/script%3E%0A%20%20%20%20%3Clink%20rel%3D%22stylesheet%22%20href%3D%22https%3A//cdn.jsdelivr.net/npm/leaflet%401.6.0/dist/leaflet.css%22/%3E%0A%20%20%20%20%3Clink%20rel%3D%22stylesheet%22%20href%3D%22https%3A//maxcdn.bootstrapcdn.com/bootstrap/3.2.0/css/bootstrap.min.css%22/%3E%0A%20%20%20%20%3Clink%20rel%3D%22stylesheet%22%20href%3D%22https%3A//maxcdn.bootstrapcdn.com/bootstrap/3.2.0/css/bootstrap-theme.min.css%22/%3E%0A%20%20%20%20%3Clink%20rel%3D%22stylesheet%22%20href%3D%22https%3A//maxcdn.bootstrapcdn.com/font-awesome/4.6.3/css/font-awesome.min.css%22/%3E%0A%20%20%20%20%3Clink%20rel%3D%22stylesheet%22%20href%3D%22https%3A//cdnjs.cloudflare.com/ajax/libs/Leaflet.awesome-markers/2.0.2/leaflet.awesome-markers.css%22/%3E%0A%20%20%20%20%3Clink%20rel%3D%22stylesheet%22%20href%3D%22https%3A//cdn.jsdelivr.net/gh/python-visualization/folium/folium/templates/leaflet.awesome.rotate.min.css%22/%3E%0A%20%20%20%20%0A%20%20%20%20%20%20%20%20%20%20%20%20%3Cmeta%20name%3D%22viewport%22%20content%3D%22width%3Ddevice-width%2C%0A%20%20%20%20%20%20%20%20%20%20%20%20%20%20%20%20initial-scale%3D1.0%2C%20maximum-scale%3D1.0%2C%20user-scalable%3Dno%22%20/%3E%0A%20%20%20%20%20%20%20%20%20%20%20%20%3Cstyle%3E%0A%20%20%20%20%20%20%20%20%20%20%20%20%20%20%20%20%23map_cb0e08cd93b7485db043457ce4aec755%20%7B%0A%20%20%20%20%20%20%20%20%20%20%20%20%20%20%20%20%20%20%20%20position%3A%20relative%3B%0A%20%20%20%20%20%20%20%20%20%20%20%20%20%20%20%20%20%20%20%20width%3A%20100.0%25%3B%0A%20%20%20%20%20%20%20%20%20%20%20%20%20%20%20%20%20%20%20%20height%3A%20100.0%25%3B%0A%20%20%20%20%20%20%20%20%20%20%20%20%20%20%20%20%20%20%20%20left%3A%200.0%25%3B%0A%20%20%20%20%20%20%20%20%20%20%20%20%20%20%20%20%20%20%20%20top%3A%200.0%25%3B%0A%20%20%20%20%20%20%20%20%20%20%20%20%20%20%20%20%7D%0A%20%20%20%20%20%20%20%20%20%20%20%20%3C/style%3E%0A%20%20%20%20%20%20%20%20%0A%20%20%20%20%3Cscript%20src%3D%22https%3A//cdn.jsdelivr.net/gh/marslan390/BeautifyMarker/leaflet-beautify-marker-icon.min.js%22%3E%3C/script%3E%0A%20%20%20%20%3Clink%20rel%3D%22stylesheet%22%20href%3D%22https%3A//cdn.jsdelivr.net/gh/marslan390/BeautifyMarker/leaflet-beautify-marker-icon.min.css%22/%3E%0A%3C/head%3E%0A%3Cbody%3E%20%20%20%20%0A%20%20%20%20%0A%20%20%20%20%20%20%20%20%20%20%20%20%3Cdiv%20class%3D%22folium-map%22%20id%3D%22map_cb0e08cd93b7485db043457ce4aec755%22%20%3E%3C/div%3E%0A%20%20%20%20%20%20%20%20%0A%3C/body%3E%0A%3Cscript%3E%20%20%20%20%0A%20%20%20%20%0A%20%20%20%20%20%20%20%20%20%20%20%20var%20map_cb0e08cd93b7485db043457ce4aec755%20%3D%20L.map%28%0A%20%20%20%20%20%20%20%20%20%20%20%20%20%20%20%20%22map_cb0e08cd93b7485db043457ce4aec755%22%2C%0A%20%20%20%20%20%20%20%20%20%20%20%20%20%20%20%20%7B%0A%20%20%20%20%20%20%20%20%20%20%20%20%20%20%20%20%20%20%20%20center%3A%20%5B52.379189%2C%204.899431%5D%2C%0A%20%20%20%20%20%20%20%20%20%20%20%20%20%20%20%20%20%20%20%20crs%3A%20L.CRS.EPSG3857%2C%0A%20%20%20%20%20%20%20%20%20%20%20%20%20%20%20%20%20%20%20%20zoom%3A%205%2C%0A%20%20%20%20%20%20%20%20%20%20%20%20%20%20%20%20%20%20%20%20zoomControl%3A%20true%2C%0A%20%20%20%20%20%20%20%20%20%20%20%20%20%20%20%20%20%20%20%20preferCanvas%3A%20false%2C%0A%20%20%20%20%20%20%20%20%20%20%20%20%20%20%20%20%7D%0A%20%20%20%20%20%20%20%20%20%20%20%20%29%3B%0A%0A%20%20%20%20%20%20%20%20%20%20%20%20%0A%0A%20%20%20%20%20%20%20%20%0A%20%20%20%20%0A%20%20%20%20%20%20%20%20%20%20%20%20var%20tile_layer_5492a52f9f2d47788dbfa52949d28e35%20%3D%20L.tileLayer%28%0A%20%20%20%20%20%20%20%20%20%20%20%20%20%20%20%20%22https%3A//stamen-tiles-%7Bs%7D.a.ssl.fastly.net/toner/%7Bz%7D/%7Bx%7D/%7By%7D.png%22%2C%0A%20%20%20%20%20%20%20%20%20%20%20%20%20%20%20%20%7B%22attribution%22%3A%20%22Map%20tiles%20by%20%5Cu003ca%20href%3D%5C%22http%3A//stamen.com%5C%22%5Cu003eStamen%20Design%5Cu003c/a%5Cu003e%2C%20under%20%5Cu003ca%20href%3D%5C%22http%3A//creativecommons.org/licenses/by/3.0%5C%22%5Cu003eCC%20BY%203.0%5Cu003c/a%5Cu003e.%20Data%20by%20%5Cu0026copy%3B%20%5Cu003ca%20href%3D%5C%22http%3A//openstreetmap.org%5C%22%5Cu003eOpenStreetMap%5Cu003c/a%5Cu003e%2C%20under%20%5Cu003ca%20href%3D%5C%22http%3A//www.openstreetmap.org/copyright%5C%22%5Cu003eODbL%5Cu003c/a%5Cu003e.%22%2C%20%22detectRetina%22%3A%20false%2C%20%22maxNativeZoom%22%3A%2018%2C%20%22maxZoom%22%3A%2018%2C%20%22minZoom%22%3A%200%2C%20%22noWrap%22%3A%20false%2C%20%22opacity%22%3A%201%2C%20%22subdomains%22%3A%20%22abc%22%2C%20%22tms%22%3A%20false%7D%0A%20%20%20%20%20%20%20%20%20%20%20%20%29.addTo%28map_cb0e08cd93b7485db043457ce4aec755%29%3B%0A%20%20%20%20%20%20%20%20%0A%20%20%20%20%0A%20%20%20%20%20%20%20%20%20%20%20%20var%20poly_line_0a8cb8302e574ba5a7c463e4311e4ee9%20%3D%20L.polyline%28%0A%20%20%20%20%20%20%20%20%20%20%20%20%20%20%20%20%5B%5B%5B52.379189%2C%204.899431%5D%2C%20%5B52.092876%2C%205.10448%5D%5D%2C%20%5B%5B52.379189%2C%204.899431%5D%2C%20%5B52.078663%2C%204.288788%5D%5D%2C%20%5B%5B52.379189%2C%204.899431%5D%2C%20%5B53.61239%2C%20-0.22219%5D%5D%2C%20%5B%5B52.092876%2C%205.10448%5D%2C%20%5B52.379189%2C%204.899431%5D%5D%2C%20%5B%5B52.092876%2C%205.10448%5D%2C%20%5B52.01667%2C%204.70833%5D%5D%2C%20%5B%5B52.078663%2C%204.288788%5D%2C%20%5B52.379189%2C%204.899431%5D%5D%2C%20%5B%5B52.078663%2C%204.288788%5D%2C%20%5B51.9225%2C%204.47917%5D%5D%2C%20%5B%5B52.078663%2C%204.288788%5D%2C%20%5B51.9775%2C%204.13333%5D%5D%2C%20%5B%5B52.078663%2C%204.288788%5D%2C%20%5B52.01667%2C%204.70833%5D%5D%2C%20%5B%5B51.9225%2C%204.47917%5D%2C%20%5B52.078663%2C%204.288788%5D%5D%2C%20%5B%5B51.9225%2C%204.47917%5D%2C%20%5B52.01667%2C%204.70833%5D%5D%2C%20%5B%5B51.9225%2C%204.47917%5D%2C%20%5B51.9775%2C%204.13333%5D%5D%2C%20%5B%5B53.61239%2C%20-0.22219%5D%2C%20%5B52.379189%2C%204.899431%5D%5D%2C%20%5B%5B53.61239%2C%20-0.22219%5D%2C%20%5B53.52285%2C%20-1.13116%5D%5D%2C%20%5B%5B53.52285%2C%20-1.13116%5D%2C%20%5B53.61239%2C%20-0.22219%5D%5D%2C%20%5B%5B53.52285%2C%20-1.13116%5D%2C%20%5B51.509865%2C%20-0.118092%5D%5D%2C%20%5B%5B51.509865%2C%20-0.118092%5D%2C%20%5B53.52285%2C%20-1.13116%5D%5D%2C%20%5B%5B51.509865%2C%20-0.118092%5D%2C%20%5B51.88921%2C%200.90421%5D%5D%2C%20%5B%5B51.9775%2C%204.13333%5D%2C%20%5B52.078663%2C%204.288788%5D%5D%2C%20%5B%5B51.9775%2C%204.13333%5D%2C%20%5B51.96375%2C%201.3511%5D%5D%2C%20%5B%5B51.9775%2C%204.13333%5D%2C%20%5B51.9225%2C%204.47917%5D%5D%2C%20%5B%5B51.96375%2C%201.3511%5D%2C%20%5B51.9775%2C%204.13333%5D%5D%2C%20%5B%5B51.96375%2C%201.3511%5D%2C%20%5B52.05917%2C%201.15545%5D%5D%2C%20%5B%5B52.05917%2C%201.15545%5D%2C%20%5B51.96375%2C%201.3511%5D%5D%2C%20%5B%5B52.05917%2C%201.15545%5D%2C%20%5B51.88921%2C%200.90421%5D%5D%2C%20%5B%5B51.88921%2C%200.90421%5D%2C%20%5B52.05917%2C%201.15545%5D%5D%2C%20%5B%5B51.88921%2C%200.90421%5D%2C%20%5B51.509865%2C%20-0.118092%5D%5D%2C%20%5B%5B52.01667%2C%204.70833%5D%2C%20%5B51.9225%2C%204.47917%5D%5D%2C%20%5B%5B52.01667%2C%204.70833%5D%2C%20%5B52.092876%2C%205.10448%5D%5D%2C%20%5B%5B52.01667%2C%204.70833%5D%2C%20%5B52.078663%2C%204.288788%5D%5D%5D%2C%0A%20%20%20%20%20%20%20%20%20%20%20%20%20%20%20%20%7B%22bubblingMouseEvents%22%3A%20true%2C%20%22color%22%3A%20%22yellow%22%2C%20%22dashArray%22%3A%20null%2C%20%22dashOffset%22%3A%20null%2C%20%22fill%22%3A%20false%2C%20%22fillColor%22%3A%20%22yellow%22%2C%20%22fillOpacity%22%3A%200.2%2C%20%22fillRule%22%3A%20%22evenodd%22%2C%20%22lineCap%22%3A%20%22round%22%2C%20%22lineJoin%22%3A%20%22round%22%2C%20%22noClip%22%3A%20false%2C%20%22opacity%22%3A%201.0%2C%20%22smoothFactor%22%3A%201.0%2C%20%22stroke%22%3A%20true%2C%20%22weight%22%3A%203%7D%0A%20%20%20%20%20%20%20%20%20%20%20%20%29.addTo%28map_cb0e08cd93b7485db043457ce4aec755%29%3B%0A%20%20%20%20%20%20%20%20%0A%20%20%20%20%0A%20%20%20%20%20%20%20%20%20%20%20%20var%20marker_96dec8dabe8344348fab082c2e6e15cb%20%3D%20L.marker%28%0A%20%20%20%20%20%20%20%20%20%20%20%20%20%20%20%20%5B52.379189%2C%204.899431%5D%2C%0A%20%20%20%20%20%20%20%20%20%20%20%20%20%20%20%20%7B%7D%0A%20%20%20%20%20%20%20%20%20%20%20%20%29.addTo%28map_cb0e08cd93b7485db043457ce4aec755%29%3B%0A%20%20%20%20%20%20%20%20%0A%20%20%20%20%0A%20%20%20%20%20%20%20%20%20%20%20%20var%20beautify_icon_6a5a55b88af94e148c30fe6f3d63f6bf%20%3D%20new%20L.BeautifyIcon.icon%28%0A%20%20%20%20%20%20%20%20%20%20%20%20%20%20%20%20%7B%22backgroundColor%22%3A%20%22black%22%2C%20%22borderColor%22%3A%20%22%23000%22%2C%20%22borderWidth%22%3A%203%2C%20%22icon%22%3A%20%22info%22%2C%20%22innerIconStyle%22%3A%20%22%22%2C%20%22isAlphaNumericIcon%22%3A%20false%2C%20%22spin%22%3A%20false%2C%20%22textColor%22%3A%20%22white%22%7D%0A%20%20%20%20%20%20%20%20%20%20%20%20%29%0A%20%20%20%20%20%20%20%20%20%20%20%20marker_96dec8dabe8344348fab082c2e6e15cb.setIcon%28beautify_icon_6a5a55b88af94e148c30fe6f3d63f6bf%29%3B%0A%20%20%20%20%20%20%20%20%0A%20%20%20%20%0A%20%20%20%20%20%20%20%20var%20popup_2c2169713b234d029f751bb885c2420c%20%3D%20L.popup%28%7B%22maxWidth%22%3A%20%22100%25%22%7D%29%3B%0A%0A%20%20%20%20%20%20%20%20%0A%20%20%20%20%20%20%20%20%20%20%20%20var%20html_1397c01b42be4845a20c26a9668bc670%20%3D%20%24%28%60%3Cdiv%20id%3D%22html_1397c01b42be4845a20c26a9668bc670%22%20style%3D%22width%3A%20100.0%25%3B%20height%3A%20100.0%25%3B%22%3EAmsterdam%3C/div%3E%60%29%5B0%5D%3B%0A%20%20%20%20%20%20%20%20%20%20%20%20popup_2c2169713b234d029f751bb885c2420c.setContent%28html_1397c01b42be4845a20c26a9668bc670%29%3B%0A%20%20%20%20%20%20%20%20%0A%0A%20%20%20%20%20%20%20%20marker_96dec8dabe8344348fab082c2e6e15cb.bindPopup%28popup_2c2169713b234d029f751bb885c2420c%29%0A%20%20%20%20%20%20%20%20%3B%0A%0A%20%20%20%20%20%20%20%20%0A%20%20%20%20%0A%20%20%20%20%0A%20%20%20%20%20%20%20%20%20%20%20%20var%20marker_a081d60129ef4699aa689e38f28abf41%20%3D%20L.marker%28%0A%20%20%20%20%20%20%20%20%20%20%20%20%20%20%20%20%5B52.092876%2C%205.10448%5D%2C%0A%20%20%20%20%20%20%20%20%20%20%20%20%20%20%20%20%7B%7D%0A%20%20%20%20%20%20%20%20%20%20%20%20%29.addTo%28map_cb0e08cd93b7485db043457ce4aec755%29%3B%0A%20%20%20%20%20%20%20%20%0A%20%20%20%20%0A%20%20%20%20%20%20%20%20%20%20%20%20var%20beautify_icon_13d86c3729634dd5b46c9910606f1ae2%20%3D%20new%20L.BeautifyIcon.icon%28%0A%20%20%20%20%20%20%20%20%20%20%20%20%20%20%20%20%7B%22backgroundColor%22%3A%20%22black%22%2C%20%22borderColor%22%3A%20%22%23000%22%2C%20%22borderWidth%22%3A%203%2C%20%22icon%22%3A%20%22info%22%2C%20%22innerIconStyle%22%3A%20%22%22%2C%20%22isAlphaNumericIcon%22%3A%20false%2C%20%22spin%22%3A%20false%2C%20%22textColor%22%3A%20%22white%22%7D%0A%20%20%20%20%20%20%20%20%20%20%20%20%29%0A%20%20%20%20%20%20%20%20%20%20%20%20marker_a081d60129ef4699aa689e38f28abf41.setIcon%28beautify_icon_13d86c3729634dd5b46c9910606f1ae2%29%3B%0A%20%20%20%20%20%20%20%20%0A%20%20%20%20%0A%20%20%20%20%20%20%20%20var%20popup_b0c597a4d6d647139e94009b20895a22%20%3D%20L.popup%28%7B%22maxWidth%22%3A%20%22100%25%22%7D%29%3B%0A%0A%20%20%20%20%20%20%20%20%0A%20%20%20%20%20%20%20%20%20%20%20%20var%20html_4226c08b73bd46ecbd6d0996b2fe8358%20%3D%20%24%28%60%3Cdiv%20id%3D%22html_4226c08b73bd46ecbd6d0996b2fe8358%22%20style%3D%22width%3A%20100.0%25%3B%20height%3A%20100.0%25%3B%22%3EUtrecht%3C/div%3E%60%29%5B0%5D%3B%0A%20%20%20%20%20%20%20%20%20%20%20%20popup_b0c597a4d6d647139e94009b20895a22.setContent%28html_4226c08b73bd46ecbd6d0996b2fe8358%29%3B%0A%20%20%20%20%20%20%20%20%0A%0A%20%20%20%20%20%20%20%20marker_a081d60129ef4699aa689e38f28abf41.bindPopup%28popup_b0c597a4d6d647139e94009b20895a22%29%0A%20%20%20%20%20%20%20%20%3B%0A%0A%20%20%20%20%20%20%20%20%0A%20%20%20%20%0A%20%20%20%20%0A%20%20%20%20%20%20%20%20%20%20%20%20var%20marker_b5929439ca174b0890aa2c96c15def0a%20%3D%20L.marker%28%0A%20%20%20%20%20%20%20%20%20%20%20%20%20%20%20%20%5B52.078663%2C%204.288788%5D%2C%0A%20%20%20%20%20%20%20%20%20%20%20%20%20%20%20%20%7B%7D%0A%20%20%20%20%20%20%20%20%20%20%20%20%29.addTo%28map_cb0e08cd93b7485db043457ce4aec755%29%3B%0A%20%20%20%20%20%20%20%20%0A%20%20%20%20%0A%20%20%20%20%20%20%20%20%20%20%20%20var%20beautify_icon_4e83bd4e9554408586051c78537a4633%20%3D%20new%20L.BeautifyIcon.icon%28%0A%20%20%20%20%20%20%20%20%20%20%20%20%20%20%20%20%7B%22backgroundColor%22%3A%20%22black%22%2C%20%22borderColor%22%3A%20%22%23000%22%2C%20%22borderWidth%22%3A%203%2C%20%22icon%22%3A%20%22info%22%2C%20%22innerIconStyle%22%3A%20%22%22%2C%20%22isAlphaNumericIcon%22%3A%20false%2C%20%22spin%22%3A%20false%2C%20%22textColor%22%3A%20%22white%22%7D%0A%20%20%20%20%20%20%20%20%20%20%20%20%29%0A%20%20%20%20%20%20%20%20%20%20%20%20marker_b5929439ca174b0890aa2c96c15def0a.setIcon%28beautify_icon_4e83bd4e9554408586051c78537a4633%29%3B%0A%20%20%20%20%20%20%20%20%0A%20%20%20%20%0A%20%20%20%20%20%20%20%20var%20popup_0d078289cc1047faa715c38c7c97aef5%20%3D%20L.popup%28%7B%22maxWidth%22%3A%20%22100%25%22%7D%29%3B%0A%0A%20%20%20%20%20%20%20%20%0A%20%20%20%20%20%20%20%20%20%20%20%20var%20html_906e8f7c97644491a426e98ebdfc57b5%20%3D%20%24%28%60%3Cdiv%20id%3D%22html_906e8f7c97644491a426e98ebdfc57b5%22%20style%3D%22width%3A%20100.0%25%3B%20height%3A%20100.0%25%3B%22%3EDen%20Haag%3C/div%3E%60%29%5B0%5D%3B%0A%20%20%20%20%20%20%20%20%20%20%20%20popup_0d078289cc1047faa715c38c7c97aef5.setContent%28html_906e8f7c97644491a426e98ebdfc57b5%29%3B%0A%20%20%20%20%20%20%20%20%0A%0A%20%20%20%20%20%20%20%20marker_b5929439ca174b0890aa2c96c15def0a.bindPopup%28popup_0d078289cc1047faa715c38c7c97aef5%29%0A%20%20%20%20%20%20%20%20%3B%0A%0A%20%20%20%20%20%20%20%20%0A%20%20%20%20%0A%20%20%20%20%0A%20%20%20%20%20%20%20%20%20%20%20%20var%20marker_d5624236a49c4555b544caa82059cb4c%20%3D%20L.marker%28%0A%20%20%20%20%20%20%20%20%20%20%20%20%20%20%20%20%5B51.9225%2C%204.47917%5D%2C%0A%20%20%20%20%20%20%20%20%20%20%20%20%20%20%20%20%7B%7D%0A%20%20%20%20%20%20%20%20%20%20%20%20%29.addTo%28map_cb0e08cd93b7485db043457ce4aec755%29%3B%0A%20%20%20%20%20%20%20%20%0A%20%20%20%20%0A%20%20%20%20%20%20%20%20%20%20%20%20var%20beautify_icon_0c223925c52b4cf3b17c45ca1e625803%20%3D%20new%20L.BeautifyIcon.icon%28%0A%20%20%20%20%20%20%20%20%20%20%20%20%20%20%20%20%7B%22backgroundColor%22%3A%20%22black%22%2C%20%22borderColor%22%3A%20%22%23000%22%2C%20%22borderWidth%22%3A%203%2C%20%22icon%22%3A%20%22info%22%2C%20%22innerIconStyle%22%3A%20%22%22%2C%20%22isAlphaNumericIcon%22%3A%20false%2C%20%22spin%22%3A%20false%2C%20%22textColor%22%3A%20%22white%22%7D%0A%20%20%20%20%20%20%20%20%20%20%20%20%29%0A%20%20%20%20%20%20%20%20%20%20%20%20marker_d5624236a49c4555b544caa82059cb4c.setIcon%28beautify_icon_0c223925c52b4cf3b17c45ca1e625803%29%3B%0A%20%20%20%20%20%20%20%20%0A%20%20%20%20%0A%20%20%20%20%20%20%20%20var%20popup_797e633197b441a59dd599aa9b5873ec%20%3D%20L.popup%28%7B%22maxWidth%22%3A%20%22100%25%22%7D%29%3B%0A%0A%20%20%20%20%20%20%20%20%0A%20%20%20%20%20%20%20%20%20%20%20%20var%20html_90e5eec5c09243ef8e4e1cf561580d31%20%3D%20%24%28%60%3Cdiv%20id%3D%22html_90e5eec5c09243ef8e4e1cf561580d31%22%20style%3D%22width%3A%20100.0%25%3B%20height%3A%20100.0%25%3B%22%3ERotterdam%3C/div%3E%60%29%5B0%5D%3B%0A%20%20%20%20%20%20%20%20%20%20%20%20popup_797e633197b441a59dd599aa9b5873ec.setContent%28html_90e5eec5c09243ef8e4e1cf561580d31%29%3B%0A%20%20%20%20%20%20%20%20%0A%0A%20%20%20%20%20%20%20%20marker_d5624236a49c4555b544caa82059cb4c.bindPopup%28popup_797e633197b441a59dd599aa9b5873ec%29%0A%20%20%20%20%20%20%20%20%3B%0A%0A%20%20%20%20%20%20%20%20%0A%20%20%20%20%0A%20%20%20%20%0A%20%20%20%20%20%20%20%20%20%20%20%20var%20marker_96c7913c54824c31a096e1d88f95d16a%20%3D%20L.marker%28%0A%20%20%20%20%20%20%20%20%20%20%20%20%20%20%20%20%5B53.61239%2C%20-0.22219%5D%2C%0A%20%20%20%20%20%20%20%20%20%20%20%20%20%20%20%20%7B%7D%0A%20%20%20%20%20%20%20%20%20%20%20%20%29.addTo%28map_cb0e08cd93b7485db043457ce4aec755%29%3B%0A%20%20%20%20%20%20%20%20%0A%20%20%20%20%0A%20%20%20%20%20%20%20%20%20%20%20%20var%20beautify_icon_d166bb7e772a4456bf64405a59b986df%20%3D%20new%20L.BeautifyIcon.icon%28%0A%20%20%20%20%20%20%20%20%20%20%20%20%20%20%20%20%7B%22backgroundColor%22%3A%20%22black%22%2C%20%22borderColor%22%3A%20%22%23000%22%2C%20%22borderWidth%22%3A%203%2C%20%22icon%22%3A%20%22info%22%2C%20%22innerIconStyle%22%3A%20%22%22%2C%20%22isAlphaNumericIcon%22%3A%20false%2C%20%22spin%22%3A%20false%2C%20%22textColor%22%3A%20%22white%22%7D%0A%20%20%20%20%20%20%20%20%20%20%20%20%29%0A%20%20%20%20%20%20%20%20%20%20%20%20marker_96c7913c54824c31a096e1d88f95d16a.setIcon%28beautify_icon_d166bb7e772a4456bf64405a59b986df%29%3B%0A%20%20%20%20%20%20%20%20%0A%20%20%20%20%0A%20%20%20%20%20%20%20%20var%20popup_bab19d340c9e416fb59fbeab107bf736%20%3D%20L.popup%28%7B%22maxWidth%22%3A%20%22100%25%22%7D%29%3B%0A%0A%20%20%20%20%20%20%20%20%0A%20%20%20%20%20%20%20%20%20%20%20%20var%20html_d79cf5e20ced485d8d17abfa23a8333c%20%3D%20%24%28%60%3Cdiv%20id%3D%22html_d79cf5e20ced485d8d17abfa23a8333c%22%20style%3D%22width%3A%20100.0%25%3B%20height%3A%20100.0%25%3B%22%3EImmingham%3C/div%3E%60%29%5B0%5D%3B%0A%20%20%20%20%20%20%20%20%20%20%20%20popup_bab19d340c9e416fb59fbeab107bf736.setContent%28html_d79cf5e20ced485d8d17abfa23a8333c%29%3B%0A%20%20%20%20%20%20%20%20%0A%0A%20%20%20%20%20%20%20%20marker_96c7913c54824c31a096e1d88f95d16a.bindPopup%28popup_bab19d340c9e416fb59fbeab107bf736%29%0A%20%20%20%20%20%20%20%20%3B%0A%0A%20%20%20%20%20%20%20%20%0A%20%20%20%20%0A%20%20%20%20%0A%20%20%20%20%20%20%20%20%20%20%20%20var%20marker_80b59cf7082f45cfbd9bad45bb0d3e46%20%3D%20L.marker%28%0A%20%20%20%20%20%20%20%20%20%20%20%20%20%20%20%20%5B53.52285%2C%20-1.13116%5D%2C%0A%20%20%20%20%20%20%20%20%20%20%20%20%20%20%20%20%7B%7D%0A%20%20%20%20%20%20%20%20%20%20%20%20%29.addTo%28map_cb0e08cd93b7485db043457ce4aec755%29%3B%0A%20%20%20%20%20%20%20%20%0A%20%20%20%20%0A%20%20%20%20%20%20%20%20%20%20%20%20var%20beautify_icon_1b74541b4676413db3f816556f1e4350%20%3D%20new%20L.BeautifyIcon.icon%28%0A%20%20%20%20%20%20%20%20%20%20%20%20%20%20%20%20%7B%22backgroundColor%22%3A%20%22black%22%2C%20%22borderColor%22%3A%20%22%23000%22%2C%20%22borderWidth%22%3A%203%2C%20%22icon%22%3A%20%22info%22%2C%20%22innerIconStyle%22%3A%20%22%22%2C%20%22isAlphaNumericIcon%22%3A%20false%2C%20%22spin%22%3A%20false%2C%20%22textColor%22%3A%20%22white%22%7D%0A%20%20%20%20%20%20%20%20%20%20%20%20%29%0A%20%20%20%20%20%20%20%20%20%20%20%20marker_80b59cf7082f45cfbd9bad45bb0d3e46.setIcon%28beautify_icon_1b74541b4676413db3f816556f1e4350%29%3B%0A%20%20%20%20%20%20%20%20%0A%20%20%20%20%0A%20%20%20%20%20%20%20%20var%20popup_a15c1375fcd2447fadbf42e8df4308aa%20%3D%20L.popup%28%7B%22maxWidth%22%3A%20%22100%25%22%7D%29%3B%0A%0A%20%20%20%20%20%20%20%20%0A%20%20%20%20%20%20%20%20%20%20%20%20var%20html_5bfef9e8370548198d908361bfb2741f%20%3D%20%24%28%60%3Cdiv%20id%3D%22html_5bfef9e8370548198d908361bfb2741f%22%20style%3D%22width%3A%20100.0%25%3B%20height%3A%20100.0%25%3B%22%3EDoncaster%3C/div%3E%60%29%5B0%5D%3B%0A%20%20%20%20%20%20%20%20%20%20%20%20popup_a15c1375fcd2447fadbf42e8df4308aa.setContent%28html_5bfef9e8370548198d908361bfb2741f%29%3B%0A%20%20%20%20%20%20%20%20%0A%0A%20%20%20%20%20%20%20%20marker_80b59cf7082f45cfbd9bad45bb0d3e46.bindPopup%28popup_a15c1375fcd2447fadbf42e8df4308aa%29%0A%20%20%20%20%20%20%20%20%3B%0A%0A%20%20%20%20%20%20%20%20%0A%20%20%20%20%0A%20%20%20%20%0A%20%20%20%20%20%20%20%20%20%20%20%20var%20marker_6d7677541cbb48cf97702529d0cbf244%20%3D%20L.marker%28%0A%20%20%20%20%20%20%20%20%20%20%20%20%20%20%20%20%5B51.509865%2C%20-0.118092%5D%2C%0A%20%20%20%20%20%20%20%20%20%20%20%20%20%20%20%20%7B%7D%0A%20%20%20%20%20%20%20%20%20%20%20%20%29.addTo%28map_cb0e08cd93b7485db043457ce4aec755%29%3B%0A%20%20%20%20%20%20%20%20%0A%20%20%20%20%0A%20%20%20%20%20%20%20%20%20%20%20%20var%20beautify_icon_1ad4d0271c18402cb4826ee2255a3c66%20%3D%20new%20L.BeautifyIcon.icon%28%0A%20%20%20%20%20%20%20%20%20%20%20%20%20%20%20%20%7B%22backgroundColor%22%3A%20%22black%22%2C%20%22borderColor%22%3A%20%22%23000%22%2C%20%22borderWidth%22%3A%203%2C%20%22icon%22%3A%20%22info%22%2C%20%22innerIconStyle%22%3A%20%22%22%2C%20%22isAlphaNumericIcon%22%3A%20false%2C%20%22spin%22%3A%20false%2C%20%22textColor%22%3A%20%22white%22%7D%0A%20%20%20%20%20%20%20%20%20%20%20%20%29%0A%20%20%20%20%20%20%20%20%20%20%20%20marker_6d7677541cbb48cf97702529d0cbf244.setIcon%28beautify_icon_1ad4d0271c18402cb4826ee2255a3c66%29%3B%0A%20%20%20%20%20%20%20%20%0A%20%20%20%20%0A%20%20%20%20%20%20%20%20var%20popup_ff705d6f86a6401884959fe2b5b74389%20%3D%20L.popup%28%7B%22maxWidth%22%3A%20%22100%25%22%7D%29%3B%0A%0A%20%20%20%20%20%20%20%20%0A%20%20%20%20%20%20%20%20%20%20%20%20var%20html_821a6771edc14402b6ff0ab4a41cb373%20%3D%20%24%28%60%3Cdiv%20id%3D%22html_821a6771edc14402b6ff0ab4a41cb373%22%20style%3D%22width%3A%20100.0%25%3B%20height%3A%20100.0%25%3B%22%3ELondon%3C/div%3E%60%29%5B0%5D%3B%0A%20%20%20%20%20%20%20%20%20%20%20%20popup_ff705d6f86a6401884959fe2b5b74389.setContent%28html_821a6771edc14402b6ff0ab4a41cb373%29%3B%0A%20%20%20%20%20%20%20%20%0A%0A%20%20%20%20%20%20%20%20marker_6d7677541cbb48cf97702529d0cbf244.bindPopup%28popup_ff705d6f86a6401884959fe2b5b74389%29%0A%20%20%20%20%20%20%20%20%3B%0A%0A%20%20%20%20%20%20%20%20%0A%20%20%20%20%0A%20%20%20%20%0A%20%20%20%20%20%20%20%20%20%20%20%20var%20marker_c5bfa6ff3a9a4de0a98350419c6acd1b%20%3D%20L.marker%28%0A%20%20%20%20%20%20%20%20%20%20%20%20%20%20%20%20%5B51.9775%2C%204.13333%5D%2C%0A%20%20%20%20%20%20%20%20%20%20%20%20%20%20%20%20%7B%7D%0A%20%20%20%20%20%20%20%20%20%20%20%20%29.addTo%28map_cb0e08cd93b7485db043457ce4aec755%29%3B%0A%20%20%20%20%20%20%20%20%0A%20%20%20%20%0A%20%20%20%20%20%20%20%20%20%20%20%20var%20beautify_icon_180f26abf0ef4dcf835b05df77dc6620%20%3D%20new%20L.BeautifyIcon.icon%28%0A%20%20%20%20%20%20%20%20%20%20%20%20%20%20%20%20%7B%22backgroundColor%22%3A%20%22black%22%2C%20%22borderColor%22%3A%20%22%23000%22%2C%20%22borderWidth%22%3A%203%2C%20%22icon%22%3A%20%22info%22%2C%20%22innerIconStyle%22%3A%20%22%22%2C%20%22isAlphaNumericIcon%22%3A%20false%2C%20%22spin%22%3A%20false%2C%20%22textColor%22%3A%20%22white%22%7D%0A%20%20%20%20%20%20%20%20%20%20%20%20%29%0A%20%20%20%20%20%20%20%20%20%20%20%20marker_c5bfa6ff3a9a4de0a98350419c6acd1b.setIcon%28beautify_icon_180f26abf0ef4dcf835b05df77dc6620%29%3B%0A%20%20%20%20%20%20%20%20%0A%20%20%20%20%0A%20%20%20%20%20%20%20%20var%20popup_696eeab249b74994b865ee946b4da12e%20%3D%20L.popup%28%7B%22maxWidth%22%3A%20%22100%25%22%7D%29%3B%0A%0A%20%20%20%20%20%20%20%20%0A%20%20%20%20%20%20%20%20%20%20%20%20var%20html_d2262df81fe142b1a048db12e94dca23%20%3D%20%24%28%60%3Cdiv%20id%3D%22html_d2262df81fe142b1a048db12e94dca23%22%20style%3D%22width%3A%20100.0%25%3B%20height%3A%20100.0%25%3B%22%3EHoek%20van%20Holland%3C/div%3E%60%29%5B0%5D%3B%0A%20%20%20%20%20%20%20%20%20%20%20%20popup_696eeab249b74994b865ee946b4da12e.setContent%28html_d2262df81fe142b1a048db12e94dca23%29%3B%0A%20%20%20%20%20%20%20%20%0A%0A%20%20%20%20%20%20%20%20marker_c5bfa6ff3a9a4de0a98350419c6acd1b.bindPopup%28popup_696eeab249b74994b865ee946b4da12e%29%0A%20%20%20%20%20%20%20%20%3B%0A%0A%20%20%20%20%20%20%20%20%0A%20%20%20%20%0A%20%20%20%20%0A%20%20%20%20%20%20%20%20%20%20%20%20var%20marker_755b6650444b4078af1801362edddcb3%20%3D%20L.marker%28%0A%20%20%20%20%20%20%20%20%20%20%20%20%20%20%20%20%5B51.96375%2C%201.3511%5D%2C%0A%20%20%20%20%20%20%20%20%20%20%20%20%20%20%20%20%7B%7D%0A%20%20%20%20%20%20%20%20%20%20%20%20%29.addTo%28map_cb0e08cd93b7485db043457ce4aec755%29%3B%0A%20%20%20%20%20%20%20%20%0A%20%20%20%20%0A%20%20%20%20%20%20%20%20%20%20%20%20var%20beautify_icon_c56cca81e35945f8b59b2c7bef242b97%20%3D%20new%20L.BeautifyIcon.icon%28%0A%20%20%20%20%20%20%20%20%20%20%20%20%20%20%20%20%7B%22backgroundColor%22%3A%20%22black%22%2C%20%22borderColor%22%3A%20%22%23000%22%2C%20%22borderWidth%22%3A%203%2C%20%22icon%22%3A%20%22info%22%2C%20%22innerIconStyle%22%3A%20%22%22%2C%20%22isAlphaNumericIcon%22%3A%20false%2C%20%22spin%22%3A%20false%2C%20%22textColor%22%3A%20%22white%22%7D%0A%20%20%20%20%20%20%20%20%20%20%20%20%29%0A%20%20%20%20%20%20%20%20%20%20%20%20marker_755b6650444b4078af1801362edddcb3.setIcon%28beautify_icon_c56cca81e35945f8b59b2c7bef242b97%29%3B%0A%20%20%20%20%20%20%20%20%0A%20%20%20%20%0A%20%20%20%20%20%20%20%20var%20popup_a6f230880e94478ca4d7711b8fed7f98%20%3D%20L.popup%28%7B%22maxWidth%22%3A%20%22100%25%22%7D%29%3B%0A%0A%20%20%20%20%20%20%20%20%0A%20%20%20%20%20%20%20%20%20%20%20%20var%20html_57e883a97c634ad2aa7290b3633ff4b6%20%3D%20%24%28%60%3Cdiv%20id%3D%22html_57e883a97c634ad2aa7290b3633ff4b6%22%20style%3D%22width%3A%20100.0%25%3B%20height%3A%20100.0%25%3B%22%3EFelixstowe%3C/div%3E%60%29%5B0%5D%3B%0A%20%20%20%20%20%20%20%20%20%20%20%20popup_a6f230880e94478ca4d7711b8fed7f98.setContent%28html_57e883a97c634ad2aa7290b3633ff4b6%29%3B%0A%20%20%20%20%20%20%20%20%0A%0A%20%20%20%20%20%20%20%20marker_755b6650444b4078af1801362edddcb3.bindPopup%28popup_a6f230880e94478ca4d7711b8fed7f98%29%0A%20%20%20%20%20%20%20%20%3B%0A%0A%20%20%20%20%20%20%20%20%0A%20%20%20%20%0A%20%20%20%20%0A%20%20%20%20%20%20%20%20%20%20%20%20var%20marker_7198327dbc894be9ab912ad250babb53%20%3D%20L.marker%28%0A%20%20%20%20%20%20%20%20%20%20%20%20%20%20%20%20%5B52.05917%2C%201.15545%5D%2C%0A%20%20%20%20%20%20%20%20%20%20%20%20%20%20%20%20%7B%7D%0A%20%20%20%20%20%20%20%20%20%20%20%20%29.addTo%28map_cb0e08cd93b7485db043457ce4aec755%29%3B%0A%20%20%20%20%20%20%20%20%0A%20%20%20%20%0A%20%20%20%20%20%20%20%20%20%20%20%20var%20beautify_icon_4bf5ab318d9d4dfebae44446745220b8%20%3D%20new%20L.BeautifyIcon.icon%28%0A%20%20%20%20%20%20%20%20%20%20%20%20%20%20%20%20%7B%22backgroundColor%22%3A%20%22black%22%2C%20%22borderColor%22%3A%20%22%23000%22%2C%20%22borderWidth%22%3A%203%2C%20%22icon%22%3A%20%22info%22%2C%20%22innerIconStyle%22%3A%20%22%22%2C%20%22isAlphaNumericIcon%22%3A%20false%2C%20%22spin%22%3A%20false%2C%20%22textColor%22%3A%20%22white%22%7D%0A%20%20%20%20%20%20%20%20%20%20%20%20%29%0A%20%20%20%20%20%20%20%20%20%20%20%20marker_7198327dbc894be9ab912ad250babb53.setIcon%28beautify_icon_4bf5ab318d9d4dfebae44446745220b8%29%3B%0A%20%20%20%20%20%20%20%20%0A%20%20%20%20%0A%20%20%20%20%20%20%20%20var%20popup_75518595f21f4064b877d3e66eea7bd8%20%3D%20L.popup%28%7B%22maxWidth%22%3A%20%22100%25%22%7D%29%3B%0A%0A%20%20%20%20%20%20%20%20%0A%20%20%20%20%20%20%20%20%20%20%20%20var%20html_62f3df67f07d47508a736056cf2122d3%20%3D%20%24%28%60%3Cdiv%20id%3D%22html_62f3df67f07d47508a736056cf2122d3%22%20style%3D%22width%3A%20100.0%25%3B%20height%3A%20100.0%25%3B%22%3EIpswich%3C/div%3E%60%29%5B0%5D%3B%0A%20%20%20%20%20%20%20%20%20%20%20%20popup_75518595f21f4064b877d3e66eea7bd8.setContent%28html_62f3df67f07d47508a736056cf2122d3%29%3B%0A%20%20%20%20%20%20%20%20%0A%0A%20%20%20%20%20%20%20%20marker_7198327dbc894be9ab912ad250babb53.bindPopup%28popup_75518595f21f4064b877d3e66eea7bd8%29%0A%20%20%20%20%20%20%20%20%3B%0A%0A%20%20%20%20%20%20%20%20%0A%20%20%20%20%0A%20%20%20%20%0A%20%20%20%20%20%20%20%20%20%20%20%20var%20marker_82610790dbd9481a85e900f99c211210%20%3D%20L.marker%28%0A%20%20%20%20%20%20%20%20%20%20%20%20%20%20%20%20%5B51.88921%2C%200.90421%5D%2C%0A%20%20%20%20%20%20%20%20%20%20%20%20%20%20%20%20%7B%7D%0A%20%20%20%20%20%20%20%20%20%20%20%20%29.addTo%28map_cb0e08cd93b7485db043457ce4aec755%29%3B%0A%20%20%20%20%20%20%20%20%0A%20%20%20%20%0A%20%20%20%20%20%20%20%20%20%20%20%20var%20beautify_icon_f7a96290a3404a67a5ce6030fa6c6bdb%20%3D%20new%20L.BeautifyIcon.icon%28%0A%20%20%20%20%20%20%20%20%20%20%20%20%20%20%20%20%7B%22backgroundColor%22%3A%20%22black%22%2C%20%22borderColor%22%3A%20%22%23000%22%2C%20%22borderWidth%22%3A%203%2C%20%22icon%22%3A%20%22info%22%2C%20%22innerIconStyle%22%3A%20%22%22%2C%20%22isAlphaNumericIcon%22%3A%20false%2C%20%22spin%22%3A%20false%2C%20%22textColor%22%3A%20%22white%22%7D%0A%20%20%20%20%20%20%20%20%20%20%20%20%29%0A%20%20%20%20%20%20%20%20%20%20%20%20marker_82610790dbd9481a85e900f99c211210.setIcon%28beautify_icon_f7a96290a3404a67a5ce6030fa6c6bdb%29%3B%0A%20%20%20%20%20%20%20%20%0A%20%20%20%20%0A%20%20%20%20%20%20%20%20var%20popup_27761fc346144decbf9c62a47624e120%20%3D%20L.popup%28%7B%22maxWidth%22%3A%20%22100%25%22%7D%29%3B%0A%0A%20%20%20%20%20%20%20%20%0A%20%20%20%20%20%20%20%20%20%20%20%20var%20html_b7bd11967a2b4286a34b080aea1c0298%20%3D%20%24%28%60%3Cdiv%20id%3D%22html_b7bd11967a2b4286a34b080aea1c0298%22%20style%3D%22width%3A%20100.0%25%3B%20height%3A%20100.0%25%3B%22%3EColchester%3C/div%3E%60%29%5B0%5D%3B%0A%20%20%20%20%20%20%20%20%20%20%20%20popup_27761fc346144decbf9c62a47624e120.setContent%28html_b7bd11967a2b4286a34b080aea1c0298%29%3B%0A%20%20%20%20%20%20%20%20%0A%0A%20%20%20%20%20%20%20%20marker_82610790dbd9481a85e900f99c211210.bindPopup%28popup_27761fc346144decbf9c62a47624e120%29%0A%20%20%20%20%20%20%20%20%3B%0A%0A%20%20%20%20%20%20%20%20%0A%20%20%20%20%0A%20%20%20%20%0A%20%20%20%20%20%20%20%20%20%20%20%20var%20marker_a71f255fc21d4960b76883266e2abf5c%20%3D%20L.marker%28%0A%20%20%20%20%20%20%20%20%20%20%20%20%20%20%20%20%5B52.01667%2C%204.70833%5D%2C%0A%20%20%20%20%20%20%20%20%20%20%20%20%20%20%20%20%7B%7D%0A%20%20%20%20%20%20%20%20%20%20%20%20%29.addTo%28map_cb0e08cd93b7485db043457ce4aec755%29%3B%0A%20%20%20%20%20%20%20%20%0A%20%20%20%20%0A%20%20%20%20%20%20%20%20%20%20%20%20var%20beautify_icon_623765a2443e401db16fc67416f66d6f%20%3D%20new%20L.BeautifyIcon.icon%28%0A%20%20%20%20%20%20%20%20%20%20%20%20%20%20%20%20%7B%22backgroundColor%22%3A%20%22black%22%2C%20%22borderColor%22%3A%20%22%23000%22%2C%20%22borderWidth%22%3A%203%2C%20%22icon%22%3A%20%22info%22%2C%20%22innerIconStyle%22%3A%20%22%22%2C%20%22isAlphaNumericIcon%22%3A%20false%2C%20%22spin%22%3A%20false%2C%20%22textColor%22%3A%20%22white%22%7D%0A%20%20%20%20%20%20%20%20%20%20%20%20%29%0A%20%20%20%20%20%20%20%20%20%20%20%20marker_a71f255fc21d4960b76883266e2abf5c.setIcon%28beautify_icon_623765a2443e401db16fc67416f66d6f%29%3B%0A%20%20%20%20%20%20%20%20%0A%20%20%20%20%0A%20%20%20%20%20%20%20%20var%20popup_a62607e39c8d44639139beffb5bd48b3%20%3D%20L.popup%28%7B%22maxWidth%22%3A%20%22100%25%22%7D%29%3B%0A%0A%20%20%20%20%20%20%20%20%0A%20%20%20%20%20%20%20%20%20%20%20%20var%20html_cb6df3e46b4d46f9a33901c897055707%20%3D%20%24%28%60%3Cdiv%20id%3D%22html_cb6df3e46b4d46f9a33901c897055707%22%20style%3D%22width%3A%20100.0%25%3B%20height%3A%20100.0%25%3B%22%3EGouda%3C/div%3E%60%29%5B0%5D%3B%0A%20%20%20%20%20%20%20%20%20%20%20%20popup_a62607e39c8d44639139beffb5bd48b3.setContent%28html_cb6df3e46b4d46f9a33901c897055707%29%3B%0A%20%20%20%20%20%20%20%20%0A%0A%20%20%20%20%20%20%20%20marker_a71f255fc21d4960b76883266e2abf5c.bindPopup%28popup_a62607e39c8d44639139beffb5bd48b3%29%0A%20%20%20%20%20%20%20%20%3B%0A%0A%20%20%20%20%20%20%20%20%0A%20%20%20%20%0A%3C/script%3E onload=\"this.contentDocument.open();this.contentDocument.write(    decodeURIComponent(this.getAttribute('data-html')));this.contentDocument.close();\" allowfullscreen webkitallowfullscreen mozallowfullscreen></iframe></div></div>"
      ],
      "text/plain": [
       "<folium.folium.Map at 0x1704ff6a220>"
      ]
     },
     "execution_count": 159,
     "metadata": {},
     "output_type": "execute_result"
    }
   ],
   "source": [
    "visualiserFolium(G, coordonneesvoisins)"
   ]
  },
  {
   "cell_type": "markdown",
   "metadata": {},
   "source": [
    "Partie 2"
   ]
  },
  {
   "cell_type": "code",
   "execution_count": 160,
   "metadata": {},
   "outputs": [],
   "source": [
    "class Noeud:\n",
    "\t\n",
    "\tdef __init__(self, name):\n",
    "\t\tself.name = name\n",
    "\t\t'''\n",
    "\t\t\tUn noeud a des attributs sous forme de dictionnaire pyton avec comme cle: une liste de \n",
    "\t\t\tcoordonnes (latitude, longitude), la taille de la population\n",
    "\t\t'''\n",
    "\t\tself.attributs = {}\n",
    "\t\t'''\n",
    "\t\t\tLa liste des voisins sera initialisée à la création des arcs dans le graphe\n",
    "\t\t'''\n",
    "\t\tself.listeNomVoisin = []\n",
    "\n",
    "\tdef setAttribut(self, key, values):\n",
    "\t\tself.attributs.update({key:values})\n",
    "\n",
    "\tdef getAttribut(self, key):\t\t\n",
    "\t\tif key not in self.attributs:\n",
    "\t\t\treturn \"Clé inexistante\"\n",
    "\t\telse:\n",
    "\t\t\treturn key + \" = \" + str(self.attributs[key])\n",
    "\n",
    "\tdef getName(self):\n",
    "\t\treturn self.name\n",
    "\n",
    "\t'''\n",
    "\tDeux noeuds sont égaux s'ils ont même nom\n",
    "\t'''\n",
    "\tdef egal(self, noeud):\n",
    "\t\tif(self.name == noeud.name):\n",
    "\t\t\treturn True\n",
    "\t\telse:\n",
    "\t\t\treturn False\n",
    "\t\n",
    "\tdef getCoutMin(self):\n",
    "\t\tnoeuds = transport_relationships[['src', 'dst', 'cost']].to_dict('index')\n",
    "\t\tcout = 500\n",
    "\t\tfor noeud in noeuds:\n",
    "\t\t\tif(noeuds[noeud]['src'] == self.name and noeuds[noeud]['cost'] < cout):\n",
    "\t\t\t\tcout = noeuds[noeud]['cost']\n",
    "\t\t\tif(noeuds[noeud]['dst'] == self.name and noeuds[noeud]['cost'] < cout):\n",
    "\t\t\t\tcout = noeuds[noeud]['cost']\n",
    "\t\tif cout != 500:\n",
    "\t\t\treturn \"Le coût minimal du noeud \\\"\" + self.name +\"\\\" est de : \" + str(cout)\n",
    "\t\telse:\n",
    "\t\t\treturn \"Le noeud \\\"\" + self.name +\"\\\" est introuvble\"\n",
    "\n",
    "\tdef getCout(self, noeud):\n",
    "\t\tnodes = transport_relationships[['src', 'dst', 'cost']].to_dict('index')\n",
    "\t\tcost = 0\n",
    "\t\tfor node in nodes:\n",
    "\t\t\tif((nodes[node]['src'] == self.name and nodes[node]['dst'] == noeud.name) or (nodes[node]['src'] == noeud.name and nodes[node]['dst'] == self.name)):\n",
    "\t\t\t\tcost = nodes[node]['cost']\n",
    "\t\t\n",
    "\t\tif cost != 0:\n",
    "\t\t\treturn cost\n",
    "\t\telse:\n",
    "\t\t\treturn \"L'un des noeuds est introuvable ou il n'existe pas de relation entre \\\"\" + self.name +\"\\\" et \\\"\" + noeud.name +\"\\\"\"\n",
    "\n",
    "# ok = Noeud(\"Hoek van Holland\")\n",
    "# yup = Noeud(\"Felixstowe\")\n",
    "# print(ok.name)\n",
    "# ok.getCoutMin()\n",
    "# yup.getCoutMin()\n",
    "# ok.getCout(yup)\n"
   ]
  },
  {
   "cell_type": "code",
   "execution_count": 161,
   "metadata": {},
   "outputs": [],
   "source": [
    "\n",
    "class Graphe:\n",
    "\tdef __init__(self):\n",
    "\t\tself.noeuds = []\n",
    "\t\tself.arcs = {}\n",
    "\t\n",
    "\tdef creerNoeuds(self, fichiernoeuds):\n",
    "\t\ttry:\n",
    "\t\t\ttransport_nodes = csv.reader(open(fichiernoeuds, 'r', newline=''))\n",
    "\t\t\tfor node in transport_nodes:\n",
    "\t\t\t\tif node[0] != 'id':\n",
    "\t\t\t\t\tnoeud = Noeud(node[0])\n",
    "\t\t\t\t\tnoeud.setAttribut(key='coordonnes', values=[node[1], node[2]])\n",
    "\t\t\t\t\tnoeud.setAttribut(key='population', values=node[3])\n",
    "\t\t\t\t\tself.noeuds.append(noeud)\n",
    "\t\t\t\t\tself.arcs.update({noeud.getName() : []})\n",
    "\t\texcept:\n",
    "\t\t\tprint(\"Impossible d'ouvrir le fichier \\'\"+ fichiernoeuds + \"\\'.\" )\n",
    "\t\t\treturn\n",
    "\n",
    "\t\tif(fichiernoeuds != 'transport-nodes.csv'):\n",
    "\t\t\tprint(\"Vous n'avez pas ouvert le bon fichier.\")\n",
    "\t\t\treturn\n",
    "\n",
    "\t\tliste_noms_noeuds = []\n",
    "\t\tfor noeud in self.noeuds:\n",
    "\t\t\tliste_noms_noeuds.append(noeud.getName())\n",
    "\t\tprint(liste_noms_noeuds)\n",
    "\t\t\n",
    "\tdef creerArc(self, fichierarcs):\n",
    "\t\ttry:\n",
    "\t\t\ttransport_relationships = csv.reader(open(fichierarcs, 'r', newline=''))\n",
    "\t\texcept:\n",
    "\t\t\tprint(\"Impossible d'ouvrir le fichier\\'\"+ fichierarcs + \"\\'.\")\n",
    "\t\t\treturn   \n",
    "\t\t\n",
    "\t\tif(fichierarcs != 'transport-relationships.csv'):\n",
    "\t\t\tprint(\"Vous n'avez pas ouvert le bon fichier.\")\n",
    "\t\t\treturn\n",
    "\n",
    "\t\tfor relation in transport_relationships:\n",
    "\t\t\tif relation[0] != 'src':\n",
    "\t\t\t\tfor noeud in self.noeuds:\n",
    "\t\t\t\t\tif(relation[0] == noeud.name):\n",
    "\t\t\t\t\t\tnoeud.listeNomVoisin.append(relation[1])\n",
    "\t\t\t\t\tif(relation[1] == noeud.name):\n",
    "\t\t\t\t\t\tnoeud.listeNomVoisin.append(relation[0])\n",
    "\n",
    "\t\tfor node in self.noeuds:\n",
    "\t\t\tvoisinList = []\n",
    "\t\t\tfor voisin in node.listeNomVoisin:\n",
    "\t\t\t\tvoisinList.append((voisin, node.getCout(Noeud(voisin))))\n",
    "\t\t\tself.arcs.update({node.getName() : voisinList})\n",
    "\n",
    "\t\tliste_arcs = []\n",
    "\t\tfor arc in transport_relationships:\n",
    "\t\t\tif arc[0] != \"src\":\n",
    "\t\t\t\tliste_arcs.append({\"src\":arc[0], \"dst\":arc[1], \"relationship\":arc[2], \"cost\":arc[3]})\n",
    "\t\t#return liste_arcs\n",
    "    \n",
    "\tdef getNoeud(self, name):\n",
    "\t\tfor noeud in self.noeuds:\n",
    "\t\t\tif(name == noeud.getName()):\n",
    "\t\t\t\treturn noeud\n",
    "\t\t\tif(name != noeud.getName() and noeud.getName() == self.noeuds[-1].getName()):\n",
    "\t\t\t\treturn \"Noeud introuvable\"\n",
    "\n",
    "\tdef getVoisins(self, noeud):\n",
    "\t\tvoisins = []\n",
    "\t\tfor node in  self.noeuds:\n",
    "\t\t\tif noeud.egal(node):\n",
    "\t\t\t\tvoisins.extend(node.listeNomVoisin)\n",
    "\t\treturn voisins\n",
    "\t\t\n",
    "\tdef getCoordonnesVoisins(self, noeud):\n",
    "\t\tcoordonneesvoisins = []\n",
    "\t\tfor voisin in self.getVoisins(noeud):\n",
    "\t\t\tcoordonneesvoisins.append(self.getNoeud(voisin.getName()).getAttribut(\"coordonnes\"))\n",
    "\t\treturn coordonneesvoisins\n",
    "\n",
    "\tdef visualiserFolium(self, locationpardefaut=[52.3791890, 4.899431], tiles='Stamen Toner', explored=None):\n",
    "\t\tpass"
   ]
  },
  {
   "cell_type": "code",
   "execution_count": 167,
   "metadata": {},
   "outputs": [
    {
     "name": "stdout",
     "output_type": "stream",
     "text": [
      "['Amsterdam', 'Utrecht', 'Den Haag', 'Immingham', 'Doncaster', 'Hoek van Holland', 'Felixstowe', 'Ipswich', 'Colchester', 'London', 'Rotterdam', 'Gouda']\n"
     ]
    },
    {
     "data": {
      "text/plain": [
       "{'Amsterdam': [('Utrecht', 46), ('Den Haag', 59), ('Immingham', 369)],\n",
       " 'Utrecht': [('Amsterdam', 46), ('Gouda', 35)],\n",
       " 'Den Haag': [('Amsterdam', 59),\n",
       "  ('Rotterdam', 26),\n",
       "  ('Hoek van Holland', 27),\n",
       "  ('Gouda', 32)],\n",
       " 'Immingham': [('Amsterdam', 369), ('Doncaster', 74)],\n",
       " 'Doncaster': [('Immingham', 74), ('London', 277)],\n",
       " 'Hoek van Holland': [('Den Haag', 27),\n",
       "  ('Felixstowe', 207),\n",
       "  ('Rotterdam', 33)],\n",
       " 'Felixstowe': [('Hoek van Holland', 207), ('Ipswich', 22)],\n",
       " 'Ipswich': [('Felixstowe', 22), ('Colchester', 32)],\n",
       " 'Colchester': [('Ipswich', 32), ('London', 106)],\n",
       " 'London': [('Doncaster', 277), ('Colchester', 106)],\n",
       " 'Rotterdam': [('Den Haag', 26), ('Gouda', 25), ('Hoek van Holland', 33)],\n",
       " 'Gouda': [('Rotterdam', 25), ('Utrecht', 35), ('Den Haag', 32)]}"
      ]
     },
     "execution_count": 167,
     "metadata": {},
     "output_type": "execute_result"
    }
   ],
   "source": [
    "G = Graphe()\n",
    "G.creerNoeuds('transport-nodes.csv')\n",
    "G.creerArc('transport-relationships.csv')\n",
    "\n",
    "\n"
   ]
  },
  {
   "cell_type": "markdown",
   "metadata": {},
   "source": [
    "Partie 3"
   ]
  },
  {
   "cell_type": "code",
   "execution_count": 163,
   "metadata": {},
   "outputs": [
    {
     "name": "stdout",
     "output_type": "stream",
     "text": [
      "['Khady', 'Dame', 'Mansour', 'Mamadou']\n",
      "['Dame', 'Mansour', 'Mamadou']\n"
     ]
    }
   ],
   "source": [
    "class Pile():\n",
    "\n",
    "    def __init__(self):\n",
    "        self.elements = []\n",
    "\n",
    "    '''\n",
    "    Insère un objet en tete de la pile\n",
    "    '''\n",
    "    def push(self, noeud):\n",
    "        # insertion du noeud à la 1ère position de la liste\n",
    "        self.elements.insert(0, noeud)\n",
    "    \n",
    "    '''\n",
    "    Retourne True si un noeud est dans la pile\n",
    "    '''\n",
    "    def contains_noeud(self, name):\n",
    "        for element in self.elements:\n",
    "            if(element.egal(name) == True):\n",
    "                return True\n",
    "        return False        \n",
    "        \n",
    "\n",
    "    '''\n",
    "    Retourne true si la pile est vide\n",
    "    '''\n",
    "    def empty(self):\n",
    "        if len(self.elements) == 0:\n",
    "            return True\n",
    "        return False\n",
    "    \n",
    "    '''\n",
    "    Retourne et supprime l'element en tete de pile\n",
    "    Retourne une exception si la pile est vide\n",
    "    '''\n",
    "    def remove(self):\n",
    "        try:\n",
    "            return self.elements.pop(0)\n",
    "        except:\n",
    "            print(\"Pile vide\")\n",
    "\n",
    "# Test des structures de données Pile et File\n",
    "f = Pile()\n",
    "f.push(\"Mamadou\")\n",
    "f.push(\"Mansour\")\n",
    "f.push(\"Dame\")\n",
    "f.push(\"Khady\")\n",
    "print(f.elements)\n",
    "f.remove()\n",
    "print(f.elements)"
   ]
  },
  {
   "cell_type": "code",
   "execution_count": 164,
   "metadata": {},
   "outputs": [
    {
     "name": "stdout",
     "output_type": "stream",
     "text": [
      "['Khady', 'Dame', 'Mansour', 'Mamadou']\n",
      "['Khady', 'Dame', 'Mansour']\n"
     ]
    }
   ],
   "source": [
    "class File(Pile):\n",
    "    def remove(self):\n",
    "        try:\n",
    "            return self.elements.pop()\n",
    "        except:\n",
    "            print(\"Suppression impossible\")\n",
    "            return\n",
    "\n",
    "p = File()\n",
    "p.push(\"Mamadou\")\n",
    "p.push(\"Mansour\")\n",
    "p.push(\"Dame\")\n",
    "p.push(\"Khady\")\n",
    "\n",
    "print(p.elements)\n",
    "p.remove()\n",
    "print(p.elements)"
   ]
  },
  {
   "cell_type": "markdown",
   "metadata": {},
   "source": [
    "Partie 4"
   ]
  },
  {
   "cell_type": "code",
   "execution_count": 165,
   "metadata": {},
   "outputs": [],
   "source": [
    "# def BFS(graphe:Graphe, noeud_source:Noeud, noeud_destination:Noeud):\n",
    "#     explored = File()\n",
    "#     frontiere = File()\n",
    "#     for voisin in graphe.getVoisins(noeud_source):\n",
    "#         frontiere.push(voisin)\n",
    "#     explored.push(noeud_source)\n",
    "#     if(noeud_destination.egal(noeud_source) == True):\n",
    "#         return noeud_source\n",
    "#     while(frontiere.empty() != True):\n",
    "#         remove = frontiere.remove()\n",
    "#         explored.push(remove)\n",
    "#         if(noeud_destination.egal(remove) == True):\n",
    "#             return remove\n",
    "#         voisins = graphe.getVoisins(remove)\n",
    "#         for voisin in voisins:\n",
    "#             if (explored.contains_noeud(voisin) == False and frontiere.contains_noeud(voisin) == False):\n",
    "#                 frontiere.push(voisin)\n",
    "#     print('Pas de solution')\n",
    "#     return explored"
   ]
  },
  {
   "cell_type": "code",
   "execution_count": 166,
   "metadata": {},
   "outputs": [
    {
     "name": "stdout",
     "output_type": "stream",
     "text": [
      "['Amsterdam', 'Utrecht', 'Den Haag', 'Immingham', 'Doncaster', 'Hoek van Holland', 'Felixstowe', 'Ipswich', 'Colchester', 'London', 'Rotterdam', 'Gouda']\n"
     ]
    }
   ],
   "source": [
    "def parcoursDFS(graphe:Graphe, noeud_source:Noeud, noeud_destination:Noeud):\n",
    "    explored = File()\n",
    "    frontiere = Pile()\n",
    "    for voisin in graphe.getVoisins(noeud_source):\n",
    "        frontiere.push(voisin)\n",
    "    explored.push(noeud_source)\n",
    "    if(noeud_destination.egal(noeud_source) == True):\n",
    "        return explored\n",
    "    while(frontiere.empty() != True):\n",
    "        remove = frontiere.remove()\n",
    "        explored.push(remove)\n",
    "        if(noeud_destination.egal(remove) == True):\n",
    "            return explored\n",
    "        voisins = graphe.getVoisins(remove)\n",
    "        for voisin in voisins:\n",
    "            if (explored.contains_noeud(voisin) == False and frontiere.contains_noeud(voisin) == False):\n",
    "                frontiere.push(voisin)\n",
    "    print('Pas de solution')\n",
    "    return\n",
    "\n",
    "G = Graphe()\n",
    "G.creerNoeuds('transport-nodes.csv')\n",
    "am = Noeud('London')\n",
    "ok = Noeud('Gouda')\n",
    "\n",
    "# for noeud in parcoursDFS(G, am, ok).elements:\n",
    "#     print(noeud.name)\n"
   ]
  }
 ],
 "metadata": {
  "interpreter": {
   "hash": "86efe56002bc932536efa6cd8ca5d98c3b4cfcdfd7af6801c8dd8dd106e111f4"
  },
  "kernelspec": {
   "display_name": "Python 3",
   "language": "python",
   "name": "python3"
  },
  "language_info": {
   "codemirror_mode": {
    "name": "ipython",
    "version": 3
   },
   "file_extension": ".py",
   "mimetype": "text/x-python",
   "name": "python",
   "nbconvert_exporter": "python",
   "pygments_lexer": "ipython3",
   "version": "3.9.5"
  }
 },
 "nbformat": 4,
 "nbformat_minor": 2
}
